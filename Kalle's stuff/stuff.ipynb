{
 "cells": [
  {
   "cell_type": "code",
   "execution_count": 1,
   "metadata": {},
   "outputs": [],
   "source": [
    "import pandas as pd\n",
    "import seaborn as sns\n",
    "import matplotlib.pyplot as plt\n",
    "from pandasgui import show"
   ]
  },
  {
   "cell_type": "markdown",
   "metadata": {},
   "source": [
    "- For heat correlations, Phik-matrix use recommended by Tuomas\n",
    "- pd.melt\n",
    "- to rotate the x-axis labels: plt.xticks(rotation=45); (the ; at the end important)\n",
    "- Weather data\n",
    "- Steel production, how much does the weather effect it?\n",
    "- Multiline for visualization\n",
    "    - highlights\n",
    "- Research papers, compare different times of the year, \n",
    "- Compare good casts and bad casts\n",
    "- Min() and Max() of the stopper\n",
    "\n",
    "- Stopper position rapidly changing\n",
    "- The flow throughput value\n",
    "- This is when clogging happen\n",
    "\n",
    "- When does clogging happen and how can we predict it?\n",
    "\n",
    "https://www.veed.io"
   ]
  },
  {
   "cell_type": "code",
   "execution_count": 2,
   "metadata": {},
   "outputs": [
    {
     "name": "stderr",
     "output_type": "stream",
     "text": [
      "C:\\Users\\kalle\\AppData\\Local\\Temp\\ipykernel_28464\\1320071282.py:1: DtypeWarning: Columns (42) have mixed types. Specify dtype option on import or set low_memory=False.\n",
      "  df = pd.read_csv('../data/sulatto_fulldata2025_version2.csv', delimiter=\";\", index_col=None)\n"
     ]
    }
   ],
   "source": [
    "df = pd.read_csv('../data/sulatto_fulldata2025_version2.csv', delimiter=\";\", index_col=None)"
   ]
  },
  {
   "cell_type": "code",
   "execution_count": 3,
   "metadata": {},
   "outputs": [],
   "source": [
    "# load the weather data that matches partially with our steel data (originally FMI)\n",
    "df_weather = pd.read_csv(\"../tornio_weather.csv\")"
   ]
  },
  {
   "cell_type": "code",
   "execution_count": 4,
   "metadata": {},
   "outputs": [],
   "source": [
    "df['End time'] = df['End time'].str[:-3]"
   ]
  },
  {
   "cell_type": "code",
   "execution_count": 5,
   "metadata": {},
   "outputs": [
    {
     "data": {
      "text/html": [
       "<div>\n",
       "<style scoped>\n",
       "    .dataframe tbody tr th:only-of-type {\n",
       "        vertical-align: middle;\n",
       "    }\n",
       "\n",
       "    .dataframe tbody tr th {\n",
       "        vertical-align: top;\n",
       "    }\n",
       "\n",
       "    .dataframe thead th {\n",
       "        text-align: right;\n",
       "    }\n",
       "</style>\n",
       "<table border=\"1\" class=\"dataframe\">\n",
       "  <thead>\n",
       "    <tr style=\"text-align: right;\">\n",
       "      <th></th>\n",
       "      <th>Material Type</th>\n",
       "      <th>End time</th>\n",
       "      <th>Route</th>\n",
       "      <th>Weight</th>\n",
       "      <th>Length</th>\n",
       "      <th>Thickness</th>\n",
       "      <th>Width</th>\n",
       "      <th>Grade</th>\n",
       "      <th>Quality Status</th>\n",
       "      <th>Seg No</th>\n",
       "      <th>...</th>\n",
       "      <th>CCM.MD. Level std_dev east Value</th>\n",
       "      <th>CCM.MD. Mold width Value</th>\n",
       "      <th>CCM.MIX. Concentration factor Value</th>\n",
       "      <th>CCM.STR. Speed - Mold avg Value</th>\n",
       "      <th>CCM.STR. Throughput Value</th>\n",
       "      <th>CCM.SLAB. Slab counter heat Value</th>\n",
       "      <th>CCM.SLAB. Slab counter sequence Value</th>\n",
       "      <th>HeatNo_in_Cast</th>\n",
       "      <th>SlabNo_in_Heat</th>\n",
       "      <th>CastNo</th>\n",
       "    </tr>\n",
       "  </thead>\n",
       "  <tbody>\n",
       "    <tr>\n",
       "      <th>0</th>\n",
       "      <td>slab</td>\n",
       "      <td>2023-02-06 01:05</td>\n",
       "      <td>Route 1</td>\n",
       "      <td>25783</td>\n",
       "      <td>10,63</td>\n",
       "      <td>202,000</td>\n",
       "      <td>1539</td>\n",
       "      <td>720-1</td>\n",
       "      <td>ERROR</td>\n",
       "      <td>1</td>\n",
       "      <td>...</td>\n",
       "      <td>12,50</td>\n",
       "      <td>1539.0</td>\n",
       "      <td>0,000</td>\n",
       "      <td>0,50</td>\n",
       "      <td>1,18</td>\n",
       "      <td>1.0</td>\n",
       "      <td>1.0</td>\n",
       "      <td>2821</td>\n",
       "      <td>1</td>\n",
       "      <td>100.0</td>\n",
       "    </tr>\n",
       "    <tr>\n",
       "      <th>1</th>\n",
       "      <td>slab</td>\n",
       "      <td>2023-02-06 01:05</td>\n",
       "      <td>Route 1</td>\n",
       "      <td>25783</td>\n",
       "      <td>10,63</td>\n",
       "      <td>202,000</td>\n",
       "      <td>1539</td>\n",
       "      <td>720-1</td>\n",
       "      <td>ERROR</td>\n",
       "      <td>2</td>\n",
       "      <td>...</td>\n",
       "      <td>12,50</td>\n",
       "      <td>1539.0</td>\n",
       "      <td>0,000</td>\n",
       "      <td>0,54</td>\n",
       "      <td>1,28</td>\n",
       "      <td>1.0</td>\n",
       "      <td>1.0</td>\n",
       "      <td>2821</td>\n",
       "      <td>1</td>\n",
       "      <td>100.0</td>\n",
       "    </tr>\n",
       "    <tr>\n",
       "      <th>2</th>\n",
       "      <td>slab</td>\n",
       "      <td>2023-02-06 01:05</td>\n",
       "      <td>Route 1</td>\n",
       "      <td>25783</td>\n",
       "      <td>10,63</td>\n",
       "      <td>202,000</td>\n",
       "      <td>1539</td>\n",
       "      <td>720-1</td>\n",
       "      <td>ERROR</td>\n",
       "      <td>3</td>\n",
       "      <td>...</td>\n",
       "      <td>12,50</td>\n",
       "      <td>1539.0</td>\n",
       "      <td>0,000</td>\n",
       "      <td>0,56</td>\n",
       "      <td>1,33</td>\n",
       "      <td>1.0</td>\n",
       "      <td>1.0</td>\n",
       "      <td>2821</td>\n",
       "      <td>1</td>\n",
       "      <td>100.0</td>\n",
       "    </tr>\n",
       "    <tr>\n",
       "      <th>3</th>\n",
       "      <td>slab</td>\n",
       "      <td>2023-02-06 01:05</td>\n",
       "      <td>Route 1</td>\n",
       "      <td>25783</td>\n",
       "      <td>10,63</td>\n",
       "      <td>202,000</td>\n",
       "      <td>1539</td>\n",
       "      <td>720-1</td>\n",
       "      <td>ERROR</td>\n",
       "      <td>4</td>\n",
       "      <td>...</td>\n",
       "      <td>12,50</td>\n",
       "      <td>1539.0</td>\n",
       "      <td>0,000</td>\n",
       "      <td>0,57</td>\n",
       "      <td>1,37</td>\n",
       "      <td>1.0</td>\n",
       "      <td>1.0</td>\n",
       "      <td>2821</td>\n",
       "      <td>1</td>\n",
       "      <td>100.0</td>\n",
       "    </tr>\n",
       "    <tr>\n",
       "      <th>4</th>\n",
       "      <td>slab</td>\n",
       "      <td>2023-02-06 01:05</td>\n",
       "      <td>Route 1</td>\n",
       "      <td>25783</td>\n",
       "      <td>10,63</td>\n",
       "      <td>202,000</td>\n",
       "      <td>1539</td>\n",
       "      <td>720-1</td>\n",
       "      <td>ERROR</td>\n",
       "      <td>5</td>\n",
       "      <td>...</td>\n",
       "      <td>12,50</td>\n",
       "      <td>1539.0</td>\n",
       "      <td>0,000</td>\n",
       "      <td>0,59</td>\n",
       "      <td>1,41</td>\n",
       "      <td>1.0</td>\n",
       "      <td>1.0</td>\n",
       "      <td>2821</td>\n",
       "      <td>1</td>\n",
       "      <td>100.0</td>\n",
       "    </tr>\n",
       "    <tr>\n",
       "      <th>...</th>\n",
       "      <td>...</td>\n",
       "      <td>...</td>\n",
       "      <td>...</td>\n",
       "      <td>...</td>\n",
       "      <td>...</td>\n",
       "      <td>...</td>\n",
       "      <td>...</td>\n",
       "      <td>...</td>\n",
       "      <td>...</td>\n",
       "      <td>...</td>\n",
       "      <td>...</td>\n",
       "      <td>...</td>\n",
       "      <td>...</td>\n",
       "      <td>...</td>\n",
       "      <td>...</td>\n",
       "      <td>...</td>\n",
       "      <td>...</td>\n",
       "      <td>...</td>\n",
       "      <td>...</td>\n",
       "      <td>...</td>\n",
       "      <td>...</td>\n",
       "    </tr>\n",
       "    <tr>\n",
       "      <th>677810</th>\n",
       "      <td>slab</td>\n",
       "      <td>2023-04-30 16:03</td>\n",
       "      <td>Route 1</td>\n",
       "      <td>13145</td>\n",
       "      <td>6,51</td>\n",
       "      <td>202,000</td>\n",
       "      <td>1284</td>\n",
       "      <td>720-1</td>\n",
       "      <td>ERROR</td>\n",
       "      <td>62</td>\n",
       "      <td>...</td>\n",
       "      <td>5,50</td>\n",
       "      <td>1284.0</td>\n",
       "      <td>0,000</td>\n",
       "      <td>0,30</td>\n",
       "      <td>0,64</td>\n",
       "      <td>8.0</td>\n",
       "      <td>53.0</td>\n",
       "      <td>1050</td>\n",
       "      <td>8</td>\n",
       "      <td>NaN</td>\n",
       "    </tr>\n",
       "    <tr>\n",
       "      <th>677811</th>\n",
       "      <td>slab</td>\n",
       "      <td>2023-04-30 16:03</td>\n",
       "      <td>Route 1</td>\n",
       "      <td>13145</td>\n",
       "      <td>6,51</td>\n",
       "      <td>202,000</td>\n",
       "      <td>1284</td>\n",
       "      <td>720-1</td>\n",
       "      <td>ERROR</td>\n",
       "      <td>63</td>\n",
       "      <td>...</td>\n",
       "      <td>5,50</td>\n",
       "      <td>1284.0</td>\n",
       "      <td>0,000</td>\n",
       "      <td>0,27</td>\n",
       "      <td>0,56</td>\n",
       "      <td>8.0</td>\n",
       "      <td>53.0</td>\n",
       "      <td>1050</td>\n",
       "      <td>8</td>\n",
       "      <td>NaN</td>\n",
       "    </tr>\n",
       "    <tr>\n",
       "      <th>677812</th>\n",
       "      <td>slab</td>\n",
       "      <td>2023-04-30 16:03</td>\n",
       "      <td>Route 1</td>\n",
       "      <td>13145</td>\n",
       "      <td>6,51</td>\n",
       "      <td>202,000</td>\n",
       "      <td>1284</td>\n",
       "      <td>720-1</td>\n",
       "      <td>ERROR</td>\n",
       "      <td>64</td>\n",
       "      <td>...</td>\n",
       "      <td>5,50</td>\n",
       "      <td>1284.0</td>\n",
       "      <td>0,000</td>\n",
       "      <td>0,26</td>\n",
       "      <td>0,51</td>\n",
       "      <td>8.0</td>\n",
       "      <td>53.0</td>\n",
       "      <td>1050</td>\n",
       "      <td>8</td>\n",
       "      <td>NaN</td>\n",
       "    </tr>\n",
       "    <tr>\n",
       "      <th>677813</th>\n",
       "      <td>slab</td>\n",
       "      <td>2023-04-30 16:03</td>\n",
       "      <td>Route 1</td>\n",
       "      <td>13145</td>\n",
       "      <td>6,51</td>\n",
       "      <td>202,000</td>\n",
       "      <td>1284</td>\n",
       "      <td>720-1</td>\n",
       "      <td>ERROR</td>\n",
       "      <td>65</td>\n",
       "      <td>...</td>\n",
       "      <td>5,50</td>\n",
       "      <td>1284.0</td>\n",
       "      <td>0,000</td>\n",
       "      <td>0,24</td>\n",
       "      <td>0,45</td>\n",
       "      <td>8.0</td>\n",
       "      <td>53.0</td>\n",
       "      <td>1050</td>\n",
       "      <td>8</td>\n",
       "      <td>NaN</td>\n",
       "    </tr>\n",
       "    <tr>\n",
       "      <th>677814</th>\n",
       "      <td>slab</td>\n",
       "      <td>2023-04-30 16:03</td>\n",
       "      <td>Route 1</td>\n",
       "      <td>13145</td>\n",
       "      <td>6,51</td>\n",
       "      <td>202,000</td>\n",
       "      <td>1284</td>\n",
       "      <td>720-1</td>\n",
       "      <td>ERROR</td>\n",
       "      <td>66</td>\n",
       "      <td>...</td>\n",
       "      <td>5,50</td>\n",
       "      <td>1284.0</td>\n",
       "      <td>0,000</td>\n",
       "      <td>0,24</td>\n",
       "      <td>0,45</td>\n",
       "      <td>8.0</td>\n",
       "      <td>53.0</td>\n",
       "      <td>1050</td>\n",
       "      <td>8</td>\n",
       "      <td>NaN</td>\n",
       "    </tr>\n",
       "  </tbody>\n",
       "</table>\n",
       "<p>677815 rows × 44 columns</p>\n",
       "</div>"
      ],
      "text/plain": [
       "       Material Type          End time    Route  Weight Length Thickness  \\\n",
       "0               slab  2023-02-06 01:05  Route 1   25783  10,63   202,000   \n",
       "1               slab  2023-02-06 01:05  Route 1   25783  10,63   202,000   \n",
       "2               slab  2023-02-06 01:05  Route 1   25783  10,63   202,000   \n",
       "3               slab  2023-02-06 01:05  Route 1   25783  10,63   202,000   \n",
       "4               slab  2023-02-06 01:05  Route 1   25783  10,63   202,000   \n",
       "...              ...               ...      ...     ...    ...       ...   \n",
       "677810          slab  2023-04-30 16:03  Route 1   13145   6,51   202,000   \n",
       "677811          slab  2023-04-30 16:03  Route 1   13145   6,51   202,000   \n",
       "677812          slab  2023-04-30 16:03  Route 1   13145   6,51   202,000   \n",
       "677813          slab  2023-04-30 16:03  Route 1   13145   6,51   202,000   \n",
       "677814          slab  2023-04-30 16:03  Route 1   13145   6,51   202,000   \n",
       "\n",
       "        Width  Grade Quality Status  Seg No  ...  \\\n",
       "0        1539  720-1          ERROR       1  ...   \n",
       "1        1539  720-1          ERROR       2  ...   \n",
       "2        1539  720-1          ERROR       3  ...   \n",
       "3        1539  720-1          ERROR       4  ...   \n",
       "4        1539  720-1          ERROR       5  ...   \n",
       "...       ...    ...            ...     ...  ...   \n",
       "677810   1284  720-1          ERROR      62  ...   \n",
       "677811   1284  720-1          ERROR      63  ...   \n",
       "677812   1284  720-1          ERROR      64  ...   \n",
       "677813   1284  720-1          ERROR      65  ...   \n",
       "677814   1284  720-1          ERROR      66  ...   \n",
       "\n",
       "       CCM.MD. Level std_dev east Value CCM.MD. Mold width Value  \\\n",
       "0                                 12,50                   1539.0   \n",
       "1                                 12,50                   1539.0   \n",
       "2                                 12,50                   1539.0   \n",
       "3                                 12,50                   1539.0   \n",
       "4                                 12,50                   1539.0   \n",
       "...                                 ...                      ...   \n",
       "677810                             5,50                   1284.0   \n",
       "677811                             5,50                   1284.0   \n",
       "677812                             5,50                   1284.0   \n",
       "677813                             5,50                   1284.0   \n",
       "677814                             5,50                   1284.0   \n",
       "\n",
       "        CCM.MIX. Concentration factor Value  CCM.STR. Speed - Mold avg Value  \\\n",
       "0                                     0,000                             0,50   \n",
       "1                                     0,000                             0,54   \n",
       "2                                     0,000                             0,56   \n",
       "3                                     0,000                             0,57   \n",
       "4                                     0,000                             0,59   \n",
       "...                                     ...                              ...   \n",
       "677810                                0,000                             0,30   \n",
       "677811                                0,000                             0,27   \n",
       "677812                                0,000                             0,26   \n",
       "677813                                0,000                             0,24   \n",
       "677814                                0,000                             0,24   \n",
       "\n",
       "        CCM.STR. Throughput Value CCM.SLAB. Slab counter heat Value  \\\n",
       "0                            1,18                               1.0   \n",
       "1                            1,28                               1.0   \n",
       "2                            1,33                               1.0   \n",
       "3                            1,37                               1.0   \n",
       "4                            1,41                               1.0   \n",
       "...                           ...                               ...   \n",
       "677810                       0,64                               8.0   \n",
       "677811                       0,56                               8.0   \n",
       "677812                       0,51                               8.0   \n",
       "677813                       0,45                               8.0   \n",
       "677814                       0,45                               8.0   \n",
       "\n",
       "       CCM.SLAB. Slab counter sequence Value HeatNo_in_Cast SlabNo_in_Heat  \\\n",
       "0                                        1.0           2821              1   \n",
       "1                                        1.0           2821              1   \n",
       "2                                        1.0           2821              1   \n",
       "3                                        1.0           2821              1   \n",
       "4                                        1.0           2821              1   \n",
       "...                                      ...            ...            ...   \n",
       "677810                                  53.0           1050              8   \n",
       "677811                                  53.0           1050              8   \n",
       "677812                                  53.0           1050              8   \n",
       "677813                                  53.0           1050              8   \n",
       "677814                                  53.0           1050              8   \n",
       "\n",
       "       CastNo  \n",
       "0       100.0  \n",
       "1       100.0  \n",
       "2       100.0  \n",
       "3       100.0  \n",
       "4       100.0  \n",
       "...       ...  \n",
       "677810    NaN  \n",
       "677811    NaN  \n",
       "677812    NaN  \n",
       "677813    NaN  \n",
       "677814    NaN  \n",
       "\n",
       "[677815 rows x 44 columns]"
      ]
     },
     "execution_count": 5,
     "metadata": {},
     "output_type": "execute_result"
    }
   ],
   "source": [
    "df"
   ]
  },
  {
   "cell_type": "code",
   "execution_count": 6,
   "metadata": {},
   "outputs": [
    {
     "data": {
      "text/plain": [
       "Route\n",
       "Route 1    677815\n",
       "Name: count, dtype: int64"
      ]
     },
     "execution_count": 6,
     "metadata": {},
     "output_type": "execute_result"
    }
   ],
   "source": [
    "df['Route'].value_counts()"
   ]
  },
  {
   "cell_type": "code",
   "execution_count": 7,
   "metadata": {},
   "outputs": [
    {
     "data": {
      "text/plain": [
       "149"
      ]
     },
     "execution_count": 7,
     "metadata": {},
     "output_type": "execute_result"
    }
   ],
   "source": [
    "df['CastNo'].nunique()"
   ]
  },
  {
   "cell_type": "code",
   "execution_count": 8,
   "metadata": {},
   "outputs": [
    {
     "data": {
      "text/plain": [
       "1011"
      ]
     },
     "execution_count": 8,
     "metadata": {},
     "output_type": "execute_result"
    }
   ],
   "source": [
    "df['HeatNo_in_Cast'].nunique()"
   ]
  },
  {
   "cell_type": "code",
   "execution_count": 9,
   "metadata": {},
   "outputs": [
    {
     "data": {
      "text/plain": [
       "CCM.SLAB. Slab counter heat Value\n",
       "2.0    111623\n",
       "3.0    111180\n",
       "4.0    110786\n",
       "1.0    109509\n",
       "5.0    108686\n",
       "6.0     88034\n",
       "7.0     28377\n",
       "8.0      5120\n",
       "9.0       949\n",
       "Name: count, dtype: int64"
      ]
     },
     "execution_count": 9,
     "metadata": {},
     "output_type": "execute_result"
    }
   ],
   "source": [
    "df['CCM.SLAB. Slab counter heat Value'].value_counts()"
   ]
  },
  {
   "cell_type": "code",
   "execution_count": 10,
   "metadata": {},
   "outputs": [
    {
     "data": {
      "text/plain": [
       "50"
      ]
     },
     "execution_count": 10,
     "metadata": {},
     "output_type": "execute_result"
    }
   ],
   "source": [
    "first_fifty = df[df['CastNo'].between(100, 149)]\n",
    "first_fifty['CastNo'].nunique()"
   ]
  },
  {
   "cell_type": "code",
   "execution_count": 11,
   "metadata": {},
   "outputs": [
    {
     "data": {
      "text/plain": [
       "50"
      ]
     },
     "execution_count": 11,
     "metadata": {},
     "output_type": "execute_result"
    }
   ],
   "source": [
    "second_fifty = df[df['CastNo'].between(150, 199)]\n",
    "second_fifty['CastNo'].nunique()"
   ]
  },
  {
   "cell_type": "code",
   "execution_count": 12,
   "metadata": {},
   "outputs": [
    {
     "data": {
      "text/plain": [
       "49"
      ]
     },
     "execution_count": 12,
     "metadata": {},
     "output_type": "execute_result"
    }
   ],
   "source": [
    "third_fifty = df[df['CastNo'].between(200, 249)]\n",
    "third_fifty['CastNo'].nunique()"
   ]
  },
  {
   "cell_type": "code",
   "execution_count": 13,
   "metadata": {},
   "outputs": [],
   "source": [
    "# we are going to use multi-line charts + df.melt() to visualize the process better\n",
    "# see \"ricebeefcoffee_revisited.ipynb\" from lecture 9 examples on how to work\n",
    "# with multiline + df.melt()\n",
    "\n",
    "# list all columns you want to see in the multiline chart\n",
    "columns_all = [\n",
    "       'Length', 'Thickness', 'Width', 'Seg No',\n",
    "       'CCM.TD. Heat counter Value',\n",
    "       'CCM.TD. Temperature liquidus Value',\n",
    "       'CCM.TD. Temperature liquidus Dynaphase Value',\n",
    "       'CCM.TD. Steel weight in tundish Value',\n",
    "       'CCM.TD. Tundish inflow Value', 'CCM.TD. Stopper Last Position Value',\n",
    "       'CCM.TD. Stopper position max Value',\n",
    "       'CCM.TD. Stopper position min Value',\n",
    "       'CCM.TD. Stopper pos chg max segment Value',\n",
    "       'CCM.TD. Stopper position chg 10 s Value',\n",
    "       'CCM.TD. Stopper position slab chg Value', 'CCM.TD. Superheat Value',\n",
    "       'CCM.TD. Temperature tundish Value', \n",
    "       'CCM.SEN. Immersion depth Value', 'CCM.MD. Level average Value',\n",
    "       'CCM.MD. Level change (max-min) Value', 'CCM.MD. Level std_dev Value',\n",
    "       'CCM.MD. Level std_dev west Value', 'CCM.MD. Level std_dev east Value',\n",
    "       'CCM.MD. Mold width Value', 'CCM.MIX. Concentration factor Value',\n",
    "       'CCM.STR. Speed - Mold avg Value', 'CCM.STR. Throughput Value',\n",
    "       'CCM.SLAB. Slab counter heat Value',\n",
    "       'CCM.SLAB. Slab counter sequence Value']\n",
    "\n",
    "# here we make more specific set of columns for easier visualization\n",
    "\n",
    "# IF WE TRY TO VISUALIZE ALL VARIABLES AT ONCE, we can see only straight\n",
    "# lines because the chart has to zoom out too much\n",
    "\n",
    "# group of columns with very high values\n",
    "columns_high = ['CCM.MD. Level average Value', 'Air pressure mean [hPa]']\n",
    "\n",
    "# group of columns with average value ranges \n",
    "columns_middle = ['CCM.TD. Stopper Last Position Value',\n",
    "       'CCM.TD. Stopper position max Value',\n",
    "       'CCM.TD. Stopper position min Value',\n",
    "       'CCM.TD. Steel weight in tundish Value',\n",
    "       'Relative humidity mean [%]']\n",
    "\n",
    "# group of columns with small value ranges\n",
    "columns_low = ['CCM.TD. Tundish inflow Value',\n",
    "                'CCM.MD. Level change (max-min) Value', 'CCM.MD. Level std_dev Value',\n",
    "       'CCM.MD. Level std_dev west Value', 'CCM.MD. Level std_dev east Value', 'CCM.MIX. Concentration factor Value',\n",
    "       'CCM.STR. Speed - Mold avg Value', 'CCM.STR. Throughput Value',]\n",
    "\n",
    "\n",
    "# even less columns in this version with small value ranges\n",
    "columns_low2 = ['CCM.TD. Tundish inflow Value',\n",
    "                'CCM.MD. Level std_dev Value',\n",
    "       'CCM.STR. Speed - Mold avg Value', 'CCM.STR. Throughput Value', 'Dew-point temperature mean [°C]']"
   ]
  },
  {
   "cell_type": "code",
   "execution_count": 14,
   "metadata": {},
   "outputs": [
    {
     "data": {
      "text/plain": [
       "CastNo\n",
       "122.0    7400\n",
       "178.0    7308\n",
       "152.0    7270\n",
       "142.0    7218\n",
       "134.0    7122\n",
       "         ... \n",
       "138.0     584\n",
       "100.0     552\n",
       "101.0     540\n",
       "169.0     342\n",
       "181.0      60\n",
       "Name: count, Length: 149, dtype: int64"
      ]
     },
     "execution_count": 14,
     "metadata": {},
     "output_type": "execute_result"
    }
   ],
   "source": [
    "df['CastNo'].value_counts()"
   ]
  },
  {
   "cell_type": "markdown",
   "metadata": {},
   "source": [
    "#### Create melt versions of some of the columns defined above"
   ]
  },
  {
   "cell_type": "code",
   "execution_count": 15,
   "metadata": {},
   "outputs": [
    {
     "data": {
      "text/plain": [
       "Material Type                                               slab\n",
       "End time                                        2023-02-07 21:59\n",
       "Route                                                    Route 1\n",
       "Weight                                                     25793\n",
       "Length                                                     10,63\n",
       "Thickness                                                202,000\n",
       "Width                                                       1543\n",
       "Grade                                                      720-1\n",
       "Quality Status                                                OK\n",
       "Seg No                                                        88\n",
       "Seg from                                                     8,7\n",
       "Seg to                                                       8,8\n",
       "CCM.TD. Heat counter Value                                   6.0\n",
       "CCM.TD. Temperature liquidus Value                        1455.0\n",
       "CCM.TD. Temperature liquidus Dynaphase Value              1460.0\n",
       "CCM.TD. TD internals type Value                    No controller\n",
       "CCM.TD. Slag powder Value                                    Yes\n",
       "CCM.TD. Stopper Type Value                                    T1\n",
       "CCM.TD. Steel weight in tundish Value                       21,0\n",
       "CCM.TD. Tundish inflow Value                                2,69\n",
       "CCM.TD. Stopper Last Position Value                        66,80\n",
       "CCM.TD. Stopper position max Value                         68,20\n",
       "CCM.TD. Stopper position min Value                         65,50\n",
       "CCM.TD. Stopper pos chg max segment Value                   2,70\n",
       "CCM.TD. Stopper position chg 10 s Value                     2,60\n",
       "CCM.TD. Stopper position slab chg Value                     0,80\n",
       "CCM.TD. Superheat Value                                     40.0\n",
       "CCM.TD. Temperature tundish Value                         1495.0\n",
       "CCM.SEN. SEN Type Value                                Product 1\n",
       "CCM.SEN. Immersion depth Value                             174.0\n",
       "CCM.MD. Level average Value                               810,11\n",
       "CCM.MD. Level change (max-min) Value                        5,90\n",
       "CCM.MD. Level std_dev Value                                 1,50\n",
       "CCM.MD. Level std_dev west Value                            2,90\n",
       "CCM.MD. Level std_dev east Value                            1,80\n",
       "CCM.MD. Mold width Value                                  1543.0\n",
       "CCM.MIX. Concentration factor Value                        0,000\n",
       "CCM.STR. Speed - Mold avg Value                             1,18\n",
       "CCM.STR. Throughput Value                                   2,82\n",
       "CCM.SLAB. Slab counter heat Value                            2.0\n",
       "CCM.SLAB. Slab counter sequence Value                       31.0\n",
       "HeatNo_in_Cast                                              4571\n",
       "SlabNo_in_Heat                                                 2\n",
       "CastNo                                                     102.0\n",
       "Name: 4376, dtype: object"
      ]
     },
     "execution_count": 15,
     "metadata": {},
     "output_type": "execute_result"
    }
   ],
   "source": [
    "df.iloc[4376]"
   ]
  },
  {
   "cell_type": "code",
   "execution_count": 16,
   "metadata": {},
   "outputs": [],
   "source": [
    "# for i in df['CastNo'].unique():\n",
    "\n",
    "#     selected_id = i\n",
    "    \n",
    "#     if selected_id == 150.:\n",
    "#         break\n",
    "#     df_single = df[df['CastNo'] == selected_id]\n",
    "    \n",
    "#     df_single['ProcessNo'] = df_single['HeatNo_in_Cast'].astype(str) + \\\n",
    "#                          df_single['SlabNo_in_Heat'].astype(str).str.zfill(2) + \\\n",
    "#                          df_single['Seg No'].astype(str).str.zfill(2) \n",
    "\n",
    "\n",
    "#     df_melt_high = pd.melt(df_single, id_vars=[\"ProcessNo\"], value_vars=columns_high,\n",
    "#                   var_name=\"Measurement\", value_name=\"Value\")\n",
    "    \n",
    "#     fig, axes = plt.subplots(figsize=(12, 8))\n",
    "\n",
    "#     plot = sns.lineplot(data=df_melt_high, x=\"ProcessNo\", y=\"Value\", hue=\"Measurement\", errorbar=None)\n",
    "#     plot.invert_yaxis()\n",
    "#     sns.move_legend(plot, \"upper left\", bbox_to_anchor=(1,1))\n",
    "\n",
    "#     # reduce the number of x-labels\n",
    "#     n = len(df_single) / 20\n",
    "#     [l.set_visible(False) for (i, l) in enumerate(plot.xaxis.get_ticklabels()) if i % n != 0]\n",
    "\n",
    "#     # NOTE! using ; in the following line will suppress the Jupyter Notebook \n",
    "#     # default printing behavior of the last line (no idea why this happens!)\n",
    "#     plt.xticks(rotation=45);\n",
    "#     # Adjust layout to prevent overlapping titles\n",
    "#     plt.tight_layout()\n",
    "#     plt.title(f'Cast: {i}')\n",
    "    \n",
    "#     filename = os.path.join('graphs/high_graphs', f'cast_{i}.png')\n",
    "\n",
    "#     plt.savefig(filename)\n",
    "\n",
    "#     plt.close()\n",
    "\n",
    "\n",
    "    \n"
   ]
  },
  {
   "cell_type": "code",
   "execution_count": 17,
   "metadata": {},
   "outputs": [
    {
     "data": {
      "text/plain": [
       "10"
      ]
     },
     "execution_count": 17,
     "metadata": {},
     "output_type": "execute_result"
    }
   ],
   "source": [
    "df['CCM.TD. Temperature liquidus Dynaphase Value'].nunique()"
   ]
  },
  {
   "cell_type": "code",
   "execution_count": null,
   "metadata": {},
   "outputs": [],
   "source": []
  }
 ],
 "metadata": {
  "kernelspec": {
   "display_name": ".venv",
   "language": "python",
   "name": "python3"
  },
  "language_info": {
   "codemirror_mode": {
    "name": "ipython",
    "version": 3
   },
   "file_extension": ".py",
   "mimetype": "text/x-python",
   "name": "python",
   "nbconvert_exporter": "python",
   "pygments_lexer": "ipython3",
   "version": "3.10.11"
  }
 },
 "nbformat": 4,
 "nbformat_minor": 2
}
