{
 "cells": [
  {
   "cell_type": "markdown",
   "metadata": {},
   "source": [
    "### Example, full version steel data, version 3 + weather data"
   ]
  },
  {
   "cell_type": "code",
   "execution_count": 4,
   "metadata": {},
   "outputs": [
    {
     "name": "stderr",
     "output_type": "stream",
     "text": [
      "C:\\Users\\nbuha\\AppData\\Local\\Temp\\ipykernel_21220\\1896978295.py:10: DtypeWarning: Columns (42) have mixed types. Specify dtype option on import or set low_memory=False.\n",
      "  df = pd.read_csv(path, delimiter=\";\")\n"
     ]
    }
   ],
   "source": [
    "import pandas as pd\n",
    "import numpy as np\n",
    "import seaborn as sns\n",
    "import matplotlib.pyplot as plt\n",
    "from sklearn.preprocessing import MinMaxScaler\n",
    "import os\n",
    "\n",
    "# replace this with your own file path in your own file system\n",
    "path = \"../data/sulatto_fulldata2025_version2.csv\"\n",
    "df = pd.read_csv(path, delimiter=\";\")"
   ]
  },
  {
   "cell_type": "code",
   "execution_count": 5,
   "metadata": {},
   "outputs": [
    {
     "name": "stdout",
     "output_type": "stream",
     "text": [
      "c:\\Users\\nbuha\\Project-Data-Analytics-and-Visualization\\.venv\\Scripts\\python.exe\n"
     ]
    }
   ],
   "source": [
    "import sys\n",
    "print(sys.executable)"
   ]
  },
  {
   "cell_type": "code",
   "execution_count": 6,
   "metadata": {},
   "outputs": [],
   "source": [
    "# load the weather data that matches partially with our steel data (originally FMI)\n",
    "df_weather = pd.read_csv(\"../tornio_weather.csv\")"
   ]
  },
  {
   "cell_type": "code",
   "execution_count": 7,
   "metadata": {},
   "outputs": [
    {
     "data": {
      "text/html": [
       "<div>\n",
       "<style scoped>\n",
       "    .dataframe tbody tr th:only-of-type {\n",
       "        vertical-align: middle;\n",
       "    }\n",
       "\n",
       "    .dataframe tbody tr th {\n",
       "        vertical-align: top;\n",
       "    }\n",
       "\n",
       "    .dataframe thead th {\n",
       "        text-align: right;\n",
       "    }\n",
       "</style>\n",
       "<table border=\"1\" class=\"dataframe\">\n",
       "  <thead>\n",
       "    <tr style=\"text-align: right;\">\n",
       "      <th></th>\n",
       "      <th>Weight</th>\n",
       "      <th>Width</th>\n",
       "      <th>Seg No</th>\n",
       "      <th>CCM.TD. Heat counter Value</th>\n",
       "      <th>CCM.TD. Temperature liquidus Value</th>\n",
       "      <th>CCM.TD. Temperature liquidus Dynaphase Value</th>\n",
       "      <th>CCM.TD. Superheat Value</th>\n",
       "      <th>CCM.TD. Temperature tundish Value</th>\n",
       "      <th>CCM.SEN. Immersion depth Value</th>\n",
       "      <th>CCM.MD. Mold width Value</th>\n",
       "      <th>CCM.SLAB. Slab counter heat Value</th>\n",
       "      <th>CCM.SLAB. Slab counter sequence Value</th>\n",
       "      <th>HeatNo_in_Cast</th>\n",
       "      <th>CastNo</th>\n",
       "    </tr>\n",
       "  </thead>\n",
       "  <tbody>\n",
       "    <tr>\n",
       "      <th>count</th>\n",
       "      <td>677815.000000</td>\n",
       "      <td>677815.000000</td>\n",
       "      <td>677815.000000</td>\n",
       "      <td>677299.000000</td>\n",
       "      <td>677299.0</td>\n",
       "      <td>677299.000000</td>\n",
       "      <td>677299.000000</td>\n",
       "      <td>677299.000000</td>\n",
       "      <td>677299.000000</td>\n",
       "      <td>677299.000000</td>\n",
       "      <td>674264.000000</td>\n",
       "      <td>674496.000000</td>\n",
       "      <td>677815.000000</td>\n",
       "      <td>671826.000000</td>\n",
       "    </tr>\n",
       "    <tr>\n",
       "      <th>mean</th>\n",
       "      <td>23864.551870</td>\n",
       "      <td>1388.799020</td>\n",
       "      <td>55.634902</td>\n",
       "      <td>4.230857</td>\n",
       "      <td>1455.0</td>\n",
       "      <td>1458.794001</td>\n",
       "      <td>37.868677</td>\n",
       "      <td>1492.868677</td>\n",
       "      <td>180.253312</td>\n",
       "      <td>1388.580491</td>\n",
       "      <td>3.602762</td>\n",
       "      <td>23.412446</td>\n",
       "      <td>3853.831222</td>\n",
       "      <td>175.767377</td>\n",
       "    </tr>\n",
       "    <tr>\n",
       "      <th>std</th>\n",
       "      <td>3581.849791</td>\n",
       "      <td>151.115179</td>\n",
       "      <td>32.787337</td>\n",
       "      <td>2.264734</td>\n",
       "      <td>0.0</td>\n",
       "      <td>1.703725</td>\n",
       "      <td>8.310765</td>\n",
       "      <td>8.310765</td>\n",
       "      <td>14.401174</td>\n",
       "      <td>151.113934</td>\n",
       "      <td>1.830274</td>\n",
       "      <td>14.367370</td>\n",
       "      <td>2041.101896</td>\n",
       "      <td>42.724486</td>\n",
       "    </tr>\n",
       "    <tr>\n",
       "      <th>min</th>\n",
       "      <td>6700.000000</td>\n",
       "      <td>1034.000000</td>\n",
       "      <td>1.000000</td>\n",
       "      <td>1.000000</td>\n",
       "      <td>1455.0</td>\n",
       "      <td>1452.000000</td>\n",
       "      <td>-3.000000</td>\n",
       "      <td>1452.000000</td>\n",
       "      <td>0.000000</td>\n",
       "      <td>1034.000000</td>\n",
       "      <td>1.000000</td>\n",
       "      <td>1.000000</td>\n",
       "      <td>315.000000</td>\n",
       "      <td>100.000000</td>\n",
       "    </tr>\n",
       "    <tr>\n",
       "      <th>25%</th>\n",
       "      <td>23218.000000</td>\n",
       "      <td>1284.000000</td>\n",
       "      <td>28.000000</td>\n",
       "      <td>2.000000</td>\n",
       "      <td>1455.0</td>\n",
       "      <td>1458.000000</td>\n",
       "      <td>34.000000</td>\n",
       "      <td>1489.000000</td>\n",
       "      <td>170.000000</td>\n",
       "      <td>1284.000000</td>\n",
       "      <td>2.000000</td>\n",
       "      <td>11.000000</td>\n",
       "      <td>2079.000000</td>\n",
       "      <td>140.000000</td>\n",
       "    </tr>\n",
       "    <tr>\n",
       "      <th>50%</th>\n",
       "      <td>23280.000000</td>\n",
       "      <td>1284.000000</td>\n",
       "      <td>55.000000</td>\n",
       "      <td>4.000000</td>\n",
       "      <td>1455.0</td>\n",
       "      <td>1459.000000</td>\n",
       "      <td>38.000000</td>\n",
       "      <td>1493.000000</td>\n",
       "      <td>182.000000</td>\n",
       "      <td>1284.000000</td>\n",
       "      <td>4.000000</td>\n",
       "      <td>22.000000</td>\n",
       "      <td>3878.000000</td>\n",
       "      <td>178.000000</td>\n",
       "    </tr>\n",
       "    <tr>\n",
       "      <th>75%</th>\n",
       "      <td>25795.000000</td>\n",
       "      <td>1543.000000</td>\n",
       "      <td>83.000000</td>\n",
       "      <td>6.000000</td>\n",
       "      <td>1455.0</td>\n",
       "      <td>1460.000000</td>\n",
       "      <td>42.000000</td>\n",
       "      <td>1497.000000</td>\n",
       "      <td>190.000000</td>\n",
       "      <td>1543.000000</td>\n",
       "      <td>5.000000</td>\n",
       "      <td>35.000000</td>\n",
       "      <td>5607.000000</td>\n",
       "      <td>212.000000</td>\n",
       "    </tr>\n",
       "    <tr>\n",
       "      <th>max</th>\n",
       "      <td>123605.000000</td>\n",
       "      <td>1620.000000</td>\n",
       "      <td>511.000000</td>\n",
       "      <td>10.000000</td>\n",
       "      <td>1455.0</td>\n",
       "      <td>1461.000000</td>\n",
       "      <td>145.000000</td>\n",
       "      <td>1600.000000</td>\n",
       "      <td>204.000000</td>\n",
       "      <td>1620.000000</td>\n",
       "      <td>9.000000</td>\n",
       "      <td>64.000000</td>\n",
       "      <td>7385.000000</td>\n",
       "      <td>248.000000</td>\n",
       "    </tr>\n",
       "  </tbody>\n",
       "</table>\n",
       "</div>"
      ],
      "text/plain": [
       "              Weight          Width         Seg No  \\\n",
       "count  677815.000000  677815.000000  677815.000000   \n",
       "mean    23864.551870    1388.799020      55.634902   \n",
       "std      3581.849791     151.115179      32.787337   \n",
       "min      6700.000000    1034.000000       1.000000   \n",
       "25%     23218.000000    1284.000000      28.000000   \n",
       "50%     23280.000000    1284.000000      55.000000   \n",
       "75%     25795.000000    1543.000000      83.000000   \n",
       "max    123605.000000    1620.000000     511.000000   \n",
       "\n",
       "       CCM.TD. Heat counter Value  CCM.TD. Temperature liquidus Value  \\\n",
       "count               677299.000000                            677299.0   \n",
       "mean                     4.230857                              1455.0   \n",
       "std                      2.264734                                 0.0   \n",
       "min                      1.000000                              1455.0   \n",
       "25%                      2.000000                              1455.0   \n",
       "50%                      4.000000                              1455.0   \n",
       "75%                      6.000000                              1455.0   \n",
       "max                     10.000000                              1455.0   \n",
       "\n",
       "       CCM.TD. Temperature liquidus Dynaphase Value  CCM.TD. Superheat Value  \\\n",
       "count                                 677299.000000            677299.000000   \n",
       "mean                                    1458.794001                37.868677   \n",
       "std                                        1.703725                 8.310765   \n",
       "min                                     1452.000000                -3.000000   \n",
       "25%                                     1458.000000                34.000000   \n",
       "50%                                     1459.000000                38.000000   \n",
       "75%                                     1460.000000                42.000000   \n",
       "max                                     1461.000000               145.000000   \n",
       "\n",
       "       CCM.TD. Temperature tundish Value  CCM.SEN. Immersion depth Value  \\\n",
       "count                      677299.000000                   677299.000000   \n",
       "mean                         1492.868677                      180.253312   \n",
       "std                             8.310765                       14.401174   \n",
       "min                          1452.000000                        0.000000   \n",
       "25%                          1489.000000                      170.000000   \n",
       "50%                          1493.000000                      182.000000   \n",
       "75%                          1497.000000                      190.000000   \n",
       "max                          1600.000000                      204.000000   \n",
       "\n",
       "       CCM.MD. Mold width Value  CCM.SLAB. Slab counter heat Value  \\\n",
       "count             677299.000000                      674264.000000   \n",
       "mean                1388.580491                           3.602762   \n",
       "std                  151.113934                           1.830274   \n",
       "min                 1034.000000                           1.000000   \n",
       "25%                 1284.000000                           2.000000   \n",
       "50%                 1284.000000                           4.000000   \n",
       "75%                 1543.000000                           5.000000   \n",
       "max                 1620.000000                           9.000000   \n",
       "\n",
       "       CCM.SLAB. Slab counter sequence Value  HeatNo_in_Cast         CastNo  \n",
       "count                          674496.000000   677815.000000  671826.000000  \n",
       "mean                               23.412446     3853.831222     175.767377  \n",
       "std                                14.367370     2041.101896      42.724486  \n",
       "min                                 1.000000      315.000000     100.000000  \n",
       "25%                                11.000000     2079.000000     140.000000  \n",
       "50%                                22.000000     3878.000000     178.000000  \n",
       "75%                                35.000000     5607.000000     212.000000  \n",
       "max                                64.000000     7385.000000     248.000000  "
      ]
     },
     "execution_count": 7,
     "metadata": {},
     "output_type": "execute_result"
    }
   ],
   "source": [
    "df.describe()"
   ]
  },
  {
   "cell_type": "markdown",
   "metadata": {},
   "source": [
    "### Merging: Combine Steel data with weather data"
   ]
  },
  {
   "cell_type": "markdown",
   "metadata": {},
   "source": [
    "#### Before we merge these datasets, we have to match their style of datetimes, which will be then used as the basis of merging (connecting point)"
   ]
  },
  {
   "cell_type": "code",
   "execution_count": 8,
   "metadata": {},
   "outputs": [],
   "source": [
    "# Step 1: remove the seconds from the steel data\n",
    "# Steel data: 2023-02-20 20:56:00\n",
    "# Weather data: year, month, day separately + time : 00:30 (ten minute intervals)\n",
    "\n",
    "# remove the the seconds (2 numbers + \":\")\n",
    "df['End time'] = df['End time'].str[:-3]\n",
    "\n",
    "# seems to work! steel data datetime is now e.g. 2023-02-06 01:05"
   ]
  },
  {
   "cell_type": "code",
   "execution_count": 9,
   "metadata": {},
   "outputs": [
    {
     "data": {
      "text/plain": [
       "Index(['Observation station', 'Year', 'Month', 'Day', 'Time [Local time]',\n",
       "       'Air temperature mean [°C]', 'Dew-point temperature mean [°C]',\n",
       "       'Cloud cover [1/8]', 'Air pressure mean [hPa]',\n",
       "       'Relative humidity mean [%]', 'Precipitation amount mean [mm]',\n",
       "       'Weather description', 'Horizontal visibility mean [m]'],\n",
       "      dtype='object')"
      ]
     },
     "execution_count": 9,
     "metadata": {},
     "output_type": "execute_result"
    }
   ],
   "source": [
    "df_weather.columns"
   ]
  },
  {
   "cell_type": "code",
   "execution_count": 10,
   "metadata": {},
   "outputs": [],
   "source": [
    "# Step 2: combine all weather time information into a new variable => End time (same as in steel data)\n",
    "df_weather['End time'] = df_weather['Year'].astype(str) + \"-\" + \\\n",
    "                         df_weather['Month'].astype(str).str.zfill(2) + \"-\" + \\\n",
    "                         df_weather['Day'].astype(str).str.zfill(2) + \" \" + \\\n",
    "                         df_weather['Time [Local time]'].astype(str)"
   ]
  },
  {
   "cell_type": "code",
   "execution_count": 11,
   "metadata": {},
   "outputs": [],
   "source": [
    "# logic of the astype(str).str above:\n",
    "# df_weather['Month'].astype(str) => convert this column into string\n",
    "# df_weather['Month'].str.zfill(2) => use Python's string -functions (str) -> zfill"
   ]
  },
  {
   "cell_type": "code",
   "execution_count": 12,
   "metadata": {},
   "outputs": [
    {
     "data": {
      "text/plain": [
       "0    2023-01-01 00:00\n",
       "1    2023-01-01 00:10\n",
       "2    2023-01-01 00:20\n",
       "Name: End time, dtype: object"
      ]
     },
     "execution_count": 12,
     "metadata": {},
     "output_type": "execute_result"
    }
   ],
   "source": [
    "# for comparison, steel data has the time: 2023-02-06 01:05\n",
    "df_weather.head(3)['End time']"
   ]
  },
  {
   "cell_type": "code",
   "execution_count": 13,
   "metadata": {},
   "outputs": [],
   "source": [
    "# Final step before merging: ROUND THE STEEL DATA minutes into the nearest tens of minutes\n",
    "# basically we can make a function for pandas to fix this\n",
    "# the idea: get the minutes from the time\n",
    "# => round the minutes to nearest 10\n",
    "# => convert minutes back to string => combine with the original time\n",
    "def fix_date(row):\n",
    "    date = row['End time']\n",
    "\n",
    "    # extract te minutes only from the date\n",
    "    minutes = int(date[-2:])\n",
    "\n",
    "    # round the minutes to the nearest ten (by using negative round decimal amount)\n",
    "    minutes = round(minutes, -1)\n",
    "\n",
    "    # rebuild the date string\n",
    "    # date[0:-2] => everything else except the minutes\n",
    "    result = date[0:-2] + str(minutes).zfill(2)\n",
    "    return result\n",
    "\n",
    "# apply the function and check results\n",
    "df['End time'] = df.apply(fix_date, axis=1)"
   ]
  },
  {
   "cell_type": "code",
   "execution_count": 14,
   "metadata": {},
   "outputs": [
    {
     "data": {
      "text/plain": [
       "236587    2023-03-11 15:50\n",
       "607435    2023-04-23 07:50\n",
       "260564    2023-03-13 14:50\n",
       "253980    2023-03-13 02:20\n",
       "235754    2023-03-11 14:40\n",
       "Name: End time, dtype: object"
      ]
     },
     "execution_count": 14,
     "metadata": {},
     "output_type": "execute_result"
    }
   ],
   "source": [
    "# take a random sample to see if all time stamps\n",
    "# are in the tens of minutes\n",
    "df['End time'].sample(5)"
   ]
  },
  {
   "cell_type": "markdown",
   "metadata": {},
   "source": [
    "#### Now we can proceed with merging the steel data and the weather\n"
   ]
  },
  {
   "cell_type": "code",
   "execution_count": 15,
   "metadata": {},
   "outputs": [
    {
     "data": {
      "text/plain": [
       "677815"
      ]
     },
     "execution_count": 15,
     "metadata": {},
     "output_type": "execute_result"
    }
   ],
   "source": [
    "# sanity check, how much data we have BEFORE MERGING\n",
    "# after merging, we should have exactly same amount of data in the end\n",
    "len(df)"
   ]
  },
  {
   "cell_type": "code",
   "execution_count": 16,
   "metadata": {},
   "outputs": [],
   "source": [
    "# merge data (very similar to SQL joins)\n",
    "df = df.merge(df_weather, left_on=\"End time\", right_on=\"End time\", how=\"left\")"
   ]
  },
  {
   "cell_type": "code",
   "execution_count": 17,
   "metadata": {},
   "outputs": [
    {
     "data": {
      "text/plain": [
       "677815"
      ]
     },
     "execution_count": 17,
     "metadata": {},
     "output_type": "execute_result"
    }
   ],
   "source": [
    "# sanity check 2 => do we still have exactly same amount of data?\n",
    "len(df)"
   ]
  },
  {
   "cell_type": "code",
   "execution_count": 18,
   "metadata": {},
   "outputs": [
    {
     "data": {
      "text/plain": [
       "Index(['Material Type', 'End time', 'Route', 'Weight', 'Length', 'Thickness',\n",
       "       'Width', 'Grade', 'Quality Status', 'Seg No', 'Seg from', 'Seg to',\n",
       "       'CCM.TD. Heat counter Value', 'CCM.TD. Temperature liquidus Value',\n",
       "       'CCM.TD. Temperature liquidus Dynaphase Value',\n",
       "       'CCM.TD. TD internals type Value', 'CCM.TD. Slag powder Value',\n",
       "       'CCM.TD. Stopper Type Value', 'CCM.TD. Steel weight in tundish Value',\n",
       "       'CCM.TD. Tundish inflow Value', 'CCM.TD. Stopper Last Position Value',\n",
       "       'CCM.TD. Stopper position max Value',\n",
       "       'CCM.TD. Stopper position min Value',\n",
       "       'CCM.TD. Stopper pos chg max segment Value',\n",
       "       'CCM.TD. Stopper position chg 10 s Value',\n",
       "       'CCM.TD. Stopper position slab chg Value', 'CCM.TD. Superheat Value',\n",
       "       'CCM.TD. Temperature tundish Value', 'CCM.SEN. SEN Type Value',\n",
       "       'CCM.SEN. Immersion depth Value', 'CCM.MD. Level average Value',\n",
       "       'CCM.MD. Level change (max-min) Value', 'CCM.MD. Level std_dev Value',\n",
       "       'CCM.MD. Level std_dev west Value', 'CCM.MD. Level std_dev east Value',\n",
       "       'CCM.MD. Mold width Value', 'CCM.MIX. Concentration factor Value',\n",
       "       'CCM.STR. Speed - Mold avg Value', 'CCM.STR. Throughput Value',\n",
       "       'CCM.SLAB. Slab counter heat Value',\n",
       "       'CCM.SLAB. Slab counter sequence Value', 'HeatNo_in_Cast',\n",
       "       'SlabNo_in_Heat', 'CastNo', 'Observation station', 'Year', 'Month',\n",
       "       'Day', 'Time [Local time]', 'Air temperature mean [°C]',\n",
       "       'Dew-point temperature mean [°C]', 'Cloud cover [1/8]',\n",
       "       'Air pressure mean [hPa]', 'Relative humidity mean [%]',\n",
       "       'Precipitation amount mean [mm]', 'Weather description',\n",
       "       'Horizontal visibility mean [m]'],\n",
       "      dtype='object')"
      ]
     },
     "execution_count": 18,
     "metadata": {},
     "output_type": "execute_result"
    }
   ],
   "source": [
    "df.columns"
   ]
  },
  {
   "cell_type": "code",
   "execution_count": 19,
   "metadata": {},
   "outputs": [],
   "source": [
    "# we no longer need the original weather data time columns (since we have the End time)\n",
    "df = df.drop(['Year', 'Month', 'Day', 'Time [Local time]',], axis=1)"
   ]
  },
  {
   "cell_type": "code",
   "execution_count": 20,
   "metadata": {},
   "outputs": [
    {
     "data": {
      "text/plain": [
       "53"
      ]
     },
     "execution_count": 20,
     "metadata": {},
     "output_type": "execute_result"
    }
   ],
   "source": [
    "len(df.columns)"
   ]
  },
  {
   "cell_type": "markdown",
   "metadata": {},
   "source": [
    "#### Proceed normally with fixing the steel data column format etc. as in previous examples"
   ]
  },
  {
   "cell_type": "code",
   "execution_count": 21,
   "metadata": {},
   "outputs": [],
   "source": [
    "# let's collect all numeric columns that need their commas converted to period => float number\n",
    "fixables = [\"Length\", \n",
    "            \"Thickness\",\n",
    "            'CCM.TD. Steel weight in tundish Value',\n",
    "            'CCM.TD. Tundish inflow Value', 'CCM.TD. Stopper Last Position Value',\n",
    "            'CCM.TD. Stopper position max Value',\n",
    "            'CCM.TD. Stopper position min Value',\n",
    "            'CCM.TD. Stopper pos chg max segment Value',\n",
    "            'CCM.TD. Stopper position chg 10 s Value',\n",
    "            'CCM.TD. Stopper position slab chg Value', \n",
    "            'CCM.MD. Level average Value',\n",
    "            'CCM.MD. Level change (max-min) Value', 'CCM.MD. Level std_dev Value',\n",
    "            'CCM.MD. Level std_dev west Value', 'CCM.MD. Level std_dev east Value',\n",
    "            'CCM.MIX. Concentration factor Value',\n",
    "            'CCM.STR. Speed - Mold avg Value', 'CCM.STR. Throughput Value'\n",
    "            ]\n",
    "\n",
    "# brute force and change datatype for each of thecolumns\n",
    "for column_name in fixables:\n",
    "    df[column_name] = df[column_name].astype(str).replace(regex=\",\", value=\".\")\n",
    "    df[column_name] = df[column_name].astype(float)"
   ]
  },
  {
   "cell_type": "code",
   "execution_count": 22,
   "metadata": {},
   "outputs": [],
   "source": [
    "df = df.replace(\"-\", np.nan)"
   ]
  },
  {
   "cell_type": "code",
   "execution_count": 23,
   "metadata": {},
   "outputs": [
    {
     "data": {
      "text/plain": [
       "Index(['Material Type', 'End time', 'Route', 'Weight', 'Length', 'Thickness',\n",
       "       'Width', 'Grade', 'Quality Status', 'Seg No', 'Seg from', 'Seg to',\n",
       "       'CCM.TD. Heat counter Value', 'CCM.TD. Temperature liquidus Value',\n",
       "       'CCM.TD. Temperature liquidus Dynaphase Value',\n",
       "       'CCM.TD. TD internals type Value', 'CCM.TD. Slag powder Value',\n",
       "       'CCM.TD. Stopper Type Value', 'CCM.TD. Steel weight in tundish Value',\n",
       "       'CCM.TD. Tundish inflow Value', 'CCM.TD. Stopper Last Position Value',\n",
       "       'CCM.TD. Stopper position max Value',\n",
       "       'CCM.TD. Stopper position min Value',\n",
       "       'CCM.TD. Stopper pos chg max segment Value',\n",
       "       'CCM.TD. Stopper position chg 10 s Value',\n",
       "       'CCM.TD. Stopper position slab chg Value', 'CCM.TD. Superheat Value',\n",
       "       'CCM.TD. Temperature tundish Value', 'CCM.SEN. SEN Type Value',\n",
       "       'CCM.SEN. Immersion depth Value', 'CCM.MD. Level average Value',\n",
       "       'CCM.MD. Level change (max-min) Value', 'CCM.MD. Level std_dev Value',\n",
       "       'CCM.MD. Level std_dev west Value', 'CCM.MD. Level std_dev east Value',\n",
       "       'CCM.MD. Mold width Value', 'CCM.MIX. Concentration factor Value',\n",
       "       'CCM.STR. Speed - Mold avg Value', 'CCM.STR. Throughput Value',\n",
       "       'CCM.SLAB. Slab counter heat Value',\n",
       "       'CCM.SLAB. Slab counter sequence Value', 'HeatNo_in_Cast',\n",
       "       'SlabNo_in_Heat', 'CastNo', 'Observation station',\n",
       "       'Air temperature mean [°C]', 'Dew-point temperature mean [°C]',\n",
       "       'Cloud cover [1/8]', 'Air pressure mean [hPa]',\n",
       "       'Relative humidity mean [%]', 'Precipitation amount mean [mm]',\n",
       "       'Weather description', 'Horizontal visibility mean [m]'],\n",
       "      dtype='object')"
      ]
     },
     "execution_count": 23,
     "metadata": {},
     "output_type": "execute_result"
    }
   ],
   "source": [
    "df.columns"
   ]
  },
  {
   "cell_type": "code",
   "execution_count": 24,
   "metadata": {},
   "outputs": [],
   "source": [
    "# import dtale\n",
    "\n",
    "# the data is now different, instead of Material Name for being a unique identifier \n",
    "\n",
    "# we have Cast -> Heat -> Slab -> Seg No\n",
    "# One Cast usually provides ~4-8 amount of Heats, one heat usually provides 5-8 slabs\n",
    "# filter_df = df[['CastNo', 'HeatNo_in_Cast', 'SlabNo_in_Heat', 'Seg No', 'CCM.TD. Steel weight in tundish Value']]\n",
    "# dtale.show(filter_df).open_browser()"
   ]
  },
  {
   "cell_type": "markdown",
   "metadata": {},
   "source": [
    "## Before we filter only one cast/heat/slab (whatever the level), we have to process and combine the cast/heat/slab -numbers"
   ]
  },
  {
   "cell_type": "code",
   "execution_count": 25,
   "metadata": {},
   "outputs": [
    {
     "data": {
      "text/plain": [
       "array([100., 101., 102., 103., 104., 105., 106., 107., 108., 109., 110.,\n",
       "       111., 112., 113., 114., 115., 116., 117., 118., 119., 120., 121.,\n",
       "       122., 123., 124., 125., 126., 127., 128., 129., 130., 131., 132.,\n",
       "       133., 134., 135., 136., 137., 138., 139., 140., 141., 142., 143.,\n",
       "       144., 145., 146., 147., 148., 149., 150., 151., 152., 153., 154.,\n",
       "       155., 156., 157., 158., 159., 160., 161., 162., 163., 164., 165.,\n",
       "       166., 167., 168., 169., 170., 171., 172., 173., 174., 175., 176.,\n",
       "       177., 178., 179., 180., 181., 182., 183., 184., 185., 186., 187.,\n",
       "       188., 189., 190., 191., 192., 193., 194., 195., 196., 197., 198.,\n",
       "       199., 200., 201., 202., 203., 204., 205., 206., 207., 208., 209.,\n",
       "       210., 211., 212., 213., 214., 215., 216., 217., 218., 219., 220.,\n",
       "       221., 222., 223., 224., 225., 226., 227., 228., 229., 230., 231.,\n",
       "       232., 233., 234., 235., 236., 237., 238., 239., 240., 241., 242.,\n",
       "       243., 244., 245., 246., 247., 248.,  nan])"
      ]
     },
     "execution_count": 25,
     "metadata": {},
     "output_type": "execute_result"
    }
   ],
   "source": [
    "df['CastNo'].unique()"
   ]
  },
  {
   "cell_type": "markdown",
   "metadata": {},
   "source": [
    "### THIS IS THE PART WHERE YOU CAN CHANGE THE ACTIVE CAST VISUALIZED"
   ]
  },
  {
   "cell_type": "code",
   "execution_count": 26,
   "metadata": {},
   "outputs": [
    {
     "data": {
      "text/html": [
       "<div>\n",
       "<style scoped>\n",
       "    .dataframe tbody tr th:only-of-type {\n",
       "        vertical-align: middle;\n",
       "    }\n",
       "\n",
       "    .dataframe tbody tr th {\n",
       "        vertical-align: top;\n",
       "    }\n",
       "\n",
       "    .dataframe thead th {\n",
       "        text-align: right;\n",
       "    }\n",
       "</style>\n",
       "<table border=\"1\" class=\"dataframe\">\n",
       "  <thead>\n",
       "    <tr style=\"text-align: right;\">\n",
       "      <th></th>\n",
       "      <th>Material Type</th>\n",
       "      <th>End time</th>\n",
       "      <th>Route</th>\n",
       "      <th>Weight</th>\n",
       "      <th>Length</th>\n",
       "      <th>Thickness</th>\n",
       "      <th>Width</th>\n",
       "      <th>Grade</th>\n",
       "      <th>Quality Status</th>\n",
       "      <th>Seg No</th>\n",
       "      <th>...</th>\n",
       "      <th>CastNo</th>\n",
       "      <th>Observation station</th>\n",
       "      <th>Air temperature mean [°C]</th>\n",
       "      <th>Dew-point temperature mean [°C]</th>\n",
       "      <th>Cloud cover [1/8]</th>\n",
       "      <th>Air pressure mean [hPa]</th>\n",
       "      <th>Relative humidity mean [%]</th>\n",
       "      <th>Precipitation amount mean [mm]</th>\n",
       "      <th>Weather description</th>\n",
       "      <th>Horizontal visibility mean [m]</th>\n",
       "    </tr>\n",
       "  </thead>\n",
       "  <tbody>\n",
       "    <tr>\n",
       "      <th>0</th>\n",
       "      <td>slab</td>\n",
       "      <td>2023-02-06 01:00</td>\n",
       "      <td>Route 1</td>\n",
       "      <td>25783</td>\n",
       "      <td>10.63</td>\n",
       "      <td>202.0</td>\n",
       "      <td>1539</td>\n",
       "      <td>720-1</td>\n",
       "      <td>ERROR</td>\n",
       "      <td>1</td>\n",
       "      <td>...</td>\n",
       "      <td>100.0</td>\n",
       "      <td>Tornio Torppi</td>\n",
       "      <td>-11.5</td>\n",
       "      <td>-12.8</td>\n",
       "      <td>Clear (0/8)</td>\n",
       "      <td>1023.1</td>\n",
       "      <td>90</td>\n",
       "      <td>0</td>\n",
       "      <td>No significant weather</td>\n",
       "      <td>50000</td>\n",
       "    </tr>\n",
       "    <tr>\n",
       "      <th>1</th>\n",
       "      <td>slab</td>\n",
       "      <td>2023-02-06 01:00</td>\n",
       "      <td>Route 1</td>\n",
       "      <td>25783</td>\n",
       "      <td>10.63</td>\n",
       "      <td>202.0</td>\n",
       "      <td>1539</td>\n",
       "      <td>720-1</td>\n",
       "      <td>ERROR</td>\n",
       "      <td>2</td>\n",
       "      <td>...</td>\n",
       "      <td>100.0</td>\n",
       "      <td>Tornio Torppi</td>\n",
       "      <td>-11.5</td>\n",
       "      <td>-12.8</td>\n",
       "      <td>Clear (0/8)</td>\n",
       "      <td>1023.1</td>\n",
       "      <td>90</td>\n",
       "      <td>0</td>\n",
       "      <td>No significant weather</td>\n",
       "      <td>50000</td>\n",
       "    </tr>\n",
       "    <tr>\n",
       "      <th>2</th>\n",
       "      <td>slab</td>\n",
       "      <td>2023-02-06 01:00</td>\n",
       "      <td>Route 1</td>\n",
       "      <td>25783</td>\n",
       "      <td>10.63</td>\n",
       "      <td>202.0</td>\n",
       "      <td>1539</td>\n",
       "      <td>720-1</td>\n",
       "      <td>ERROR</td>\n",
       "      <td>3</td>\n",
       "      <td>...</td>\n",
       "      <td>100.0</td>\n",
       "      <td>Tornio Torppi</td>\n",
       "      <td>-11.5</td>\n",
       "      <td>-12.8</td>\n",
       "      <td>Clear (0/8)</td>\n",
       "      <td>1023.1</td>\n",
       "      <td>90</td>\n",
       "      <td>0</td>\n",
       "      <td>No significant weather</td>\n",
       "      <td>50000</td>\n",
       "    </tr>\n",
       "  </tbody>\n",
       "</table>\n",
       "<p>3 rows × 53 columns</p>\n",
       "</div>"
      ],
      "text/plain": [
       "  Material Type          End time    Route  Weight  Length  Thickness  Width  \\\n",
       "0          slab  2023-02-06 01:00  Route 1   25783   10.63      202.0   1539   \n",
       "1          slab  2023-02-06 01:00  Route 1   25783   10.63      202.0   1539   \n",
       "2          slab  2023-02-06 01:00  Route 1   25783   10.63      202.0   1539   \n",
       "\n",
       "   Grade Quality Status  Seg No  ... CastNo Observation station  \\\n",
       "0  720-1          ERROR       1  ...  100.0       Tornio Torppi   \n",
       "1  720-1          ERROR       2  ...  100.0       Tornio Torppi   \n",
       "2  720-1          ERROR       3  ...  100.0       Tornio Torppi   \n",
       "\n",
       "   Air temperature mean [°C]  Dew-point temperature mean [°C]  \\\n",
       "0                      -11.5                            -12.8   \n",
       "1                      -11.5                            -12.8   \n",
       "2                      -11.5                            -12.8   \n",
       "\n",
       "   Cloud cover [1/8] Air pressure mean [hPa] Relative humidity mean [%]  \\\n",
       "0        Clear (0/8)                  1023.1                         90   \n",
       "1        Clear (0/8)                  1023.1                         90   \n",
       "2        Clear (0/8)                  1023.1                         90   \n",
       "\n",
       "  Precipitation amount mean [mm]     Weather description  \\\n",
       "0                              0  No significant weather   \n",
       "1                              0  No significant weather   \n",
       "2                              0  No significant weather   \n",
       "\n",
       "   Horizontal visibility mean [m]  \n",
       "0                           50000  \n",
       "1                           50000  \n",
       "2                           50000  \n",
       "\n",
       "[3 rows x 53 columns]"
      ]
     },
     "execution_count": 26,
     "metadata": {},
     "output_type": "execute_result"
    }
   ],
   "source": [
    "# filter out only one cast at a time\n",
    "# because there's too much data to visualize otherwise\n",
    "selected_id = 100\n",
    "df_single = df[df['CastNo'] == selected_id]\n",
    "\n",
    "\n",
    "df_single.head(3)"
   ]
  },
  {
   "cell_type": "code",
   "execution_count": 27,
   "metadata": {},
   "outputs": [
    {
     "data": {
      "text/plain": [
       "[np.int64(2821)]"
      ]
     },
     "execution_count": 27,
     "metadata": {},
     "output_type": "execute_result"
    }
   ],
   "source": [
    "# for easier manipulation in future, we're going to replace the heat numbers with a more simple system\n",
    "# so instead of 2205, 2170 .... we'll replace them with 1, 2, 3, 4 etc.\n",
    "\n",
    "unique_heats = list(df_single['HeatNo_in_Cast'].unique())\n",
    "\n",
    "# this one seems to have 4 heats (cast with id 125)\n",
    "unique_heats"
   ]
  },
  {
   "cell_type": "code",
   "execution_count": 28,
   "metadata": {},
   "outputs": [
    {
     "name": "stderr",
     "output_type": "stream",
     "text": [
      "C:\\Users\\nbuha\\AppData\\Local\\Temp\\ipykernel_21220\\3870752511.py:10: SettingWithCopyWarning: \n",
      "A value is trying to be set on a copy of a slice from a DataFrame.\n",
      "Try using .loc[row_indexer,col_indexer] = value instead\n",
      "\n",
      "See the caveats in the documentation: https://pandas.pydata.org/pandas-docs/stable/user_guide/indexing.html#returning-a-view-versus-a-copy\n",
      "  df_single['HeatNo_in_Cast'] = df_single['HeatNo_in_Cast'].map(replacement_dict)\n"
     ]
    }
   ],
   "source": [
    "# let's go through the four heat numbers\n",
    "# and collect them into a dictionary\n",
    "replacement_dict = {}\n",
    "\n",
    "for heat in unique_heats:\n",
    "    index = unique_heats.index(heat)\n",
    "    replacement_dict[heat] = index + 1\n",
    "\n",
    "replacement_dict\n",
    "df_single['HeatNo_in_Cast'] = df_single['HeatNo_in_Cast'].map(replacement_dict)"
   ]
  },
  {
   "cell_type": "code",
   "execution_count": 29,
   "metadata": {},
   "outputs": [
    {
     "data": {
      "text/plain": [
       "array([1])"
      ]
     },
     "execution_count": 29,
     "metadata": {},
     "output_type": "execute_result"
    }
   ],
   "source": [
    "# seems to work!\n",
    "df_single['HeatNo_in_Cast'].unique()"
   ]
  },
  {
   "cell_type": "markdown",
   "metadata": {},
   "source": [
    "#### Sine we don't have Material Name (one id only) anymore, let's combine Cast -> Heat -> Slab -> Seg No into one single identifier"
   ]
  },
  {
   "cell_type": "code",
   "execution_count": 30,
   "metadata": {},
   "outputs": [
    {
     "name": "stderr",
     "output_type": "stream",
     "text": [
      "C:\\Users\\nbuha\\AppData\\Local\\Temp\\ipykernel_21220\\3985312939.py:1: SettingWithCopyWarning: \n",
      "A value is trying to be set on a copy of a slice from a DataFrame.\n",
      "Try using .loc[row_indexer,col_indexer] = value instead\n",
      "\n",
      "See the caveats in the documentation: https://pandas.pydata.org/pandas-docs/stable/user_guide/indexing.html#returning-a-view-versus-a-copy\n",
      "  df_single['ProcessNo'] = df_single['HeatNo_in_Cast'].astype(str) + \\\n"
     ]
    }
   ],
   "source": [
    "df_single['ProcessNo'] = df_single['HeatNo_in_Cast'].astype(str) + \\\n",
    "                         df_single['SlabNo_in_Heat'].astype(str).str.zfill(2) + \\\n",
    "                         df_single['Seg No'].astype(str).str.zfill(2) \n",
    "\n",
    "\n",
    "# NOTE TO SELF! SlabNo_in_Heat can be A in some rare cases\n",
    "# this probably is supposed to be number 10 according to hexadecimal\n",
    "df_single = df_single.reset_index()\n",
    "df_single['indexno'] = df_single.index + 1"
   ]
  },
  {
   "cell_type": "code",
   "execution_count": 31,
   "metadata": {},
   "outputs": [],
   "source": [
    "# most probably a bug in matplotlib\n",
    "# if you visualize data with mixed integers and floats\n",
    "# the y-axis MIGHT be flipped (inverted)\n",
    "df_single['Relative humidity mean [%]'] = df_single['Relative humidity mean [%]'].astype(float)\n",
    "df_single['Air pressure mean [hPa]'] = df_single['Air pressure mean [hPa]'].astype(float)\n",
    "df_single['Dew-point temperature mean [°C]'] = df_single['Dew-point temperature mean [°C]'].astype(float)\n"
   ]
  },
  {
   "cell_type": "markdown",
   "metadata": {},
   "source": [
    "## From this point onward, we can just visualize as previously"
   ]
  },
  {
   "cell_type": "code",
   "execution_count": 32,
   "metadata": {},
   "outputs": [],
   "source": [
    "# we are going to use multi-line charts + df.melt() to visualize the process better\n",
    "# see \"ricebeefcoffee_revisited.ipynb\" from lecture 9 examples on how to work\n",
    "# with multiline + df.melt()\n",
    "\n",
    "# list all columns you want to see in the multiline chart\n",
    "columns_all = [\n",
    "       'Length', 'Thickness', 'Width', 'Seg No',\n",
    "       'CCM.TD. Heat counter Value',\n",
    "       'CCM.TD. Temperature liquidus Value',\n",
    "       'CCM.TD. Temperature liquidus Dynaphase Value',\n",
    "       'CCM.TD. Steel weight in tundish Value',\n",
    "       'CCM.TD. Tundish inflow Value', 'CCM.TD. Stopper Last Position Value',\n",
    "       'CCM.TD. Stopper position max Value',\n",
    "       'CCM.TD. Stopper position min Value',\n",
    "       'CCM.TD. Stopper pos chg max segment Value',\n",
    "       'CCM.TD. Stopper position chg 10 s Value',\n",
    "       'CCM.TD. Stopper position slab chg Value', 'CCM.TD. Superheat Value',\n",
    "       'CCM.TD. Temperature tundish Value', \n",
    "       'CCM.SEN. Immersion depth Value', 'CCM.MD. Level average Value',\n",
    "       'CCM.MD. Level change (max-min) Value', 'CCM.MD. Level std_dev Value',\n",
    "       'CCM.MD. Level std_dev west Value', 'CCM.MD. Level std_dev east Value',\n",
    "       'CCM.MD. Mold width Value', 'CCM.MIX. Concentration factor Value',\n",
    "       'CCM.STR. Speed - Mold avg Value', 'CCM.STR. Throughput Value',\n",
    "       'CCM.SLAB. Slab counter heat Value',\n",
    "       'CCM.SLAB. Slab counter sequence Value']\n",
    "\n",
    "# here we make more specific set of columns for easier visualization\n",
    "\n",
    "# IF WE TRY TO VISUALIZE ALL VARIABLES AT ONCE, we can see only straight\n",
    "# lines because the chart has to zoom out too much\n",
    "\n",
    "# group of columns with very high values\n",
    "columns_high = ['CCM.MD. Level average Value', 'Air pressure mean [hPa]']\n",
    "\n",
    "# group of columns with average value ranges \n",
    "columns_middle = ['CCM.TD. Stopper Last Position Value',\n",
    "       'CCM.TD. Stopper position max Value',\n",
    "       'CCM.TD. Stopper position min Value',\n",
    "       'CCM.TD. Steel weight in tundish Value',\n",
    "       'Relative humidity mean [%]']\n",
    "\n",
    "# group of columns with small value ranges\n",
    "columns_low = ['CCM.TD. Tundish inflow Value',\n",
    "               'CCM.MD. Level std_dev Value',\n",
    "       'CCM.MD. Level std_dev west Value', 'CCM.MD. Level std_dev east Value', 'CCM.MIX. Concentration factor Value',\n",
    "       'CCM.STR. Speed - Mold avg Value', 'CCM.STR. Throughput Value',]\n",
    "\n",
    "\n",
    "# even less columns in this version with small value ranges\n",
    "columns_low2 = ['CCM.TD. Tundish inflow Value',\n",
    "                'CCM.MD. Level std_dev Value',\n",
    "       'CCM.STR. Speed - Mold avg Value', 'CCM.STR. Throughput Value', 'Dew-point temperature mean [°C]']\n",
    "\n",
    "columns_low3 = ['CCM.TD. Stopper Last Position Value',\n",
    "       'CCM.TD. Stopper position max Value',\n",
    "       'CCM.TD. Stopper position min Value',\n",
    "       'CCM.TD. Steel weight in tundish Value',\n",
    "       'CCM.STR. Throughput Value'\n",
    "       ]"
   ]
  },
  {
   "cell_type": "markdown",
   "metadata": {},
   "source": [
    "#### Create melt versions of some of the columns defined above"
   ]
  },
  {
   "cell_type": "code",
   "execution_count": 33,
   "metadata": {},
   "outputs": [],
   "source": [
    "# convert the data from original DataFrame into melt-version (long version)\n",
    "df_melt_high = pd.melt(df_single, id_vars=[\"ProcessNo\"], value_vars=columns_high,\n",
    "                  var_name=\"Measurement\", value_name=\"Value\")"
   ]
  },
  {
   "cell_type": "code",
   "execution_count": 34,
   "metadata": {},
   "outputs": [],
   "source": [
    "# convert the data from original DataFrame into melt-version (long version)\n",
    "df_melt_middle = pd.melt(df_single, id_vars=[\"ProcessNo\"], value_vars=columns_middle,\n",
    "                  var_name=\"Measurement\", value_name=\"Value\")"
   ]
  },
  {
   "cell_type": "code",
   "execution_count": 35,
   "metadata": {},
   "outputs": [],
   "source": [
    "# convert the data from original DataFrame into melt-version (long version)\n",
    "df_melt_low = pd.melt(df_single, id_vars=[\"ProcessNo\"], value_vars=columns_low,\n",
    "                  var_name=\"Measurement\", value_name=\"Value\")"
   ]
  },
  {
   "cell_type": "code",
   "execution_count": 36,
   "metadata": {},
   "outputs": [],
   "source": [
    "# convert the data from original DataFrame into melt-version (long version)\n",
    "df_melt_low2 = pd.melt(df_single, id_vars=[\"ProcessNo\"], value_vars=columns_low2,\n",
    "                  var_name=\"Measurement\", value_name=\"Value\")"
   ]
  },
  {
   "cell_type": "code",
   "execution_count": 37,
   "metadata": {},
   "outputs": [],
   "source": [
    "df_melt_low3 = pd.melt(df_single, id_vars=[\"ProcessNo\"], value_vars=columns_low3,\n",
    "                  var_name=\"Measurement\", value_name=\"Value\")"
   ]
  },
  {
   "cell_type": "markdown",
   "metadata": {},
   "source": [
    "#### Plot the melt versions - multiline plot"
   ]
  },
  {
   "cell_type": "markdown",
   "metadata": {},
   "source": [
    "# Perform normalization on this!!\n"
   ]
  },
  {
   "cell_type": "code",
   "execution_count": 38,
   "metadata": {},
   "outputs": [
    {
     "data": {
      "text/plain": [
       "np.float64(-17.4)"
      ]
     },
     "execution_count": 38,
     "metadata": {},
     "output_type": "execute_result"
    }
   ],
   "source": [
    "df_single['Dew-point temperature mean [°C]'].min()\n"
   ]
  },
  {
   "cell_type": "code",
   "execution_count": 39,
   "metadata": {},
   "outputs": [
    {
     "data": {
      "text/plain": [
       "np.float64(-12.8)"
      ]
     },
     "execution_count": 39,
     "metadata": {},
     "output_type": "execute_result"
    }
   ],
   "source": [
    "df_single['Dew-point temperature mean [°C]'].max()"
   ]
  },
  {
   "cell_type": "code",
   "execution_count": 40,
   "metadata": {},
   "outputs": [
    {
     "data": {
      "text/plain": [
       "CCM.SEN. SEN Type Value\n",
       "Product 1    471397\n",
       "Product 2    200963\n",
       "Name: count, dtype: int64"
      ]
     },
     "execution_count": 40,
     "metadata": {},
     "output_type": "execute_result"
    }
   ],
   "source": [
    "# compare Casts 100, 125, 171 \n",
    "# different stopper are in use, how does this correlate with the \n",
    "# phenomena we see in the data!\n",
    "df['CCM.SEN. SEN Type Value'].value_counts()"
   ]
  },
  {
   "cell_type": "code",
   "execution_count": 41,
   "metadata": {},
   "outputs": [
    {
     "data": {
      "text/plain": [
       "CCM.TD. Stopper Type Value\n",
       "T1    492838\n",
       "T2    182690\n",
       "Name: count, dtype: int64"
      ]
     },
     "execution_count": 41,
     "metadata": {},
     "output_type": "execute_result"
    }
   ],
   "source": [
    "# it seems stopper type T1 is the most common stopper type\n",
    "df['CCM.TD. Stopper Type Value'].value_counts()"
   ]
  },
  {
   "cell_type": "code",
   "execution_count": 42,
   "metadata": {},
   "outputs": [],
   "source": [
    "# stopper type, steel grade, SEN type ... do these correlate/associate in any way?\n",
    "# does variation differ between stopper types? (e.g. is one of the types more prone\n",
    "# to clogging in the long run etc.)"
   ]
  },
  {
   "cell_type": "code",
   "execution_count": 43,
   "metadata": {},
   "outputs": [
    {
     "data": {
      "text/html": [
       "<div>\n",
       "<style scoped>\n",
       "    .dataframe tbody tr th:only-of-type {\n",
       "        vertical-align: middle;\n",
       "    }\n",
       "\n",
       "    .dataframe tbody tr th {\n",
       "        vertical-align: top;\n",
       "    }\n",
       "\n",
       "    .dataframe thead th {\n",
       "        text-align: right;\n",
       "    }\n",
       "</style>\n",
       "<table border=\"1\" class=\"dataframe\">\n",
       "  <thead>\n",
       "    <tr style=\"text-align: right;\">\n",
       "      <th>CCM.TD. Stopper Type Value</th>\n",
       "      <th>T1</th>\n",
       "    </tr>\n",
       "    <tr>\n",
       "      <th>CCM.STR. Throughput Value</th>\n",
       "      <th></th>\n",
       "    </tr>\n",
       "  </thead>\n",
       "  <tbody>\n",
       "    <tr>\n",
       "      <th>0.61</th>\n",
       "      <td>1</td>\n",
       "    </tr>\n",
       "    <tr>\n",
       "      <th>0.66</th>\n",
       "      <td>1</td>\n",
       "    </tr>\n",
       "    <tr>\n",
       "      <th>0.71</th>\n",
       "      <td>1</td>\n",
       "    </tr>\n",
       "    <tr>\n",
       "      <th>0.77</th>\n",
       "      <td>1</td>\n",
       "    </tr>\n",
       "    <tr>\n",
       "      <th>0.81</th>\n",
       "      <td>1</td>\n",
       "    </tr>\n",
       "    <tr>\n",
       "      <th>...</th>\n",
       "      <td>...</td>\n",
       "    </tr>\n",
       "    <tr>\n",
       "      <th>2.71</th>\n",
       "      <td>1</td>\n",
       "    </tr>\n",
       "    <tr>\n",
       "      <th>2.72</th>\n",
       "      <td>1</td>\n",
       "    </tr>\n",
       "    <tr>\n",
       "      <th>2.73</th>\n",
       "      <td>2</td>\n",
       "    </tr>\n",
       "    <tr>\n",
       "      <th>2.74</th>\n",
       "      <td>2</td>\n",
       "    </tr>\n",
       "    <tr>\n",
       "      <th>2.75</th>\n",
       "      <td>2</td>\n",
       "    </tr>\n",
       "  </tbody>\n",
       "</table>\n",
       "<p>78 rows × 1 columns</p>\n",
       "</div>"
      ],
      "text/plain": [
       "CCM.TD. Stopper Type Value  T1\n",
       "CCM.STR. Throughput Value     \n",
       "0.61                         1\n",
       "0.66                         1\n",
       "0.71                         1\n",
       "0.77                         1\n",
       "0.81                         1\n",
       "...                         ..\n",
       "2.71                         1\n",
       "2.72                         1\n",
       "2.73                         2\n",
       "2.74                         2\n",
       "2.75                         2\n",
       "\n",
       "[78 rows x 1 columns]"
      ]
     },
     "execution_count": 43,
     "metadata": {},
     "output_type": "execute_result"
    }
   ],
   "source": [
    "contingency_table = pd.crosstab(df_single['CCM.STR. Throughput Value'], df_single['CCM.TD. Stopper Type Value'])\n",
    "\n",
    "contingency_table"
   ]
  },
  {
   "cell_type": "code",
   "execution_count": 44,
   "metadata": {},
   "outputs": [
    {
     "data": {
      "text/html": [
       "<div>\n",
       "<style scoped>\n",
       "    .dataframe tbody tr th:only-of-type {\n",
       "        vertical-align: middle;\n",
       "    }\n",
       "\n",
       "    .dataframe tbody tr th {\n",
       "        vertical-align: top;\n",
       "    }\n",
       "\n",
       "    .dataframe thead th {\n",
       "        text-align: right;\n",
       "    }\n",
       "</style>\n",
       "<table border=\"1\" class=\"dataframe\">\n",
       "  <thead>\n",
       "    <tr style=\"text-align: right;\">\n",
       "      <th>CCM.TD. Stopper Type Value</th>\n",
       "      <th>T1</th>\n",
       "      <th>T2</th>\n",
       "    </tr>\n",
       "    <tr>\n",
       "      <th>Quality Status</th>\n",
       "      <th></th>\n",
       "      <th></th>\n",
       "    </tr>\n",
       "  </thead>\n",
       "  <tbody>\n",
       "    <tr>\n",
       "      <th>ERROR</th>\n",
       "      <td>32587</td>\n",
       "      <td>9288</td>\n",
       "    </tr>\n",
       "    <tr>\n",
       "      <th>OK</th>\n",
       "      <td>384837</td>\n",
       "      <td>145440</td>\n",
       "    </tr>\n",
       "    <tr>\n",
       "      <th>WARNING</th>\n",
       "      <td>75414</td>\n",
       "      <td>27962</td>\n",
       "    </tr>\n",
       "  </tbody>\n",
       "</table>\n",
       "</div>"
      ],
      "text/plain": [
       "CCM.TD. Stopper Type Value      T1      T2\n",
       "Quality Status                            \n",
       "ERROR                        32587    9288\n",
       "OK                          384837  145440\n",
       "WARNING                      75414   27962"
      ]
     },
     "execution_count": 44,
     "metadata": {},
     "output_type": "execute_result"
    }
   ],
   "source": [
    "contingency_table1 = pd.crosstab(df['Quality Status'], df['CCM.TD. Stopper Type Value'])\n",
    "\n",
    "contingency_table1"
   ]
  },
  {
   "cell_type": "code",
   "execution_count": 46,
   "metadata": {},
   "outputs": [
    {
     "data": {
      "text/plain": [
       "0    100.0\n",
       "1    100.0\n",
       "2    100.0\n",
       "3    100.0\n",
       "4    100.0\n",
       "Name: CastNo, dtype: float64"
      ]
     },
     "execution_count": 46,
     "metadata": {},
     "output_type": "execute_result"
    }
   ],
   "source": [
    "df['CastNo'].head()"
   ]
  },
  {
   "cell_type": "code",
   "execution_count": 49,
   "metadata": {},
   "outputs": [
    {
     "data": {
      "text/html": [
       "<div>\n",
       "<style scoped>\n",
       "    .dataframe tbody tr th:only-of-type {\n",
       "        vertical-align: middle;\n",
       "    }\n",
       "\n",
       "    .dataframe tbody tr th {\n",
       "        vertical-align: top;\n",
       "    }\n",
       "\n",
       "    .dataframe thead th {\n",
       "        text-align: right;\n",
       "    }\n",
       "</style>\n",
       "<table border=\"1\" class=\"dataframe\">\n",
       "  <thead>\n",
       "    <tr style=\"text-align: right;\">\n",
       "      <th></th>\n",
       "      <th>CCM.TD. Stopper Last Position Value</th>\n",
       "      <th>CCM.TD. Stopper position max Value</th>\n",
       "      <th>CCM.TD. Stopper position min Value</th>\n",
       "      <th>CCM.TD. Steel weight in tundish Value</th>\n",
       "      <th>CCM.STR. Throughput Value</th>\n",
       "    </tr>\n",
       "  </thead>\n",
       "  <tbody>\n",
       "    <tr>\n",
       "      <th>213105</th>\n",
       "      <td>61.0</td>\n",
       "      <td>62.7</td>\n",
       "      <td>57.2</td>\n",
       "      <td>14.2</td>\n",
       "      <td>1.41</td>\n",
       "    </tr>\n",
       "    <tr>\n",
       "      <th>213106</th>\n",
       "      <td>61.1</td>\n",
       "      <td>62.7</td>\n",
       "      <td>57.2</td>\n",
       "      <td>14.2</td>\n",
       "      <td>1.50</td>\n",
       "    </tr>\n",
       "    <tr>\n",
       "      <th>213107</th>\n",
       "      <td>61.3</td>\n",
       "      <td>62.7</td>\n",
       "      <td>57.2</td>\n",
       "      <td>14.2</td>\n",
       "      <td>1.52</td>\n",
       "    </tr>\n",
       "    <tr>\n",
       "      <th>213108</th>\n",
       "      <td>62.0</td>\n",
       "      <td>62.7</td>\n",
       "      <td>57.2</td>\n",
       "      <td>14.2</td>\n",
       "      <td>1.54</td>\n",
       "    </tr>\n",
       "    <tr>\n",
       "      <th>213109</th>\n",
       "      <td>62.1</td>\n",
       "      <td>62.8</td>\n",
       "      <td>57.2</td>\n",
       "      <td>16.6</td>\n",
       "      <td>1.57</td>\n",
       "    </tr>\n",
       "    <tr>\n",
       "      <th>...</th>\n",
       "      <td>...</td>\n",
       "      <td>...</td>\n",
       "      <td>...</td>\n",
       "      <td>...</td>\n",
       "      <td>...</td>\n",
       "    </tr>\n",
       "    <tr>\n",
       "      <th>215430</th>\n",
       "      <td>66.0</td>\n",
       "      <td>67.8</td>\n",
       "      <td>65.6</td>\n",
       "      <td>0.9</td>\n",
       "      <td>0.76</td>\n",
       "    </tr>\n",
       "    <tr>\n",
       "      <th>215431</th>\n",
       "      <td>66.1</td>\n",
       "      <td>67.8</td>\n",
       "      <td>65.5</td>\n",
       "      <td>0.9</td>\n",
       "      <td>0.72</td>\n",
       "    </tr>\n",
       "    <tr>\n",
       "      <th>215432</th>\n",
       "      <td>66.1</td>\n",
       "      <td>67.8</td>\n",
       "      <td>65.5</td>\n",
       "      <td>0.9</td>\n",
       "      <td>0.67</td>\n",
       "    </tr>\n",
       "    <tr>\n",
       "      <th>215433</th>\n",
       "      <td>66.2</td>\n",
       "      <td>67.5</td>\n",
       "      <td>65.5</td>\n",
       "      <td>0.9</td>\n",
       "      <td>0.61</td>\n",
       "    </tr>\n",
       "    <tr>\n",
       "      <th>215434</th>\n",
       "      <td>66.2</td>\n",
       "      <td>67.5</td>\n",
       "      <td>65.5</td>\n",
       "      <td>0.9</td>\n",
       "      <td>0.55</td>\n",
       "    </tr>\n",
       "  </tbody>\n",
       "</table>\n",
       "<p>2330 rows × 5 columns</p>\n",
       "</div>"
      ],
      "text/plain": [
       "        CCM.TD. Stopper Last Position Value  \\\n",
       "213105                                 61.0   \n",
       "213106                                 61.1   \n",
       "213107                                 61.3   \n",
       "213108                                 62.0   \n",
       "213109                                 62.1   \n",
       "...                                     ...   \n",
       "215430                                 66.0   \n",
       "215431                                 66.1   \n",
       "215432                                 66.1   \n",
       "215433                                 66.2   \n",
       "215434                                 66.2   \n",
       "\n",
       "        CCM.TD. Stopper position max Value  \\\n",
       "213105                                62.7   \n",
       "213106                                62.7   \n",
       "213107                                62.7   \n",
       "213108                                62.7   \n",
       "213109                                62.8   \n",
       "...                                    ...   \n",
       "215430                                67.8   \n",
       "215431                                67.8   \n",
       "215432                                67.8   \n",
       "215433                                67.5   \n",
       "215434                                67.5   \n",
       "\n",
       "        CCM.TD. Stopper position min Value  \\\n",
       "213105                                57.2   \n",
       "213106                                57.2   \n",
       "213107                                57.2   \n",
       "213108                                57.2   \n",
       "213109                                57.2   \n",
       "...                                    ...   \n",
       "215430                                65.6   \n",
       "215431                                65.5   \n",
       "215432                                65.5   \n",
       "215433                                65.5   \n",
       "215434                                65.5   \n",
       "\n",
       "        CCM.TD. Steel weight in tundish Value  CCM.STR. Throughput Value  \n",
       "213105                                   14.2                       1.41  \n",
       "213106                                   14.2                       1.50  \n",
       "213107                                   14.2                       1.52  \n",
       "213108                                   14.2                       1.54  \n",
       "213109                                   16.6                       1.57  \n",
       "...                                       ...                        ...  \n",
       "215430                                    0.9                       0.76  \n",
       "215431                                    0.9                       0.72  \n",
       "215432                                    0.9                       0.67  \n",
       "215433                                    0.9                       0.61  \n",
       "215434                                    0.9                       0.55  \n",
       "\n",
       "[2330 rows x 5 columns]"
      ]
     },
     "execution_count": 49,
     "metadata": {},
     "output_type": "execute_result"
    }
   ],
   "source": [
    "df_single[columns_low3]"
   ]
  },
  {
   "cell_type": "code",
   "execution_count": null,
   "metadata": {},
   "outputs": [],
   "source": [
    "# Normalization\n",
    "scaler = MinMaxScaler()\n",
    "\n",
    "columns_low3 = ['CCM.TD. Stopper Last Position Value',\n",
    "    'CCM.TD. Stopper position max Value',\n",
    "    'CCM.TD. Stopper position min Value',\n",
    "    'CCM.TD. Steel weight in tundish Value',\n",
    "    'CCM.STR. Throughput Value'\n",
    "    ]\n",
    "\n",
    "df_single[columns_low3] = scaler.fit_transform(df_single[columns_low3])"
   ]
  },
  {
   "cell_type": "code",
   "execution_count": null,
   "metadata": {},
   "outputs": [
    {
     "name": "stderr",
     "output_type": "stream",
     "text": [
      "C:\\Users\\nbuha\\AppData\\Local\\Temp\\ipykernel_21220\\434478351.py:13: SettingWithCopyWarning: \n",
      "A value is trying to be set on a copy of a slice from a DataFrame.\n",
      "Try using .loc[row_indexer,col_indexer] = value instead\n",
      "\n",
      "See the caveats in the documentation: https://pandas.pydata.org/pandas-docs/stable/user_guide/indexing.html#returning-a-view-versus-a-copy\n",
      "  df_single['ProcessNo'] = df_single['HeatNo_in_Cast'].astype(str) + \\\n",
      "C:\\Users\\nbuha\\AppData\\Local\\Temp\\ipykernel_21220\\434478351.py:13: SettingWithCopyWarning: \n",
      "A value is trying to be set on a copy of a slice from a DataFrame.\n",
      "Try using .loc[row_indexer,col_indexer] = value instead\n",
      "\n",
      "See the caveats in the documentation: https://pandas.pydata.org/pandas-docs/stable/user_guide/indexing.html#returning-a-view-versus-a-copy\n",
      "  df_single['ProcessNo'] = df_single['HeatNo_in_Cast'].astype(str) + \\\n",
      "C:\\Users\\nbuha\\AppData\\Local\\Temp\\ipykernel_21220\\434478351.py:13: SettingWithCopyWarning: \n",
      "A value is trying to be set on a copy of a slice from a DataFrame.\n",
      "Try using .loc[row_indexer,col_indexer] = value instead\n",
      "\n",
      "See the caveats in the documentation: https://pandas.pydata.org/pandas-docs/stable/user_guide/indexing.html#returning-a-view-versus-a-copy\n",
      "  df_single['ProcessNo'] = df_single['HeatNo_in_Cast'].astype(str) + \\\n",
      "C:\\Users\\nbuha\\AppData\\Local\\Temp\\ipykernel_21220\\434478351.py:13: SettingWithCopyWarning: \n",
      "A value is trying to be set on a copy of a slice from a DataFrame.\n",
      "Try using .loc[row_indexer,col_indexer] = value instead\n",
      "\n",
      "See the caveats in the documentation: https://pandas.pydata.org/pandas-docs/stable/user_guide/indexing.html#returning-a-view-versus-a-copy\n",
      "  df_single['ProcessNo'] = df_single['HeatNo_in_Cast'].astype(str) + \\\n",
      "C:\\Users\\nbuha\\AppData\\Local\\Temp\\ipykernel_21220\\434478351.py:13: SettingWithCopyWarning: \n",
      "A value is trying to be set on a copy of a slice from a DataFrame.\n",
      "Try using .loc[row_indexer,col_indexer] = value instead\n",
      "\n",
      "See the caveats in the documentation: https://pandas.pydata.org/pandas-docs/stable/user_guide/indexing.html#returning-a-view-versus-a-copy\n",
      "  df_single['ProcessNo'] = df_single['HeatNo_in_Cast'].astype(str) + \\\n",
      "C:\\Users\\nbuha\\AppData\\Local\\Temp\\ipykernel_21220\\434478351.py:13: SettingWithCopyWarning: \n",
      "A value is trying to be set on a copy of a slice from a DataFrame.\n",
      "Try using .loc[row_indexer,col_indexer] = value instead\n",
      "\n",
      "See the caveats in the documentation: https://pandas.pydata.org/pandas-docs/stable/user_guide/indexing.html#returning-a-view-versus-a-copy\n",
      "  df_single['ProcessNo'] = df_single['HeatNo_in_Cast'].astype(str) + \\\n",
      "C:\\Users\\nbuha\\AppData\\Local\\Temp\\ipykernel_21220\\434478351.py:13: SettingWithCopyWarning: \n",
      "A value is trying to be set on a copy of a slice from a DataFrame.\n",
      "Try using .loc[row_indexer,col_indexer] = value instead\n",
      "\n",
      "See the caveats in the documentation: https://pandas.pydata.org/pandas-docs/stable/user_guide/indexing.html#returning-a-view-versus-a-copy\n",
      "  df_single['ProcessNo'] = df_single['HeatNo_in_Cast'].astype(str) + \\\n",
      "C:\\Users\\nbuha\\AppData\\Local\\Temp\\ipykernel_21220\\434478351.py:13: SettingWithCopyWarning: \n",
      "A value is trying to be set on a copy of a slice from a DataFrame.\n",
      "Try using .loc[row_indexer,col_indexer] = value instead\n",
      "\n",
      "See the caveats in the documentation: https://pandas.pydata.org/pandas-docs/stable/user_guide/indexing.html#returning-a-view-versus-a-copy\n",
      "  df_single['ProcessNo'] = df_single['HeatNo_in_Cast'].astype(str) + \\\n",
      "C:\\Users\\nbuha\\AppData\\Local\\Temp\\ipykernel_21220\\434478351.py:13: SettingWithCopyWarning: \n",
      "A value is trying to be set on a copy of a slice from a DataFrame.\n",
      "Try using .loc[row_indexer,col_indexer] = value instead\n",
      "\n",
      "See the caveats in the documentation: https://pandas.pydata.org/pandas-docs/stable/user_guide/indexing.html#returning-a-view-versus-a-copy\n",
      "  df_single['ProcessNo'] = df_single['HeatNo_in_Cast'].astype(str) + \\\n",
      "C:\\Users\\nbuha\\AppData\\Local\\Temp\\ipykernel_21220\\434478351.py:13: SettingWithCopyWarning: \n",
      "A value is trying to be set on a copy of a slice from a DataFrame.\n",
      "Try using .loc[row_indexer,col_indexer] = value instead\n",
      "\n",
      "See the caveats in the documentation: https://pandas.pydata.org/pandas-docs/stable/user_guide/indexing.html#returning-a-view-versus-a-copy\n",
      "  df_single['ProcessNo'] = df_single['HeatNo_in_Cast'].astype(str) + \\\n",
      "C:\\Users\\nbuha\\AppData\\Local\\Temp\\ipykernel_21220\\434478351.py:13: SettingWithCopyWarning: \n",
      "A value is trying to be set on a copy of a slice from a DataFrame.\n",
      "Try using .loc[row_indexer,col_indexer] = value instead\n",
      "\n",
      "See the caveats in the documentation: https://pandas.pydata.org/pandas-docs/stable/user_guide/indexing.html#returning-a-view-versus-a-copy\n",
      "  df_single['ProcessNo'] = df_single['HeatNo_in_Cast'].astype(str) + \\\n",
      "C:\\Users\\nbuha\\AppData\\Local\\Temp\\ipykernel_21220\\434478351.py:13: SettingWithCopyWarning: \n",
      "A value is trying to be set on a copy of a slice from a DataFrame.\n",
      "Try using .loc[row_indexer,col_indexer] = value instead\n",
      "\n",
      "See the caveats in the documentation: https://pandas.pydata.org/pandas-docs/stable/user_guide/indexing.html#returning-a-view-versus-a-copy\n",
      "  df_single['ProcessNo'] = df_single['HeatNo_in_Cast'].astype(str) + \\\n",
      "C:\\Users\\nbuha\\AppData\\Local\\Temp\\ipykernel_21220\\434478351.py:13: SettingWithCopyWarning: \n",
      "A value is trying to be set on a copy of a slice from a DataFrame.\n",
      "Try using .loc[row_indexer,col_indexer] = value instead\n",
      "\n",
      "See the caveats in the documentation: https://pandas.pydata.org/pandas-docs/stable/user_guide/indexing.html#returning-a-view-versus-a-copy\n",
      "  df_single['ProcessNo'] = df_single['HeatNo_in_Cast'].astype(str) + \\\n",
      "C:\\Users\\nbuha\\AppData\\Local\\Temp\\ipykernel_21220\\434478351.py:13: SettingWithCopyWarning: \n",
      "A value is trying to be set on a copy of a slice from a DataFrame.\n",
      "Try using .loc[row_indexer,col_indexer] = value instead\n",
      "\n",
      "See the caveats in the documentation: https://pandas.pydata.org/pandas-docs/stable/user_guide/indexing.html#returning-a-view-versus-a-copy\n",
      "  df_single['ProcessNo'] = df_single['HeatNo_in_Cast'].astype(str) + \\\n",
      "C:\\Users\\nbuha\\AppData\\Local\\Temp\\ipykernel_21220\\434478351.py:13: SettingWithCopyWarning: \n",
      "A value is trying to be set on a copy of a slice from a DataFrame.\n",
      "Try using .loc[row_indexer,col_indexer] = value instead\n",
      "\n",
      "See the caveats in the documentation: https://pandas.pydata.org/pandas-docs/stable/user_guide/indexing.html#returning-a-view-versus-a-copy\n",
      "  df_single['ProcessNo'] = df_single['HeatNo_in_Cast'].astype(str) + \\\n",
      "C:\\Users\\nbuha\\AppData\\Local\\Temp\\ipykernel_21220\\434478351.py:13: SettingWithCopyWarning: \n",
      "A value is trying to be set on a copy of a slice from a DataFrame.\n",
      "Try using .loc[row_indexer,col_indexer] = value instead\n",
      "\n",
      "See the caveats in the documentation: https://pandas.pydata.org/pandas-docs/stable/user_guide/indexing.html#returning-a-view-versus-a-copy\n",
      "  df_single['ProcessNo'] = df_single['HeatNo_in_Cast'].astype(str) + \\\n",
      "C:\\Users\\nbuha\\AppData\\Local\\Temp\\ipykernel_21220\\434478351.py:13: SettingWithCopyWarning: \n",
      "A value is trying to be set on a copy of a slice from a DataFrame.\n",
      "Try using .loc[row_indexer,col_indexer] = value instead\n",
      "\n",
      "See the caveats in the documentation: https://pandas.pydata.org/pandas-docs/stable/user_guide/indexing.html#returning-a-view-versus-a-copy\n",
      "  df_single['ProcessNo'] = df_single['HeatNo_in_Cast'].astype(str) + \\\n",
      "C:\\Users\\nbuha\\AppData\\Local\\Temp\\ipykernel_21220\\434478351.py:13: SettingWithCopyWarning: \n",
      "A value is trying to be set on a copy of a slice from a DataFrame.\n",
      "Try using .loc[row_indexer,col_indexer] = value instead\n",
      "\n",
      "See the caveats in the documentation: https://pandas.pydata.org/pandas-docs/stable/user_guide/indexing.html#returning-a-view-versus-a-copy\n",
      "  df_single['ProcessNo'] = df_single['HeatNo_in_Cast'].astype(str) + \\\n",
      "C:\\Users\\nbuha\\AppData\\Local\\Temp\\ipykernel_21220\\434478351.py:13: SettingWithCopyWarning: \n",
      "A value is trying to be set on a copy of a slice from a DataFrame.\n",
      "Try using .loc[row_indexer,col_indexer] = value instead\n",
      "\n",
      "See the caveats in the documentation: https://pandas.pydata.org/pandas-docs/stable/user_guide/indexing.html#returning-a-view-versus-a-copy\n",
      "  df_single['ProcessNo'] = df_single['HeatNo_in_Cast'].astype(str) + \\\n",
      "C:\\Users\\nbuha\\AppData\\Local\\Temp\\ipykernel_21220\\434478351.py:13: SettingWithCopyWarning: \n",
      "A value is trying to be set on a copy of a slice from a DataFrame.\n",
      "Try using .loc[row_indexer,col_indexer] = value instead\n",
      "\n",
      "See the caveats in the documentation: https://pandas.pydata.org/pandas-docs/stable/user_guide/indexing.html#returning-a-view-versus-a-copy\n",
      "  df_single['ProcessNo'] = df_single['HeatNo_in_Cast'].astype(str) + \\\n",
      "C:\\Users\\nbuha\\AppData\\Local\\Temp\\ipykernel_21220\\434478351.py:13: SettingWithCopyWarning: \n",
      "A value is trying to be set on a copy of a slice from a DataFrame.\n",
      "Try using .loc[row_indexer,col_indexer] = value instead\n",
      "\n",
      "See the caveats in the documentation: https://pandas.pydata.org/pandas-docs/stable/user_guide/indexing.html#returning-a-view-versus-a-copy\n",
      "  df_single['ProcessNo'] = df_single['HeatNo_in_Cast'].astype(str) + \\\n",
      "C:\\Users\\nbuha\\AppData\\Local\\Temp\\ipykernel_21220\\434478351.py:13: SettingWithCopyWarning: \n",
      "A value is trying to be set on a copy of a slice from a DataFrame.\n",
      "Try using .loc[row_indexer,col_indexer] = value instead\n",
      "\n",
      "See the caveats in the documentation: https://pandas.pydata.org/pandas-docs/stable/user_guide/indexing.html#returning-a-view-versus-a-copy\n",
      "  df_single['ProcessNo'] = df_single['HeatNo_in_Cast'].astype(str) + \\\n",
      "C:\\Users\\nbuha\\AppData\\Local\\Temp\\ipykernel_21220\\434478351.py:13: SettingWithCopyWarning: \n",
      "A value is trying to be set on a copy of a slice from a DataFrame.\n",
      "Try using .loc[row_indexer,col_indexer] = value instead\n",
      "\n",
      "See the caveats in the documentation: https://pandas.pydata.org/pandas-docs/stable/user_guide/indexing.html#returning-a-view-versus-a-copy\n",
      "  df_single['ProcessNo'] = df_single['HeatNo_in_Cast'].astype(str) + \\\n",
      "C:\\Users\\nbuha\\AppData\\Local\\Temp\\ipykernel_21220\\434478351.py:13: SettingWithCopyWarning: \n",
      "A value is trying to be set on a copy of a slice from a DataFrame.\n",
      "Try using .loc[row_indexer,col_indexer] = value instead\n",
      "\n",
      "See the caveats in the documentation: https://pandas.pydata.org/pandas-docs/stable/user_guide/indexing.html#returning-a-view-versus-a-copy\n",
      "  df_single['ProcessNo'] = df_single['HeatNo_in_Cast'].astype(str) + \\\n",
      "C:\\Users\\nbuha\\AppData\\Local\\Temp\\ipykernel_21220\\434478351.py:13: SettingWithCopyWarning: \n",
      "A value is trying to be set on a copy of a slice from a DataFrame.\n",
      "Try using .loc[row_indexer,col_indexer] = value instead\n",
      "\n",
      "See the caveats in the documentation: https://pandas.pydata.org/pandas-docs/stable/user_guide/indexing.html#returning-a-view-versus-a-copy\n",
      "  df_single['ProcessNo'] = df_single['HeatNo_in_Cast'].astype(str) + \\\n",
      "C:\\Users\\nbuha\\AppData\\Local\\Temp\\ipykernel_21220\\434478351.py:13: SettingWithCopyWarning: \n",
      "A value is trying to be set on a copy of a slice from a DataFrame.\n",
      "Try using .loc[row_indexer,col_indexer] = value instead\n",
      "\n",
      "See the caveats in the documentation: https://pandas.pydata.org/pandas-docs/stable/user_guide/indexing.html#returning-a-view-versus-a-copy\n",
      "  df_single['ProcessNo'] = df_single['HeatNo_in_Cast'].astype(str) + \\\n",
      "C:\\Users\\nbuha\\AppData\\Local\\Temp\\ipykernel_21220\\434478351.py:13: SettingWithCopyWarning: \n",
      "A value is trying to be set on a copy of a slice from a DataFrame.\n",
      "Try using .loc[row_indexer,col_indexer] = value instead\n",
      "\n",
      "See the caveats in the documentation: https://pandas.pydata.org/pandas-docs/stable/user_guide/indexing.html#returning-a-view-versus-a-copy\n",
      "  df_single['ProcessNo'] = df_single['HeatNo_in_Cast'].astype(str) + \\\n",
      "C:\\Users\\nbuha\\AppData\\Local\\Temp\\ipykernel_21220\\434478351.py:13: SettingWithCopyWarning: \n",
      "A value is trying to be set on a copy of a slice from a DataFrame.\n",
      "Try using .loc[row_indexer,col_indexer] = value instead\n",
      "\n",
      "See the caveats in the documentation: https://pandas.pydata.org/pandas-docs/stable/user_guide/indexing.html#returning-a-view-versus-a-copy\n",
      "  df_single['ProcessNo'] = df_single['HeatNo_in_Cast'].astype(str) + \\\n",
      "C:\\Users\\nbuha\\AppData\\Local\\Temp\\ipykernel_21220\\434478351.py:13: SettingWithCopyWarning: \n",
      "A value is trying to be set on a copy of a slice from a DataFrame.\n",
      "Try using .loc[row_indexer,col_indexer] = value instead\n",
      "\n",
      "See the caveats in the documentation: https://pandas.pydata.org/pandas-docs/stable/user_guide/indexing.html#returning-a-view-versus-a-copy\n",
      "  df_single['ProcessNo'] = df_single['HeatNo_in_Cast'].astype(str) + \\\n",
      "C:\\Users\\nbuha\\AppData\\Local\\Temp\\ipykernel_21220\\434478351.py:13: SettingWithCopyWarning: \n",
      "A value is trying to be set on a copy of a slice from a DataFrame.\n",
      "Try using .loc[row_indexer,col_indexer] = value instead\n",
      "\n",
      "See the caveats in the documentation: https://pandas.pydata.org/pandas-docs/stable/user_guide/indexing.html#returning-a-view-versus-a-copy\n",
      "  df_single['ProcessNo'] = df_single['HeatNo_in_Cast'].astype(str) + \\\n",
      "C:\\Users\\nbuha\\AppData\\Local\\Temp\\ipykernel_21220\\434478351.py:13: SettingWithCopyWarning: \n",
      "A value is trying to be set on a copy of a slice from a DataFrame.\n",
      "Try using .loc[row_indexer,col_indexer] = value instead\n",
      "\n",
      "See the caveats in the documentation: https://pandas.pydata.org/pandas-docs/stable/user_guide/indexing.html#returning-a-view-versus-a-copy\n",
      "  df_single['ProcessNo'] = df_single['HeatNo_in_Cast'].astype(str) + \\\n",
      "C:\\Users\\nbuha\\AppData\\Local\\Temp\\ipykernel_21220\\434478351.py:13: SettingWithCopyWarning: \n",
      "A value is trying to be set on a copy of a slice from a DataFrame.\n",
      "Try using .loc[row_indexer,col_indexer] = value instead\n",
      "\n",
      "See the caveats in the documentation: https://pandas.pydata.org/pandas-docs/stable/user_guide/indexing.html#returning-a-view-versus-a-copy\n",
      "  df_single['ProcessNo'] = df_single['HeatNo_in_Cast'].astype(str) + \\\n",
      "C:\\Users\\nbuha\\AppData\\Local\\Temp\\ipykernel_21220\\434478351.py:13: SettingWithCopyWarning: \n",
      "A value is trying to be set on a copy of a slice from a DataFrame.\n",
      "Try using .loc[row_indexer,col_indexer] = value instead\n",
      "\n",
      "See the caveats in the documentation: https://pandas.pydata.org/pandas-docs/stable/user_guide/indexing.html#returning-a-view-versus-a-copy\n",
      "  df_single['ProcessNo'] = df_single['HeatNo_in_Cast'].astype(str) + \\\n",
      "C:\\Users\\nbuha\\AppData\\Local\\Temp\\ipykernel_21220\\434478351.py:13: SettingWithCopyWarning: \n",
      "A value is trying to be set on a copy of a slice from a DataFrame.\n",
      "Try using .loc[row_indexer,col_indexer] = value instead\n",
      "\n",
      "See the caveats in the documentation: https://pandas.pydata.org/pandas-docs/stable/user_guide/indexing.html#returning-a-view-versus-a-copy\n",
      "  df_single['ProcessNo'] = df_single['HeatNo_in_Cast'].astype(str) + \\\n",
      "C:\\Users\\nbuha\\AppData\\Local\\Temp\\ipykernel_21220\\434478351.py:13: SettingWithCopyWarning: \n",
      "A value is trying to be set on a copy of a slice from a DataFrame.\n",
      "Try using .loc[row_indexer,col_indexer] = value instead\n",
      "\n",
      "See the caveats in the documentation: https://pandas.pydata.org/pandas-docs/stable/user_guide/indexing.html#returning-a-view-versus-a-copy\n",
      "  df_single['ProcessNo'] = df_single['HeatNo_in_Cast'].astype(str) + \\\n",
      "C:\\Users\\nbuha\\AppData\\Local\\Temp\\ipykernel_21220\\434478351.py:13: SettingWithCopyWarning: \n",
      "A value is trying to be set on a copy of a slice from a DataFrame.\n",
      "Try using .loc[row_indexer,col_indexer] = value instead\n",
      "\n",
      "See the caveats in the documentation: https://pandas.pydata.org/pandas-docs/stable/user_guide/indexing.html#returning-a-view-versus-a-copy\n",
      "  df_single['ProcessNo'] = df_single['HeatNo_in_Cast'].astype(str) + \\\n",
      "C:\\Users\\nbuha\\AppData\\Local\\Temp\\ipykernel_21220\\434478351.py:13: SettingWithCopyWarning: \n",
      "A value is trying to be set on a copy of a slice from a DataFrame.\n",
      "Try using .loc[row_indexer,col_indexer] = value instead\n",
      "\n",
      "See the caveats in the documentation: https://pandas.pydata.org/pandas-docs/stable/user_guide/indexing.html#returning-a-view-versus-a-copy\n",
      "  df_single['ProcessNo'] = df_single['HeatNo_in_Cast'].astype(str) + \\\n",
      "C:\\Users\\nbuha\\AppData\\Local\\Temp\\ipykernel_21220\\434478351.py:13: SettingWithCopyWarning: \n",
      "A value is trying to be set on a copy of a slice from a DataFrame.\n",
      "Try using .loc[row_indexer,col_indexer] = value instead\n",
      "\n",
      "See the caveats in the documentation: https://pandas.pydata.org/pandas-docs/stable/user_guide/indexing.html#returning-a-view-versus-a-copy\n",
      "  df_single['ProcessNo'] = df_single['HeatNo_in_Cast'].astype(str) + \\\n",
      "C:\\Users\\nbuha\\AppData\\Local\\Temp\\ipykernel_21220\\434478351.py:13: SettingWithCopyWarning: \n",
      "A value is trying to be set on a copy of a slice from a DataFrame.\n",
      "Try using .loc[row_indexer,col_indexer] = value instead\n",
      "\n",
      "See the caveats in the documentation: https://pandas.pydata.org/pandas-docs/stable/user_guide/indexing.html#returning-a-view-versus-a-copy\n",
      "  df_single['ProcessNo'] = df_single['HeatNo_in_Cast'].astype(str) + \\\n",
      "C:\\Users\\nbuha\\AppData\\Local\\Temp\\ipykernel_21220\\434478351.py:13: SettingWithCopyWarning: \n",
      "A value is trying to be set on a copy of a slice from a DataFrame.\n",
      "Try using .loc[row_indexer,col_indexer] = value instead\n",
      "\n",
      "See the caveats in the documentation: https://pandas.pydata.org/pandas-docs/stable/user_guide/indexing.html#returning-a-view-versus-a-copy\n",
      "  df_single['ProcessNo'] = df_single['HeatNo_in_Cast'].astype(str) + \\\n",
      "C:\\Users\\nbuha\\AppData\\Local\\Temp\\ipykernel_21220\\434478351.py:13: SettingWithCopyWarning: \n",
      "A value is trying to be set on a copy of a slice from a DataFrame.\n",
      "Try using .loc[row_indexer,col_indexer] = value instead\n",
      "\n",
      "See the caveats in the documentation: https://pandas.pydata.org/pandas-docs/stable/user_guide/indexing.html#returning-a-view-versus-a-copy\n",
      "  df_single['ProcessNo'] = df_single['HeatNo_in_Cast'].astype(str) + \\\n",
      "C:\\Users\\nbuha\\AppData\\Local\\Temp\\ipykernel_21220\\434478351.py:13: SettingWithCopyWarning: \n",
      "A value is trying to be set on a copy of a slice from a DataFrame.\n",
      "Try using .loc[row_indexer,col_indexer] = value instead\n",
      "\n",
      "See the caveats in the documentation: https://pandas.pydata.org/pandas-docs/stable/user_guide/indexing.html#returning-a-view-versus-a-copy\n",
      "  df_single['ProcessNo'] = df_single['HeatNo_in_Cast'].astype(str) + \\\n",
      "C:\\Users\\nbuha\\AppData\\Local\\Temp\\ipykernel_21220\\434478351.py:13: SettingWithCopyWarning: \n",
      "A value is trying to be set on a copy of a slice from a DataFrame.\n",
      "Try using .loc[row_indexer,col_indexer] = value instead\n",
      "\n",
      "See the caveats in the documentation: https://pandas.pydata.org/pandas-docs/stable/user_guide/indexing.html#returning-a-view-versus-a-copy\n",
      "  df_single['ProcessNo'] = df_single['HeatNo_in_Cast'].astype(str) + \\\n",
      "C:\\Users\\nbuha\\AppData\\Local\\Temp\\ipykernel_21220\\434478351.py:13: SettingWithCopyWarning: \n",
      "A value is trying to be set on a copy of a slice from a DataFrame.\n",
      "Try using .loc[row_indexer,col_indexer] = value instead\n",
      "\n",
      "See the caveats in the documentation: https://pandas.pydata.org/pandas-docs/stable/user_guide/indexing.html#returning-a-view-versus-a-copy\n",
      "  df_single['ProcessNo'] = df_single['HeatNo_in_Cast'].astype(str) + \\\n",
      "C:\\Users\\nbuha\\AppData\\Local\\Temp\\ipykernel_21220\\434478351.py:13: SettingWithCopyWarning: \n",
      "A value is trying to be set on a copy of a slice from a DataFrame.\n",
      "Try using .loc[row_indexer,col_indexer] = value instead\n",
      "\n",
      "See the caveats in the documentation: https://pandas.pydata.org/pandas-docs/stable/user_guide/indexing.html#returning-a-view-versus-a-copy\n",
      "  df_single['ProcessNo'] = df_single['HeatNo_in_Cast'].astype(str) + \\\n",
      "C:\\Users\\nbuha\\AppData\\Local\\Temp\\ipykernel_21220\\434478351.py:13: SettingWithCopyWarning: \n",
      "A value is trying to be set on a copy of a slice from a DataFrame.\n",
      "Try using .loc[row_indexer,col_indexer] = value instead\n",
      "\n",
      "See the caveats in the documentation: https://pandas.pydata.org/pandas-docs/stable/user_guide/indexing.html#returning-a-view-versus-a-copy\n",
      "  df_single['ProcessNo'] = df_single['HeatNo_in_Cast'].astype(str) + \\\n",
      "C:\\Users\\nbuha\\AppData\\Local\\Temp\\ipykernel_21220\\434478351.py:13: SettingWithCopyWarning: \n",
      "A value is trying to be set on a copy of a slice from a DataFrame.\n",
      "Try using .loc[row_indexer,col_indexer] = value instead\n",
      "\n",
      "See the caveats in the documentation: https://pandas.pydata.org/pandas-docs/stable/user_guide/indexing.html#returning-a-view-versus-a-copy\n",
      "  df_single['ProcessNo'] = df_single['HeatNo_in_Cast'].astype(str) + \\\n",
      "C:\\Users\\nbuha\\AppData\\Local\\Temp\\ipykernel_21220\\434478351.py:13: SettingWithCopyWarning: \n",
      "A value is trying to be set on a copy of a slice from a DataFrame.\n",
      "Try using .loc[row_indexer,col_indexer] = value instead\n",
      "\n",
      "See the caveats in the documentation: https://pandas.pydata.org/pandas-docs/stable/user_guide/indexing.html#returning-a-view-versus-a-copy\n",
      "  df_single['ProcessNo'] = df_single['HeatNo_in_Cast'].astype(str) + \\\n",
      "C:\\Users\\nbuha\\AppData\\Local\\Temp\\ipykernel_21220\\434478351.py:13: SettingWithCopyWarning: \n",
      "A value is trying to be set on a copy of a slice from a DataFrame.\n",
      "Try using .loc[row_indexer,col_indexer] = value instead\n",
      "\n",
      "See the caveats in the documentation: https://pandas.pydata.org/pandas-docs/stable/user_guide/indexing.html#returning-a-view-versus-a-copy\n",
      "  df_single['ProcessNo'] = df_single['HeatNo_in_Cast'].astype(str) + \\\n",
      "C:\\Users\\nbuha\\AppData\\Local\\Temp\\ipykernel_21220\\434478351.py:13: SettingWithCopyWarning: \n",
      "A value is trying to be set on a copy of a slice from a DataFrame.\n",
      "Try using .loc[row_indexer,col_indexer] = value instead\n",
      "\n",
      "See the caveats in the documentation: https://pandas.pydata.org/pandas-docs/stable/user_guide/indexing.html#returning-a-view-versus-a-copy\n",
      "  df_single['ProcessNo'] = df_single['HeatNo_in_Cast'].astype(str) + \\\n"
     ]
    }
   ],
   "source": [
    "\n",
    "\n",
    "for i in df['CastNo'].unique():\n",
    "\n",
    "    selected_id = i\n",
    "    \n",
    "    if selected_id == 150.:\n",
    "        break\n",
    "    df_single = df[df['CastNo'] == selected_id]\n",
    "    \n",
    "    df_single['ProcessNo'] = df_single['HeatNo_in_Cast'].astype(str) + \\\n",
    "                            df_single['SlabNo_in_Heat'].astype(str).str.zfill(2) + \\\n",
    "                            df_single['Seg No'].astype(str).str.zfill(2) \n",
    "\n",
    "        # Columns to be normalized\n",
    "\n",
    "\n",
    "    df_melt_low3 = pd.melt(df_single, id_vars=[\"ProcessNo\"], value_vars=columns_low3,\n",
    "                    var_name=\"Measurement\", value_name=\"Value\")\n",
    "\n",
    "    fig, axes = plt.subplots(figsize=(12, 8))\n",
    "\n",
    "    plot = sns.lineplot(data=df_melt_low3, x=\"ProcessNo\", y=\"Value\", hue=\"Measurement\", errorbar=None)\n",
    "    # plot.invert_yaxis()\n",
    "    sns.move_legend(plot, \"upper left\", bbox_to_anchor=(1,1))\n",
    "\n",
    "    # reduce the number of x-labels\n",
    "    n = len(df_single) / 20\n",
    "    [l.set_visible(False) for (i, l) in enumerate(plot.xaxis.get_ticklabels()) if i % n != 0]\n",
    "\n",
    "    # NOTE! using ; in the following line will suppress the Jupyter Notebook \n",
    "    # default printing behavior of the last line (no idea why this happens!)\n",
    "    plt.xticks(rotation=45);\n",
    "    # Adjust layout to prevent overlapping titles\n",
    "    plt.tight_layout()\n",
    "    plt.title(f'Cast: {i}')\n",
    "\n",
    "\n",
    "    filename = os.path.join('graphs/low3_graphs', f'cast_{i}.png')\n",
    "\n",
    "    plt.savefig(filename)\n",
    "\n",
    "    plt.close()\n",
    "\n",
    "\n",
    "    \n"
   ]
  }
 ],
 "metadata": {
  "kernelspec": {
   "display_name": ".venv",
   "language": "python",
   "name": "python3"
  },
  "language_info": {
   "codemirror_mode": {
    "name": "ipython",
    "version": 3
   },
   "file_extension": ".py",
   "mimetype": "text/x-python",
   "name": "python",
   "nbconvert_exporter": "python",
   "pygments_lexer": "ipython3",
   "version": "3.11.2"
  }
 },
 "nbformat": 4,
 "nbformat_minor": 2
}
