{
 "cells": [
  {
   "cell_type": "markdown",
   "id": "65421699",
   "metadata": {},
   "source": [
    "### The SEN type effects in clogging. Also the termperture difference matters.\n",
    "\n"
   ]
  }
 ],
 "metadata": {
  "language_info": {
   "name": "python"
  }
 },
 "nbformat": 4,
 "nbformat_minor": 5
}
