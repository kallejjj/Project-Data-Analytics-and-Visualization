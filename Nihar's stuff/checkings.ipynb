{
 "cells": [
  {
   "cell_type": "markdown",
   "id": "65421699",
   "metadata": {},
   "source": [
    "### The SEN type effects in clogging. Also the termperture difference matters.\n",
    "\n"
   ]
  },
  {
   "cell_type": "markdown",
   "id": "a70f93cf",
   "metadata": {},
   "source": [
    "Cast to check \n",
    "\n",
    "102\n",
    "113\n",
    "112\n"
   ]
  },
  {
   "cell_type": "markdown",
   "id": "1d162482",
   "metadata": {},
   "source": [
    "# Notes:\n"
   ]
  },
  {
   "cell_type": "markdown",
   "id": "16387d52",
   "metadata": {},
   "source": [
    "### CastNo: 10\n",
    "\n",
    "In cast 3, there is sudden movement of stopper and throughput and tudish flow also changes drastically.\n",
    "Chances of clogging."
   ]
  },
  {
   "cell_type": "markdown",
   "id": "ab93eefa",
   "metadata": {},
   "source": [
    "### CastNo: 111\n",
    "\n",
    "There is a moment where the stopper position changes much. chances of clogging."
   ]
  },
  {
   "cell_type": "markdown",
   "id": "7b464c39",
   "metadata": {},
   "source": [
    "### CastNo: 112\n",
    "\n",
    "clearly a case of clogging."
   ]
  },
  {
   "cell_type": "markdown",
   "id": "d2b48616",
   "metadata": {},
   "source": [
    "### CastNo: 113\n",
    "\n",
    "Take a look."
   ]
  },
  {
   "cell_type": "markdown",
   "id": "e911f1fa",
   "metadata": {},
   "source": [
    "### CastNo: 114\n",
    "\n",
    "Seems wierd."
   ]
  },
  {
   "cell_type": "markdown",
   "id": "40817446",
   "metadata": {},
   "source": [
    "### CastNo: 129\n",
    "\n",
    "Wierd momment of stopper."
   ]
  },
  {
   "cell_type": "markdown",
   "id": "b213f278",
   "metadata": {},
   "source": [
    "### CastNo: 134\n",
    "\n",
    "Take a look."
   ]
  },
  {
   "cell_type": "markdown",
   "id": "9a782dd6",
   "metadata": {},
   "source": [
    "### CastNo: 137\n",
    "\n",
    "??"
   ]
  },
  {
   "cell_type": "markdown",
   "id": "6aa1bf27",
   "metadata": {},
   "source": [
    "### CastNo: 139"
   ]
  },
  {
   "cell_type": "markdown",
   "id": "83af7ca1",
   "metadata": {},
   "source": []
  }
 ],
 "metadata": {
  "language_info": {
   "name": "python"
  }
 },
 "nbformat": 4,
 "nbformat_minor": 5
}
