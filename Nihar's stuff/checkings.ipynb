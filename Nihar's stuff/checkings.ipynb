{
 "cells": [
  {
   "cell_type": "markdown",
   "id": "65421699",
   "metadata": {},
   "source": [
    "### The SEN type effects in clogging. Also the termperture difference matters.\n",
    "\n"
   ]
  },
  {
   "cell_type": "markdown",
   "id": "a70f93cf",
   "metadata": {},
   "source": [
    "Cast to check \n",
    "\n",
    "102\n",
    "113\n",
    "112\n"
   ]
  }
 ],
 "metadata": {
  "language_info": {
   "name": "python"
  }
 },
 "nbformat": 4,
 "nbformat_minor": 5
}
