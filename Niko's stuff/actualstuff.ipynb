{
 "cells": [
  {
   "cell_type": "markdown",
   "metadata": {},
   "source": [
    "### Example, full version steel data, version 3 + weather data"
   ]
  },
  {
   "cell_type": "code",
   "execution_count": 44,
   "metadata": {},
   "outputs": [
    {
     "name": "stderr",
     "output_type": "stream",
     "text": [
      "C:\\Users\\OMISTAJA\\AppData\\Local\\Temp\\ipykernel_17772\\2909977960.py:8: DtypeWarning: Columns (42) have mixed types. Specify dtype option on import or set low_memory=False.\n",
      "  df = pd.read_csv('../data/sulatto_fulldata2025_version2.csv', delimiter=\";\", index_col=None)\n"
     ]
    }
   ],
   "source": [
    "import pandas as pd\n",
    "import numpy as np\n",
    "import seaborn as sns\n",
    "import matplotlib.pyplot as plt\n",
    "\n",
    "# replace this with your own file path in your own file system\n",
    "# replace this with your own file path in your own file system\n",
    "df = pd.read_csv('../data/sulatto_fulldata2025_version2.csv', delimiter=\";\", index_col=None)\n",
    "\n",
    "# load the weather data that matches partially with our steel data (originally FMI)\n",
    "df_weather = pd.read_csv('../data/tornio_weather.csv')"
   ]
  },
  {
   "cell_type": "code",
   "execution_count": 45,
   "metadata": {},
   "outputs": [
    {
     "data": {
      "application/vnd.microsoft.datawrangler.viewer.v0+json": {
       "columns": [
        {
         "name": "index",
         "rawType": "object",
         "type": "string"
        },
        {
         "name": "Weight",
         "rawType": "float64",
         "type": "float"
        },
        {
         "name": "Width",
         "rawType": "float64",
         "type": "float"
        },
        {
         "name": "Seg No",
         "rawType": "float64",
         "type": "float"
        },
        {
         "name": "CCM.TD. Heat counter Value",
         "rawType": "float64",
         "type": "float"
        },
        {
         "name": "CCM.TD. Temperature liquidus Value",
         "rawType": "float64",
         "type": "float"
        },
        {
         "name": "CCM.TD. Temperature liquidus Dynaphase Value",
         "rawType": "float64",
         "type": "float"
        },
        {
         "name": "CCM.TD. Superheat Value",
         "rawType": "float64",
         "type": "float"
        },
        {
         "name": "CCM.TD. Temperature tundish Value",
         "rawType": "float64",
         "type": "float"
        },
        {
         "name": "CCM.SEN. Immersion depth Value",
         "rawType": "float64",
         "type": "float"
        },
        {
         "name": "CCM.MD. Mold width Value",
         "rawType": "float64",
         "type": "float"
        },
        {
         "name": "CCM.SLAB. Slab counter heat Value",
         "rawType": "float64",
         "type": "float"
        },
        {
         "name": "CCM.SLAB. Slab counter sequence Value",
         "rawType": "float64",
         "type": "float"
        },
        {
         "name": "HeatNo_in_Cast",
         "rawType": "float64",
         "type": "float"
        },
        {
         "name": "CastNo",
         "rawType": "float64",
         "type": "float"
        }
       ],
       "conversionMethod": "pd.DataFrame",
       "ref": "f845a2e2-4b49-4f6a-9a7b-9efaa3a131c1",
       "rows": [
        [
         "count",
         "677815.0",
         "677815.0",
         "677815.0",
         "677299.0",
         "677299.0",
         "677299.0",
         "677299.0",
         "677299.0",
         "677299.0",
         "677299.0",
         "674264.0",
         "674496.0",
         "677815.0",
         "671826.0"
        ],
        [
         "mean",
         "23864.551870348103",
         "1388.7990203816676",
         "55.634901853750655",
         "4.230856682203871",
         "1455.0",
         "1458.7940008770129",
         "37.868676906358935",
         "1492.868676906359",
         "180.25331205272707",
         "1388.5804910386698",
         "3.6027624194677457",
         "23.4124457372616",
         "3853.831222383689",
         "175.76737726732816"
        ],
        [
         "std",
         "3581.849790511447",
         "151.11517938389338",
         "32.787337343953425",
         "2.2647344663271585",
         "0.0",
         "1.703725341121496",
         "8.310765380476635",
         "8.310765380476635",
         "14.401173860880915",
         "151.11393404418328",
         "1.8302740427399735",
         "14.367370245908916",
         "2041.101896176714",
         "42.724485581727734"
        ],
        [
         "min",
         "6700.0",
         "1034.0",
         "1.0",
         "1.0",
         "1455.0",
         "1452.0",
         "-3.0",
         "1452.0",
         "0.0",
         "1034.0",
         "1.0",
         "1.0",
         "315.0",
         "100.0"
        ],
        [
         "25%",
         "23218.0",
         "1284.0",
         "28.0",
         "2.0",
         "1455.0",
         "1458.0",
         "34.0",
         "1489.0",
         "170.0",
         "1284.0",
         "2.0",
         "11.0",
         "2079.0",
         "140.0"
        ],
        [
         "50%",
         "23280.0",
         "1284.0",
         "55.0",
         "4.0",
         "1455.0",
         "1459.0",
         "38.0",
         "1493.0",
         "182.0",
         "1284.0",
         "4.0",
         "22.0",
         "3878.0",
         "178.0"
        ],
        [
         "75%",
         "25795.0",
         "1543.0",
         "83.0",
         "6.0",
         "1455.0",
         "1460.0",
         "42.0",
         "1497.0",
         "190.0",
         "1543.0",
         "5.0",
         "35.0",
         "5607.0",
         "212.0"
        ],
        [
         "max",
         "123605.0",
         "1620.0",
         "511.0",
         "10.0",
         "1455.0",
         "1461.0",
         "145.0",
         "1600.0",
         "204.0",
         "1620.0",
         "9.0",
         "64.0",
         "7385.0",
         "248.0"
        ]
       ],
       "shape": {
        "columns": 14,
        "rows": 8
       }
      },
      "text/html": [
       "<div>\n",
       "<style scoped>\n",
       "    .dataframe tbody tr th:only-of-type {\n",
       "        vertical-align: middle;\n",
       "    }\n",
       "\n",
       "    .dataframe tbody tr th {\n",
       "        vertical-align: top;\n",
       "    }\n",
       "\n",
       "    .dataframe thead th {\n",
       "        text-align: right;\n",
       "    }\n",
       "</style>\n",
       "<table border=\"1\" class=\"dataframe\">\n",
       "  <thead>\n",
       "    <tr style=\"text-align: right;\">\n",
       "      <th></th>\n",
       "      <th>Weight</th>\n",
       "      <th>Width</th>\n",
       "      <th>Seg No</th>\n",
       "      <th>CCM.TD. Heat counter Value</th>\n",
       "      <th>CCM.TD. Temperature liquidus Value</th>\n",
       "      <th>CCM.TD. Temperature liquidus Dynaphase Value</th>\n",
       "      <th>CCM.TD. Superheat Value</th>\n",
       "      <th>CCM.TD. Temperature tundish Value</th>\n",
       "      <th>CCM.SEN. Immersion depth Value</th>\n",
       "      <th>CCM.MD. Mold width Value</th>\n",
       "      <th>CCM.SLAB. Slab counter heat Value</th>\n",
       "      <th>CCM.SLAB. Slab counter sequence Value</th>\n",
       "      <th>HeatNo_in_Cast</th>\n",
       "      <th>CastNo</th>\n",
       "    </tr>\n",
       "  </thead>\n",
       "  <tbody>\n",
       "    <tr>\n",
       "      <th>count</th>\n",
       "      <td>677815.000000</td>\n",
       "      <td>677815.000000</td>\n",
       "      <td>677815.000000</td>\n",
       "      <td>677299.000000</td>\n",
       "      <td>677299.0</td>\n",
       "      <td>677299.000000</td>\n",
       "      <td>677299.000000</td>\n",
       "      <td>677299.000000</td>\n",
       "      <td>677299.000000</td>\n",
       "      <td>677299.000000</td>\n",
       "      <td>674264.000000</td>\n",
       "      <td>674496.000000</td>\n",
       "      <td>677815.000000</td>\n",
       "      <td>671826.000000</td>\n",
       "    </tr>\n",
       "    <tr>\n",
       "      <th>mean</th>\n",
       "      <td>23864.551870</td>\n",
       "      <td>1388.799020</td>\n",
       "      <td>55.634902</td>\n",
       "      <td>4.230857</td>\n",
       "      <td>1455.0</td>\n",
       "      <td>1458.794001</td>\n",
       "      <td>37.868677</td>\n",
       "      <td>1492.868677</td>\n",
       "      <td>180.253312</td>\n",
       "      <td>1388.580491</td>\n",
       "      <td>3.602762</td>\n",
       "      <td>23.412446</td>\n",
       "      <td>3853.831222</td>\n",
       "      <td>175.767377</td>\n",
       "    </tr>\n",
       "    <tr>\n",
       "      <th>std</th>\n",
       "      <td>3581.849791</td>\n",
       "      <td>151.115179</td>\n",
       "      <td>32.787337</td>\n",
       "      <td>2.264734</td>\n",
       "      <td>0.0</td>\n",
       "      <td>1.703725</td>\n",
       "      <td>8.310765</td>\n",
       "      <td>8.310765</td>\n",
       "      <td>14.401174</td>\n",
       "      <td>151.113934</td>\n",
       "      <td>1.830274</td>\n",
       "      <td>14.367370</td>\n",
       "      <td>2041.101896</td>\n",
       "      <td>42.724486</td>\n",
       "    </tr>\n",
       "    <tr>\n",
       "      <th>min</th>\n",
       "      <td>6700.000000</td>\n",
       "      <td>1034.000000</td>\n",
       "      <td>1.000000</td>\n",
       "      <td>1.000000</td>\n",
       "      <td>1455.0</td>\n",
       "      <td>1452.000000</td>\n",
       "      <td>-3.000000</td>\n",
       "      <td>1452.000000</td>\n",
       "      <td>0.000000</td>\n",
       "      <td>1034.000000</td>\n",
       "      <td>1.000000</td>\n",
       "      <td>1.000000</td>\n",
       "      <td>315.000000</td>\n",
       "      <td>100.000000</td>\n",
       "    </tr>\n",
       "    <tr>\n",
       "      <th>25%</th>\n",
       "      <td>23218.000000</td>\n",
       "      <td>1284.000000</td>\n",
       "      <td>28.000000</td>\n",
       "      <td>2.000000</td>\n",
       "      <td>1455.0</td>\n",
       "      <td>1458.000000</td>\n",
       "      <td>34.000000</td>\n",
       "      <td>1489.000000</td>\n",
       "      <td>170.000000</td>\n",
       "      <td>1284.000000</td>\n",
       "      <td>2.000000</td>\n",
       "      <td>11.000000</td>\n",
       "      <td>2079.000000</td>\n",
       "      <td>140.000000</td>\n",
       "    </tr>\n",
       "    <tr>\n",
       "      <th>50%</th>\n",
       "      <td>23280.000000</td>\n",
       "      <td>1284.000000</td>\n",
       "      <td>55.000000</td>\n",
       "      <td>4.000000</td>\n",
       "      <td>1455.0</td>\n",
       "      <td>1459.000000</td>\n",
       "      <td>38.000000</td>\n",
       "      <td>1493.000000</td>\n",
       "      <td>182.000000</td>\n",
       "      <td>1284.000000</td>\n",
       "      <td>4.000000</td>\n",
       "      <td>22.000000</td>\n",
       "      <td>3878.000000</td>\n",
       "      <td>178.000000</td>\n",
       "    </tr>\n",
       "    <tr>\n",
       "      <th>75%</th>\n",
       "      <td>25795.000000</td>\n",
       "      <td>1543.000000</td>\n",
       "      <td>83.000000</td>\n",
       "      <td>6.000000</td>\n",
       "      <td>1455.0</td>\n",
       "      <td>1460.000000</td>\n",
       "      <td>42.000000</td>\n",
       "      <td>1497.000000</td>\n",
       "      <td>190.000000</td>\n",
       "      <td>1543.000000</td>\n",
       "      <td>5.000000</td>\n",
       "      <td>35.000000</td>\n",
       "      <td>5607.000000</td>\n",
       "      <td>212.000000</td>\n",
       "    </tr>\n",
       "    <tr>\n",
       "      <th>max</th>\n",
       "      <td>123605.000000</td>\n",
       "      <td>1620.000000</td>\n",
       "      <td>511.000000</td>\n",
       "      <td>10.000000</td>\n",
       "      <td>1455.0</td>\n",
       "      <td>1461.000000</td>\n",
       "      <td>145.000000</td>\n",
       "      <td>1600.000000</td>\n",
       "      <td>204.000000</td>\n",
       "      <td>1620.000000</td>\n",
       "      <td>9.000000</td>\n",
       "      <td>64.000000</td>\n",
       "      <td>7385.000000</td>\n",
       "      <td>248.000000</td>\n",
       "    </tr>\n",
       "  </tbody>\n",
       "</table>\n",
       "</div>"
      ],
      "text/plain": [
       "              Weight          Width         Seg No  \\\n",
       "count  677815.000000  677815.000000  677815.000000   \n",
       "mean    23864.551870    1388.799020      55.634902   \n",
       "std      3581.849791     151.115179      32.787337   \n",
       "min      6700.000000    1034.000000       1.000000   \n",
       "25%     23218.000000    1284.000000      28.000000   \n",
       "50%     23280.000000    1284.000000      55.000000   \n",
       "75%     25795.000000    1543.000000      83.000000   \n",
       "max    123605.000000    1620.000000     511.000000   \n",
       "\n",
       "       CCM.TD. Heat counter Value  CCM.TD. Temperature liquidus Value  \\\n",
       "count               677299.000000                            677299.0   \n",
       "mean                     4.230857                              1455.0   \n",
       "std                      2.264734                                 0.0   \n",
       "min                      1.000000                              1455.0   \n",
       "25%                      2.000000                              1455.0   \n",
       "50%                      4.000000                              1455.0   \n",
       "75%                      6.000000                              1455.0   \n",
       "max                     10.000000                              1455.0   \n",
       "\n",
       "       CCM.TD. Temperature liquidus Dynaphase Value  CCM.TD. Superheat Value  \\\n",
       "count                                 677299.000000            677299.000000   \n",
       "mean                                    1458.794001                37.868677   \n",
       "std                                        1.703725                 8.310765   \n",
       "min                                     1452.000000                -3.000000   \n",
       "25%                                     1458.000000                34.000000   \n",
       "50%                                     1459.000000                38.000000   \n",
       "75%                                     1460.000000                42.000000   \n",
       "max                                     1461.000000               145.000000   \n",
       "\n",
       "       CCM.TD. Temperature tundish Value  CCM.SEN. Immersion depth Value  \\\n",
       "count                      677299.000000                   677299.000000   \n",
       "mean                         1492.868677                      180.253312   \n",
       "std                             8.310765                       14.401174   \n",
       "min                          1452.000000                        0.000000   \n",
       "25%                          1489.000000                      170.000000   \n",
       "50%                          1493.000000                      182.000000   \n",
       "75%                          1497.000000                      190.000000   \n",
       "max                          1600.000000                      204.000000   \n",
       "\n",
       "       CCM.MD. Mold width Value  CCM.SLAB. Slab counter heat Value  \\\n",
       "count             677299.000000                      674264.000000   \n",
       "mean                1388.580491                           3.602762   \n",
       "std                  151.113934                           1.830274   \n",
       "min                 1034.000000                           1.000000   \n",
       "25%                 1284.000000                           2.000000   \n",
       "50%                 1284.000000                           4.000000   \n",
       "75%                 1543.000000                           5.000000   \n",
       "max                 1620.000000                           9.000000   \n",
       "\n",
       "       CCM.SLAB. Slab counter sequence Value  HeatNo_in_Cast         CastNo  \n",
       "count                          674496.000000   677815.000000  671826.000000  \n",
       "mean                               23.412446     3853.831222     175.767377  \n",
       "std                                14.367370     2041.101896      42.724486  \n",
       "min                                 1.000000      315.000000     100.000000  \n",
       "25%                                11.000000     2079.000000     140.000000  \n",
       "50%                                22.000000     3878.000000     178.000000  \n",
       "75%                                35.000000     5607.000000     212.000000  \n",
       "max                                64.000000     7385.000000     248.000000  "
      ]
     },
     "execution_count": 45,
     "metadata": {},
     "output_type": "execute_result"
    }
   ],
   "source": [
    "df.describe()"
   ]
  },
  {
   "cell_type": "markdown",
   "metadata": {},
   "source": [
    "### Merging: Combine Steel data with weather data"
   ]
  },
  {
   "cell_type": "markdown",
   "metadata": {},
   "source": [
    "#### Before we merge these datasets, we have to match their style of datetimes, which will be then used as the basis of merging (connecting point)"
   ]
  },
  {
   "cell_type": "code",
   "execution_count": 46,
   "metadata": {},
   "outputs": [],
   "source": [
    "# Step 1: remove the seconds from the steel data\n",
    "# Steel data: 2023-02-20 20:56:00\n",
    "# Weather data: year, month, day separately + time : 00:30 (ten minute intervals)\n",
    "\n",
    "# remove the the seconds (2 numbers + \":\")\n",
    "df['End time'] = df['End time'].str[:-3]\n",
    "\n",
    "# seems to work! steel data datetime is now e.g. 2023-02-06 01:05"
   ]
  },
  {
   "cell_type": "code",
   "execution_count": 47,
   "metadata": {},
   "outputs": [
    {
     "data": {
      "text/plain": [
       "Index(['Observation station', 'Year', 'Month', 'Day', 'Time [Local time]',\n",
       "       'Air temperature mean [°C]', 'Dew-point temperature mean [°C]',\n",
       "       'Cloud cover [1/8]', 'Air pressure mean [hPa]',\n",
       "       'Relative humidity mean [%]', 'Precipitation amount mean [mm]',\n",
       "       'Weather description', 'Horizontal visibility mean [m]'],\n",
       "      dtype='object')"
      ]
     },
     "execution_count": 47,
     "metadata": {},
     "output_type": "execute_result"
    }
   ],
   "source": [
    "df_weather.columns"
   ]
  },
  {
   "cell_type": "code",
   "execution_count": 48,
   "metadata": {},
   "outputs": [],
   "source": [
    "# Step 2: combine all weather time information into a new variable => End time (same as in steel data)\n",
    "df_weather['End time'] = df_weather['Year'].astype(str) + \"-\" + \\\n",
    "                         df_weather['Month'].astype(str).str.zfill(2) + \"-\" + \\\n",
    "                         df_weather['Day'].astype(str).str.zfill(2) + \" \" + \\\n",
    "                         df_weather['Time [Local time]'].astype(str)"
   ]
  },
  {
   "cell_type": "code",
   "execution_count": 49,
   "metadata": {},
   "outputs": [],
   "source": [
    "# logic of the astype(str).str above:\n",
    "# df_weather['Month'].astype(str) => convert this column into string\n",
    "# df_weather['Month'].str.zfill(2) => use Python's string -functions (str) -> zfill"
   ]
  },
  {
   "cell_type": "code",
   "execution_count": 50,
   "metadata": {},
   "outputs": [
    {
     "data": {
      "text/plain": [
       "0    2023-01-01 00:00\n",
       "1    2023-01-01 00:10\n",
       "2    2023-01-01 00:20\n",
       "Name: End time, dtype: object"
      ]
     },
     "execution_count": 50,
     "metadata": {},
     "output_type": "execute_result"
    }
   ],
   "source": [
    "# for comparison, steel data has the time: 2023-02-06 01:05\n",
    "df_weather.head(3)['End time']"
   ]
  },
  {
   "cell_type": "code",
   "execution_count": 51,
   "metadata": {},
   "outputs": [],
   "source": [
    "# Final step before merging: ROUND THE STEEL DATA minutes into the nearest tens of minutes\n",
    "# basically we can make a function for pandas to fix this\n",
    "# the idea: get the minutes from the time\n",
    "# => round the minutes to nearest 10\n",
    "# => convert minutes back to string => combine with the original time\n",
    "def fix_date(row):\n",
    "    date = row['End time']\n",
    "\n",
    "    # extract te minutes only from the date\n",
    "    minutes = int(date[-2:])\n",
    "\n",
    "    # round the minutes to the nearest ten (by using negative round decimal amount)\n",
    "    minutes = round(minutes, -1)\n",
    "\n",
    "    # rebuild the date string\n",
    "    # date[0:-2] => everything else except the minutes\n",
    "    result = date[0:-2] + str(minutes).zfill(2)\n",
    "    return result\n",
    "\n",
    "# apply the function and check results\n",
    "df['End time'] = df.apply(fix_date, axis=1)"
   ]
  },
  {
   "cell_type": "code",
   "execution_count": 52,
   "metadata": {},
   "outputs": [
    {
     "data": {
      "text/plain": [
       "182823    2023-03-05 05:40\n",
       "198363    2023-03-07 03:20\n",
       "545806    2023-04-16 14:60\n",
       "462658    2023-04-05 12:10\n",
       "522004    2023-04-13 04:30\n",
       "Name: End time, dtype: object"
      ]
     },
     "execution_count": 52,
     "metadata": {},
     "output_type": "execute_result"
    }
   ],
   "source": [
    "# take a random sample to see if all time stamps\n",
    "# are in the tens of minutes\n",
    "df['End time'].sample(5)"
   ]
  },
  {
   "cell_type": "markdown",
   "metadata": {},
   "source": [
    "#### Now we can proceed with merging the steel data and the weather\n"
   ]
  },
  {
   "cell_type": "code",
   "execution_count": 53,
   "metadata": {},
   "outputs": [
    {
     "data": {
      "text/plain": [
       "677815"
      ]
     },
     "execution_count": 53,
     "metadata": {},
     "output_type": "execute_result"
    }
   ],
   "source": [
    "# sanity check, how much data we have BEFORE MERGING\n",
    "# after merging, we should have exactly same amount of data in the end\n",
    "len(df)"
   ]
  },
  {
   "cell_type": "code",
   "execution_count": 54,
   "metadata": {},
   "outputs": [],
   "source": [
    "# merge data (very similar to SQL joins)\n",
    "df = df.merge(df_weather, left_on=\"End time\", right_on=\"End time\", how=\"left\")"
   ]
  },
  {
   "cell_type": "code",
   "execution_count": 55,
   "metadata": {},
   "outputs": [
    {
     "data": {
      "text/plain": [
       "677815"
      ]
     },
     "execution_count": 55,
     "metadata": {},
     "output_type": "execute_result"
    }
   ],
   "source": [
    "# sanity check 2 => do we still have exactly same amount of data?\n",
    "len(df)"
   ]
  },
  {
   "cell_type": "code",
   "execution_count": 56,
   "metadata": {},
   "outputs": [
    {
     "data": {
      "text/plain": [
       "Index(['Material Type', 'End time', 'Route', 'Weight', 'Length', 'Thickness',\n",
       "       'Width', 'Grade', 'Quality Status', 'Seg No', 'Seg from', 'Seg to',\n",
       "       'CCM.TD. Heat counter Value', 'CCM.TD. Temperature liquidus Value',\n",
       "       'CCM.TD. Temperature liquidus Dynaphase Value',\n",
       "       'CCM.TD. TD internals type Value', 'CCM.TD. Slag powder Value',\n",
       "       'CCM.TD. Stopper Type Value', 'CCM.TD. Steel weight in tundish Value',\n",
       "       'CCM.TD. Tundish inflow Value', 'CCM.TD. Stopper Last Position Value',\n",
       "       'CCM.TD. Stopper position max Value',\n",
       "       'CCM.TD. Stopper position min Value',\n",
       "       'CCM.TD. Stopper pos chg max segment Value',\n",
       "       'CCM.TD. Stopper position chg 10 s Value',\n",
       "       'CCM.TD. Stopper position slab chg Value', 'CCM.TD. Superheat Value',\n",
       "       'CCM.TD. Temperature tundish Value', 'CCM.SEN. SEN Type Value',\n",
       "       'CCM.SEN. Immersion depth Value', 'CCM.MD. Level average Value',\n",
       "       'CCM.MD. Level change (max-min) Value', 'CCM.MD. Level std_dev Value',\n",
       "       'CCM.MD. Level std_dev west Value', 'CCM.MD. Level std_dev east Value',\n",
       "       'CCM.MD. Mold width Value', 'CCM.MIX. Concentration factor Value',\n",
       "       'CCM.STR. Speed - Mold avg Value', 'CCM.STR. Throughput Value',\n",
       "       'CCM.SLAB. Slab counter heat Value',\n",
       "       'CCM.SLAB. Slab counter sequence Value', 'HeatNo_in_Cast',\n",
       "       'SlabNo_in_Heat', 'CastNo', 'Observation station', 'Year', 'Month',\n",
       "       'Day', 'Time [Local time]', 'Air temperature mean [°C]',\n",
       "       'Dew-point temperature mean [°C]', 'Cloud cover [1/8]',\n",
       "       'Air pressure mean [hPa]', 'Relative humidity mean [%]',\n",
       "       'Precipitation amount mean [mm]', 'Weather description',\n",
       "       'Horizontal visibility mean [m]'],\n",
       "      dtype='object')"
      ]
     },
     "execution_count": 56,
     "metadata": {},
     "output_type": "execute_result"
    }
   ],
   "source": [
    "df.columns"
   ]
  },
  {
   "cell_type": "code",
   "execution_count": 57,
   "metadata": {},
   "outputs": [],
   "source": [
    "# we no longer need the original weather data time columns (since we have the End time)\n",
    "df = df.drop(['Year', 'Month', 'Day', 'Time [Local time]',], axis=1)"
   ]
  },
  {
   "cell_type": "code",
   "execution_count": 58,
   "metadata": {},
   "outputs": [
    {
     "data": {
      "text/plain": [
       "53"
      ]
     },
     "execution_count": 58,
     "metadata": {},
     "output_type": "execute_result"
    }
   ],
   "source": [
    "len(df.columns)"
   ]
  },
  {
   "cell_type": "markdown",
   "metadata": {},
   "source": [
    "#### Proceed normally with fixing the steel data column format etc. as in previous examples"
   ]
  },
  {
   "cell_type": "code",
   "execution_count": 59,
   "metadata": {},
   "outputs": [],
   "source": [
    "# let's collect all numeric columns that need their commas converted to period => float number\n",
    "fixables = [\"Length\", \n",
    "            \"Thickness\",\n",
    "            'CCM.TD. Steel weight in tundish Value',\n",
    "            'CCM.TD. Tundish inflow Value', 'CCM.TD. Stopper Last Position Value',\n",
    "            'CCM.TD. Stopper position max Value',\n",
    "            'CCM.TD. Stopper position min Value',\n",
    "            'CCM.TD. Stopper pos chg max segment Value',\n",
    "            'CCM.TD. Stopper position chg 10 s Value',\n",
    "            'CCM.TD. Stopper position slab chg Value', \n",
    "            'CCM.MD. Level average Value',\n",
    "            'CCM.MD. Level change (max-min) Value', 'CCM.MD. Level std_dev Value',\n",
    "            'CCM.MD. Level std_dev west Value', 'CCM.MD. Level std_dev east Value',\n",
    "            'CCM.MIX. Concentration factor Value',\n",
    "            'CCM.STR. Speed - Mold avg Value', 'CCM.STR. Throughput Value'\n",
    "            ]\n",
    "\n",
    "# brute force and change datatype for each of thecolumns\n",
    "for column_name in fixables:\n",
    "    df[column_name] = df[column_name].astype(str).replace(regex=\",\", value=\".\")\n",
    "    df[column_name] = df[column_name].astype(float)"
   ]
  },
  {
   "cell_type": "code",
   "execution_count": 60,
   "metadata": {},
   "outputs": [
    {
     "data": {
      "text/plain": [
       "Index(['Material Type', 'End time', 'Route', 'Weight', 'Length', 'Thickness',\n",
       "       'Width', 'Grade', 'Quality Status', 'Seg No', 'Seg from', 'Seg to',\n",
       "       'CCM.TD. Heat counter Value', 'CCM.TD. Temperature liquidus Value',\n",
       "       'CCM.TD. Temperature liquidus Dynaphase Value',\n",
       "       'CCM.TD. TD internals type Value', 'CCM.TD. Slag powder Value',\n",
       "       'CCM.TD. Stopper Type Value', 'CCM.TD. Steel weight in tundish Value',\n",
       "       'CCM.TD. Tundish inflow Value', 'CCM.TD. Stopper Last Position Value',\n",
       "       'CCM.TD. Stopper position max Value',\n",
       "       'CCM.TD. Stopper position min Value',\n",
       "       'CCM.TD. Stopper pos chg max segment Value',\n",
       "       'CCM.TD. Stopper position chg 10 s Value',\n",
       "       'CCM.TD. Stopper position slab chg Value', 'CCM.TD. Superheat Value',\n",
       "       'CCM.TD. Temperature tundish Value', 'CCM.SEN. SEN Type Value',\n",
       "       'CCM.SEN. Immersion depth Value', 'CCM.MD. Level average Value',\n",
       "       'CCM.MD. Level change (max-min) Value', 'CCM.MD. Level std_dev Value',\n",
       "       'CCM.MD. Level std_dev west Value', 'CCM.MD. Level std_dev east Value',\n",
       "       'CCM.MD. Mold width Value', 'CCM.MIX. Concentration factor Value',\n",
       "       'CCM.STR. Speed - Mold avg Value', 'CCM.STR. Throughput Value',\n",
       "       'CCM.SLAB. Slab counter heat Value',\n",
       "       'CCM.SLAB. Slab counter sequence Value', 'HeatNo_in_Cast',\n",
       "       'SlabNo_in_Heat', 'CastNo', 'Observation station',\n",
       "       'Air temperature mean [°C]', 'Dew-point temperature mean [°C]',\n",
       "       'Cloud cover [1/8]', 'Air pressure mean [hPa]',\n",
       "       'Relative humidity mean [%]', 'Precipitation amount mean [mm]',\n",
       "       'Weather description', 'Horizontal visibility mean [m]'],\n",
       "      dtype='object')"
      ]
     },
     "execution_count": 60,
     "metadata": {},
     "output_type": "execute_result"
    }
   ],
   "source": [
    "df.columns"
   ]
  },
  {
   "cell_type": "code",
   "execution_count": 61,
   "metadata": {},
   "outputs": [],
   "source": [
    "# import dtale\n",
    "\n",
    "# the data is now different, instead of Material Name for being a unique identifier \n",
    "\n",
    "# we have Cast -> Heat -> Slab -> Seg No\n",
    "# One Cast usually provides ~4-8 amount of Heats, one heat usually provides 5-8 slabs\n",
    "# filter_df = df[['CastNo', 'HeatNo_in_Cast', 'SlabNo_in_Heat', 'Seg No', 'CCM.TD. Steel weight in tundish Value']]\n",
    "# dtale.show(filter_df).open_browser()"
   ]
  },
  {
   "cell_type": "markdown",
   "metadata": {},
   "source": [
    "## Before we filter only one cast/heat/slab (whatever the level), we have to process and combine the cast/heat/slab -numbers"
   ]
  },
  {
   "cell_type": "code",
   "execution_count": 62,
   "metadata": {},
   "outputs": [
    {
     "data": {
      "text/plain": [
       "array([100., 101., 102., 103., 104., 105., 106., 107., 108., 109., 110.,\n",
       "       111., 112., 113., 114., 115., 116., 117., 118., 119., 120., 121.,\n",
       "       122., 123., 124., 125., 126., 127., 128., 129., 130., 131., 132.,\n",
       "       133., 134., 135., 136., 137., 138., 139., 140., 141., 142., 143.,\n",
       "       144., 145., 146., 147., 148., 149., 150., 151., 152., 153., 154.,\n",
       "       155., 156., 157., 158., 159., 160., 161., 162., 163., 164., 165.,\n",
       "       166., 167., 168., 169., 170., 171., 172., 173., 174., 175., 176.,\n",
       "       177., 178., 179., 180., 181., 182., 183., 184., 185., 186., 187.,\n",
       "       188., 189., 190., 191., 192., 193., 194., 195., 196., 197., 198.,\n",
       "       199., 200., 201., 202., 203., 204., 205., 206., 207., 208., 209.,\n",
       "       210., 211., 212., 213., 214., 215., 216., 217., 218., 219., 220.,\n",
       "       221., 222., 223., 224., 225., 226., 227., 228., 229., 230., 231.,\n",
       "       232., 233., 234., 235., 236., 237., 238., 239., 240., 241., 242.,\n",
       "       243., 244., 245., 246., 247., 248.,  nan])"
      ]
     },
     "execution_count": 62,
     "metadata": {},
     "output_type": "execute_result"
    }
   ],
   "source": [
    "df['CastNo'].unique()"
   ]
  },
  {
   "cell_type": "markdown",
   "metadata": {},
   "source": [
    "### THIS IS THE PART WHERE YOU CAN CHANGE THE ACTIVE CAST VISUALIZED"
   ]
  },
  {
   "cell_type": "code",
   "execution_count": 86,
   "metadata": {},
   "outputs": [
    {
     "data": {
      "application/vnd.microsoft.datawrangler.viewer.v0+json": {
       "columns": [
        {
         "name": "index",
         "rawType": "int64",
         "type": "integer"
        },
        {
         "name": "Material Type",
         "rawType": "object",
         "type": "string"
        },
        {
         "name": "End time",
         "rawType": "object",
         "type": "string"
        },
        {
         "name": "Route",
         "rawType": "object",
         "type": "string"
        },
        {
         "name": "Weight",
         "rawType": "int64",
         "type": "integer"
        },
        {
         "name": "Length",
         "rawType": "float64",
         "type": "float"
        },
        {
         "name": "Thickness",
         "rawType": "float64",
         "type": "float"
        },
        {
         "name": "Width",
         "rawType": "int64",
         "type": "integer"
        },
        {
         "name": "Grade",
         "rawType": "object",
         "type": "string"
        },
        {
         "name": "Quality Status",
         "rawType": "object",
         "type": "string"
        },
        {
         "name": "Seg No",
         "rawType": "int64",
         "type": "integer"
        },
        {
         "name": "Seg from",
         "rawType": "object",
         "type": "string"
        },
        {
         "name": "Seg to",
         "rawType": "object",
         "type": "string"
        },
        {
         "name": "CCM.TD. Heat counter Value",
         "rawType": "float64",
         "type": "float"
        },
        {
         "name": "CCM.TD. Temperature liquidus Value",
         "rawType": "float64",
         "type": "float"
        },
        {
         "name": "CCM.TD. Temperature liquidus Dynaphase Value",
         "rawType": "float64",
         "type": "float"
        },
        {
         "name": "CCM.TD. TD internals type Value",
         "rawType": "object",
         "type": "string"
        },
        {
         "name": "CCM.TD. Slag powder Value",
         "rawType": "object",
         "type": "string"
        },
        {
         "name": "CCM.TD. Stopper Type Value",
         "rawType": "object",
         "type": "string"
        },
        {
         "name": "CCM.TD. Steel weight in tundish Value",
         "rawType": "float64",
         "type": "float"
        },
        {
         "name": "CCM.TD. Tundish inflow Value",
         "rawType": "float64",
         "type": "float"
        },
        {
         "name": "CCM.TD. Stopper Last Position Value",
         "rawType": "float64",
         "type": "float"
        },
        {
         "name": "CCM.TD. Stopper position max Value",
         "rawType": "float64",
         "type": "float"
        },
        {
         "name": "CCM.TD. Stopper position min Value",
         "rawType": "float64",
         "type": "float"
        },
        {
         "name": "CCM.TD. Stopper pos chg max segment Value",
         "rawType": "float64",
         "type": "float"
        },
        {
         "name": "CCM.TD. Stopper position chg 10 s Value",
         "rawType": "float64",
         "type": "float"
        },
        {
         "name": "CCM.TD. Stopper position slab chg Value",
         "rawType": "float64",
         "type": "float"
        },
        {
         "name": "CCM.TD. Superheat Value",
         "rawType": "float64",
         "type": "float"
        },
        {
         "name": "CCM.TD. Temperature tundish Value",
         "rawType": "float64",
         "type": "float"
        },
        {
         "name": "CCM.SEN. SEN Type Value",
         "rawType": "object",
         "type": "string"
        },
        {
         "name": "CCM.SEN. Immersion depth Value",
         "rawType": "float64",
         "type": "float"
        },
        {
         "name": "CCM.MD. Level average Value",
         "rawType": "float64",
         "type": "float"
        },
        {
         "name": "CCM.MD. Level change (max-min) Value",
         "rawType": "float64",
         "type": "float"
        },
        {
         "name": "CCM.MD. Level std_dev Value",
         "rawType": "float64",
         "type": "float"
        },
        {
         "name": "CCM.MD. Level std_dev west Value",
         "rawType": "float64",
         "type": "float"
        },
        {
         "name": "CCM.MD. Level std_dev east Value",
         "rawType": "float64",
         "type": "float"
        },
        {
         "name": "CCM.MD. Mold width Value",
         "rawType": "float64",
         "type": "float"
        },
        {
         "name": "CCM.MIX. Concentration factor Value",
         "rawType": "float64",
         "type": "float"
        },
        {
         "name": "CCM.STR. Speed - Mold avg Value",
         "rawType": "float64",
         "type": "float"
        },
        {
         "name": "CCM.STR. Throughput Value",
         "rawType": "float64",
         "type": "float"
        },
        {
         "name": "CCM.SLAB. Slab counter heat Value",
         "rawType": "float64",
         "type": "float"
        },
        {
         "name": "CCM.SLAB. Slab counter sequence Value",
         "rawType": "float64",
         "type": "float"
        },
        {
         "name": "HeatNo_in_Cast",
         "rawType": "int64",
         "type": "integer"
        },
        {
         "name": "SlabNo_in_Heat",
         "rawType": "object",
         "type": "unknown"
        },
        {
         "name": "CastNo",
         "rawType": "float64",
         "type": "float"
        },
        {
         "name": "Observation station",
         "rawType": "object",
         "type": "string"
        },
        {
         "name": "Air temperature mean [°C]",
         "rawType": "object",
         "type": "string"
        },
        {
         "name": "Dew-point temperature mean [°C]",
         "rawType": "object",
         "type": "string"
        },
        {
         "name": "Cloud cover [1/8]",
         "rawType": "object",
         "type": "string"
        },
        {
         "name": "Air pressure mean [hPa]",
         "rawType": "object",
         "type": "string"
        },
        {
         "name": "Relative humidity mean [%]",
         "rawType": "object",
         "type": "string"
        },
        {
         "name": "Precipitation amount mean [mm]",
         "rawType": "object",
         "type": "string"
        },
        {
         "name": "Weather description",
         "rawType": "object",
         "type": "string"
        },
        {
         "name": "Horizontal visibility mean [m]",
         "rawType": "object",
         "type": "string"
        }
       ],
       "conversionMethod": "pd.DataFrame",
       "ref": "86a158ee-1686-4180-93d9-7c8d95955088",
       "rows": [
        [
         "56705",
         "slab",
         "2023-02-15 01:20",
         "Route 1",
         "23263",
         "11.51",
         "202.0",
         "1284",
         "720-1",
         "ERROR",
         "1",
         "0,0",
         "0,1",
         "1.0",
         "1455.0",
         "1460.0",
         "No controller",
         "Yes",
         "T2",
         "3.0",
         null,
         "72.1",
         "73.6",
         "65.5",
         "8.1",
         "3.1",
         "17.9",
         "44.0",
         "1499.0",
         "Product 2",
         "200.0",
         "785.05",
         "51.5",
         "16.8",
         "16.9",
         "16.4",
         "1284.0",
         "0.0",
         "0.57",
         "1.14",
         "1.0",
         "1.0",
         "2212",
         "1",
         "114.0",
         "Tornio Torppi",
         "-7.3",
         "-8.1",
         "Clear (1/8)",
         "1020.8",
         "94",
         "0",
         "No significant weather",
         "50000"
        ],
        [
         "56706",
         "slab",
         "2023-02-15 01:20",
         "Route 1",
         "23263",
         "11.51",
         "202.0",
         "1284",
         "720-1",
         "ERROR",
         "2",
         "0,1",
         "0,2",
         "1.0",
         "1455.0",
         "1460.0",
         "No controller",
         "Yes",
         "T2",
         "12.5",
         null,
         "72.4",
         "73.6",
         "65.5",
         "8.1",
         "3.1",
         "17.9",
         "44.0",
         "1499.0",
         "Product 2",
         "201.0",
         "786.56",
         "51.5",
         "16.8",
         "16.9",
         "16.4",
         "1284.0",
         "0.0",
         "0.61",
         "1.22",
         "1.0",
         "1.0",
         "2212",
         "1",
         "114.0",
         "Tornio Torppi",
         "-7.3",
         "-8.1",
         "Clear (1/8)",
         "1020.8",
         "94",
         "0",
         "No significant weather",
         "50000"
        ],
        [
         "56707",
         "slab",
         "2023-02-15 01:20",
         "Route 1",
         "23263",
         "11.51",
         "202.0",
         "1284",
         "720-1",
         "ERROR",
         "3",
         "0,2",
         "0,3",
         "1.0",
         "1455.0",
         "1460.0",
         "No controller",
         "Yes",
         "T2",
         "12.5",
         null,
         "72.9",
         "74.1",
         "65.5",
         "8.6",
         "3.1",
         "17.9",
         "44.0",
         "1499.0",
         "Product 2",
         "201.0",
         "788.2",
         "51.5",
         "16.8",
         "16.9",
         "16.4",
         "1284.0",
         "0.0",
         "0.63",
         "1.25",
         "1.0",
         "1.0",
         "2212",
         "1",
         "114.0",
         "Tornio Torppi",
         "-7.3",
         "-8.1",
         "Clear (1/8)",
         "1020.8",
         "94",
         "0",
         "No significant weather",
         "50000"
        ]
       ],
       "shape": {
        "columns": 53,
        "rows": 3
       }
      },
      "text/html": [
       "<div>\n",
       "<style scoped>\n",
       "    .dataframe tbody tr th:only-of-type {\n",
       "        vertical-align: middle;\n",
       "    }\n",
       "\n",
       "    .dataframe tbody tr th {\n",
       "        vertical-align: top;\n",
       "    }\n",
       "\n",
       "    .dataframe thead th {\n",
       "        text-align: right;\n",
       "    }\n",
       "</style>\n",
       "<table border=\"1\" class=\"dataframe\">\n",
       "  <thead>\n",
       "    <tr style=\"text-align: right;\">\n",
       "      <th></th>\n",
       "      <th>Material Type</th>\n",
       "      <th>End time</th>\n",
       "      <th>Route</th>\n",
       "      <th>Weight</th>\n",
       "      <th>Length</th>\n",
       "      <th>Thickness</th>\n",
       "      <th>Width</th>\n",
       "      <th>Grade</th>\n",
       "      <th>Quality Status</th>\n",
       "      <th>Seg No</th>\n",
       "      <th>...</th>\n",
       "      <th>CastNo</th>\n",
       "      <th>Observation station</th>\n",
       "      <th>Air temperature mean [°C]</th>\n",
       "      <th>Dew-point temperature mean [°C]</th>\n",
       "      <th>Cloud cover [1/8]</th>\n",
       "      <th>Air pressure mean [hPa]</th>\n",
       "      <th>Relative humidity mean [%]</th>\n",
       "      <th>Precipitation amount mean [mm]</th>\n",
       "      <th>Weather description</th>\n",
       "      <th>Horizontal visibility mean [m]</th>\n",
       "    </tr>\n",
       "  </thead>\n",
       "  <tbody>\n",
       "    <tr>\n",
       "      <th>56705</th>\n",
       "      <td>slab</td>\n",
       "      <td>2023-02-15 01:20</td>\n",
       "      <td>Route 1</td>\n",
       "      <td>23263</td>\n",
       "      <td>11.51</td>\n",
       "      <td>202.0</td>\n",
       "      <td>1284</td>\n",
       "      <td>720-1</td>\n",
       "      <td>ERROR</td>\n",
       "      <td>1</td>\n",
       "      <td>...</td>\n",
       "      <td>114.0</td>\n",
       "      <td>Tornio Torppi</td>\n",
       "      <td>-7.3</td>\n",
       "      <td>-8.1</td>\n",
       "      <td>Clear (1/8)</td>\n",
       "      <td>1020.8</td>\n",
       "      <td>94</td>\n",
       "      <td>0</td>\n",
       "      <td>No significant weather</td>\n",
       "      <td>50000</td>\n",
       "    </tr>\n",
       "    <tr>\n",
       "      <th>56706</th>\n",
       "      <td>slab</td>\n",
       "      <td>2023-02-15 01:20</td>\n",
       "      <td>Route 1</td>\n",
       "      <td>23263</td>\n",
       "      <td>11.51</td>\n",
       "      <td>202.0</td>\n",
       "      <td>1284</td>\n",
       "      <td>720-1</td>\n",
       "      <td>ERROR</td>\n",
       "      <td>2</td>\n",
       "      <td>...</td>\n",
       "      <td>114.0</td>\n",
       "      <td>Tornio Torppi</td>\n",
       "      <td>-7.3</td>\n",
       "      <td>-8.1</td>\n",
       "      <td>Clear (1/8)</td>\n",
       "      <td>1020.8</td>\n",
       "      <td>94</td>\n",
       "      <td>0</td>\n",
       "      <td>No significant weather</td>\n",
       "      <td>50000</td>\n",
       "    </tr>\n",
       "    <tr>\n",
       "      <th>56707</th>\n",
       "      <td>slab</td>\n",
       "      <td>2023-02-15 01:20</td>\n",
       "      <td>Route 1</td>\n",
       "      <td>23263</td>\n",
       "      <td>11.51</td>\n",
       "      <td>202.0</td>\n",
       "      <td>1284</td>\n",
       "      <td>720-1</td>\n",
       "      <td>ERROR</td>\n",
       "      <td>3</td>\n",
       "      <td>...</td>\n",
       "      <td>114.0</td>\n",
       "      <td>Tornio Torppi</td>\n",
       "      <td>-7.3</td>\n",
       "      <td>-8.1</td>\n",
       "      <td>Clear (1/8)</td>\n",
       "      <td>1020.8</td>\n",
       "      <td>94</td>\n",
       "      <td>0</td>\n",
       "      <td>No significant weather</td>\n",
       "      <td>50000</td>\n",
       "    </tr>\n",
       "  </tbody>\n",
       "</table>\n",
       "<p>3 rows × 53 columns</p>\n",
       "</div>"
      ],
      "text/plain": [
       "      Material Type          End time    Route  Weight  Length  Thickness  \\\n",
       "56705          slab  2023-02-15 01:20  Route 1   23263   11.51      202.0   \n",
       "56706          slab  2023-02-15 01:20  Route 1   23263   11.51      202.0   \n",
       "56707          slab  2023-02-15 01:20  Route 1   23263   11.51      202.0   \n",
       "\n",
       "       Width  Grade Quality Status  Seg No  ... CastNo Observation station  \\\n",
       "56705   1284  720-1          ERROR       1  ...  114.0       Tornio Torppi   \n",
       "56706   1284  720-1          ERROR       2  ...  114.0       Tornio Torppi   \n",
       "56707   1284  720-1          ERROR       3  ...  114.0       Tornio Torppi   \n",
       "\n",
       "       Air temperature mean [°C]  Dew-point temperature mean [°C]  \\\n",
       "56705                       -7.3                             -8.1   \n",
       "56706                       -7.3                             -8.1   \n",
       "56707                       -7.3                             -8.1   \n",
       "\n",
       "       Cloud cover [1/8] Air pressure mean [hPa] Relative humidity mean [%]  \\\n",
       "56705        Clear (1/8)                  1020.8                         94   \n",
       "56706        Clear (1/8)                  1020.8                         94   \n",
       "56707        Clear (1/8)                  1020.8                         94   \n",
       "\n",
       "      Precipitation amount mean [mm]     Weather description  \\\n",
       "56705                              0  No significant weather   \n",
       "56706                              0  No significant weather   \n",
       "56707                              0  No significant weather   \n",
       "\n",
       "       Horizontal visibility mean [m]  \n",
       "56705                           50000  \n",
       "56706                           50000  \n",
       "56707                           50000  \n",
       "\n",
       "[3 rows x 53 columns]"
      ]
     },
     "execution_count": 86,
     "metadata": {},
     "output_type": "execute_result"
    }
   ],
   "source": [
    "# filter out only one cast at a time\n",
    "# because there's too much data to visualize otherwise\n",
    "# selected_id = 170\n",
    "df_single = df[df['CastNo'].between(114, 116)]\n",
    "\n",
    "df_single.head(3)"
   ]
  },
  {
   "cell_type": "code",
   "execution_count": 64,
   "metadata": {},
   "outputs": [
    {
     "data": {
      "text/plain": [
       "[np.int64(2422), np.int64(1820)]"
      ]
     },
     "execution_count": 64,
     "metadata": {},
     "output_type": "execute_result"
    }
   ],
   "source": [
    "# for easier manipulation in future, we're going to replace the heat numbers with a more simple system\n",
    "# so instead of 2205, 2170 .... we'll replace them with 1, 2, 3, 4 etc.\n",
    "\n",
    "unique_heats = list(df_single['HeatNo_in_Cast'].unique())\n",
    "\n",
    "# this one seems to have 4 heats (cast with id 125)\n",
    "unique_heats"
   ]
  },
  {
   "cell_type": "code",
   "execution_count": 65,
   "metadata": {},
   "outputs": [
    {
     "name": "stderr",
     "output_type": "stream",
     "text": [
      "C:\\Users\\OMISTAJA\\AppData\\Local\\Temp\\ipykernel_17772\\3870752511.py:10: SettingWithCopyWarning: \n",
      "A value is trying to be set on a copy of a slice from a DataFrame.\n",
      "Try using .loc[row_indexer,col_indexer] = value instead\n",
      "\n",
      "See the caveats in the documentation: https://pandas.pydata.org/pandas-docs/stable/user_guide/indexing.html#returning-a-view-versus-a-copy\n",
      "  df_single['HeatNo_in_Cast'] = df_single['HeatNo_in_Cast'].map(replacement_dict)\n"
     ]
    }
   ],
   "source": [
    "# let's go through the four heat numbers\n",
    "# and collect them into a dictionary\n",
    "replacement_dict = {}\n",
    "\n",
    "for heat in unique_heats:\n",
    "    index = unique_heats.index(heat)\n",
    "    replacement_dict[heat] = index + 1\n",
    "\n",
    "replacement_dict\n",
    "df_single['HeatNo_in_Cast'] = df_single['HeatNo_in_Cast'].map(replacement_dict)"
   ]
  },
  {
   "cell_type": "code",
   "execution_count": 66,
   "metadata": {},
   "outputs": [
    {
     "data": {
      "text/plain": [
       "array([1, 2])"
      ]
     },
     "execution_count": 66,
     "metadata": {},
     "output_type": "execute_result"
    }
   ],
   "source": [
    "# seems to work!\n",
    "df_single['HeatNo_in_Cast'].unique()"
   ]
  },
  {
   "cell_type": "markdown",
   "metadata": {},
   "source": [
    "#### Sine we don't have Material Name (one id only) anymore, let's combine Cast -> Heat -> Slab -> Seg No into one single identifier"
   ]
  },
  {
   "cell_type": "code",
   "execution_count": 67,
   "metadata": {},
   "outputs": [
    {
     "name": "stderr",
     "output_type": "stream",
     "text": [
      "C:\\Users\\OMISTAJA\\AppData\\Local\\Temp\\ipykernel_17772\\3985312939.py:1: SettingWithCopyWarning: \n",
      "A value is trying to be set on a copy of a slice from a DataFrame.\n",
      "Try using .loc[row_indexer,col_indexer] = value instead\n",
      "\n",
      "See the caveats in the documentation: https://pandas.pydata.org/pandas-docs/stable/user_guide/indexing.html#returning-a-view-versus-a-copy\n",
      "  df_single['ProcessNo'] = df_single['HeatNo_in_Cast'].astype(str) + \\\n"
     ]
    }
   ],
   "source": [
    "df_single['ProcessNo'] = df_single['HeatNo_in_Cast'].astype(str) + \\\n",
    "                         df_single['SlabNo_in_Heat'].astype(str).str.zfill(2) + \\\n",
    "                         df_single['Seg No'].astype(str).str.zfill(2) \n",
    "\n",
    "\n",
    "# NOTE TO SELF! SlabNo_in_Heat can be A in some rare cases\n",
    "# this probably is supposed to be number 10 according to hexadecimal\n",
    "df_single = df_single.reset_index()\n",
    "df_single['indexno'] = df_single.index + 1"
   ]
  },
  {
   "cell_type": "code",
   "execution_count": 68,
   "metadata": {},
   "outputs": [],
   "source": [
    "# most probably a bug in matplotlib\n",
    "# if you visualize data with mixed integers and floats\n",
    "# the y-axis MIGHT be flipped (inverted)\n",
    "df_single['Relative humidity mean [%]'] = df_single['Relative humidity mean [%]'].astype(float)\n",
    "df_single['Air pressure mean [hPa]'] = df_single['Air pressure mean [hPa]'].astype(float)\n",
    "df_single['Dew-point temperature mean [°C]'] = df_single['Dew-point temperature mean [°C]'].astype(float)\n"
   ]
  },
  {
   "cell_type": "markdown",
   "metadata": {},
   "source": [
    "## From this point onward, we can just visualize as previously"
   ]
  },
  {
   "cell_type": "code",
   "execution_count": 69,
   "metadata": {},
   "outputs": [
    {
     "data": {
      "text/plain": [
       "Index(['Material Type', 'End time', 'Route', 'Weight', 'Length', 'Thickness',\n",
       "       'Width', 'Grade', 'Quality Status', 'Seg No', 'Seg from', 'Seg to',\n",
       "       'CCM.TD. Heat counter Value', 'CCM.TD. Temperature liquidus Value',\n",
       "       'CCM.TD. Temperature liquidus Dynaphase Value',\n",
       "       'CCM.TD. TD internals type Value', 'CCM.TD. Slag powder Value',\n",
       "       'CCM.TD. Stopper Type Value', 'CCM.TD. Steel weight in tundish Value',\n",
       "       'CCM.TD. Tundish inflow Value', 'CCM.TD. Stopper Last Position Value',\n",
       "       'CCM.TD. Stopper position max Value',\n",
       "       'CCM.TD. Stopper position min Value',\n",
       "       'CCM.TD. Stopper pos chg max segment Value',\n",
       "       'CCM.TD. Stopper position chg 10 s Value',\n",
       "       'CCM.TD. Stopper position slab chg Value', 'CCM.TD. Superheat Value',\n",
       "       'CCM.TD. Temperature tundish Value', 'CCM.SEN. SEN Type Value',\n",
       "       'CCM.SEN. Immersion depth Value', 'CCM.MD. Level average Value',\n",
       "       'CCM.MD. Level change (max-min) Value', 'CCM.MD. Level std_dev Value',\n",
       "       'CCM.MD. Level std_dev west Value', 'CCM.MD. Level std_dev east Value',\n",
       "       'CCM.MD. Mold width Value', 'CCM.MIX. Concentration factor Value',\n",
       "       'CCM.STR. Speed - Mold avg Value', 'CCM.STR. Throughput Value',\n",
       "       'CCM.SLAB. Slab counter heat Value',\n",
       "       'CCM.SLAB. Slab counter sequence Value', 'HeatNo_in_Cast',\n",
       "       'SlabNo_in_Heat', 'CastNo', 'Observation station',\n",
       "       'Air temperature mean [°C]', 'Dew-point temperature mean [°C]',\n",
       "       'Cloud cover [1/8]', 'Air pressure mean [hPa]',\n",
       "       'Relative humidity mean [%]', 'Precipitation amount mean [mm]',\n",
       "       'Weather description', 'Horizontal visibility mean [m]'],\n",
       "      dtype='object')"
      ]
     },
     "execution_count": 69,
     "metadata": {},
     "output_type": "execute_result"
    }
   ],
   "source": [
    "df.columns"
   ]
  },
  {
   "cell_type": "code",
   "execution_count": 70,
   "metadata": {},
   "outputs": [],
   "source": [
    "# we are going to use multi-line charts + df.melt() to visualize the process better\n",
    "# see \"ricebeefcoffee_revisited.ipynb\" from lecture 9 examples on how to work\n",
    "# with multiline + df.melt()\n",
    "\n",
    "# list all columns you want to see in the multiline chart\n",
    "columns_all = [\n",
    "       'Length', 'Thickness', 'Width', 'Seg No',\n",
    "       'CCM.TD. Heat counter Value',\n",
    "       'CCM.TD. Temperature liquidus Value',\n",
    "       'CCM.TD. Temperature liquidus Dynaphase Value',\n",
    "       'CCM.TD. Steel weight in tundish Value',\n",
    "       'CCM.TD. Tundish inflow Value', 'CCM.TD. Stopper Last Position Value',\n",
    "       'CCM.TD. Stopper position max Value',\n",
    "       'CCM.TD. Stopper position min Value',\n",
    "       'CCM.TD. Stopper pos chg max segment Value',\n",
    "       'CCM.TD. Stopper position chg 10 s Value',\n",
    "       'CCM.TD. Stopper position slab chg Value', 'CCM.TD. Superheat Value',\n",
    "       'CCM.TD. Temperature tundish Value', \n",
    "       'CCM.SEN. Immersion depth Value', 'CCM.MD. Level average Value',\n",
    "       'CCM.MD. Level change (max-min) Value', 'CCM.MD. Level std_dev Value',\n",
    "       'CCM.MD. Level std_dev west Value', 'CCM.MD. Level std_dev east Value',\n",
    "       'CCM.MD. Mold width Value', 'CCM.MIX. Concentration factor Value',\n",
    "       'CCM.STR. Speed - Mold avg Value', 'CCM.STR. Throughput Value',\n",
    "       'CCM.SLAB. Slab counter heat Value',\n",
    "       'CCM.SLAB. Slab counter sequence Value']\n",
    "\n",
    "# here we make more specific set of columns for easier visualization\n",
    "\n",
    "# IF WE TRY TO VISUALIZE ALL VARIABLES AT ONCE, we can see only straight\n",
    "# lines because the chart has to zoom out too much\n",
    "\n",
    "# group of columns with very high values\n",
    "columns_high = ['CCM.MD. Level average Value', 'Air pressure mean [hPa]']\n",
    "\n",
    "# group of columns with average value ranges \n",
    "columns_middle = ['CCM.TD. Stopper Last Position Value',\n",
    "       'CCM.TD. Stopper position max Value',\n",
    "       'CCM.TD. Stopper position min Value',\n",
    "       'CCM.TD. Steel weight in tundish Value',\n",
    "       'Relative humidity mean [%]']\n",
    "\n",
    "# group of columns with small value ranges\n",
    "columns_low = ['CCM.TD. Tundish inflow Value',\n",
    "                'CCM.MD. Level change (max-min) Value', 'CCM.MD. Level std_dev Value',\n",
    "       'CCM.MD. Level std_dev west Value', 'CCM.MD. Level std_dev east Value', 'CCM.MIX. Concentration factor Value',\n",
    "       'CCM.STR. Speed - Mold avg Value', 'CCM.STR. Throughput Value',]\n",
    "\n",
    "\n",
    "# even less columns in this version with small value ranges\n",
    "columns_low2 = ['CCM.TD. Tundish inflow Value',\n",
    "                'CCM.MD. Level std_dev Value',\n",
    "       'CCM.STR. Speed - Mold avg Value', 'CCM.STR. Throughput Value', 'Dew-point temperature mean [°C]']"
   ]
  },
  {
   "cell_type": "markdown",
   "metadata": {},
   "source": [
    "#### Create melt versions of some of the columns defined above"
   ]
  },
  {
   "cell_type": "code",
   "execution_count": 71,
   "metadata": {},
   "outputs": [],
   "source": [
    "# convert the data from original DataFrame into melt-version (long version)\n",
    "df_melt_high = pd.melt(df_single, id_vars=[\"ProcessNo\"], value_vars=columns_high,\n",
    "                  var_name=\"Measurement\", value_name=\"Value\")"
   ]
  },
  {
   "cell_type": "code",
   "execution_count": 72,
   "metadata": {},
   "outputs": [],
   "source": [
    "# convert the data from original DataFrame into melt-version (long version)\n",
    "df_melt_middle = pd.melt(df_single, id_vars=[\"ProcessNo\"], value_vars=columns_middle,\n",
    "                  var_name=\"Measurement\", value_name=\"Value\")"
   ]
  },
  {
   "cell_type": "code",
   "execution_count": 73,
   "metadata": {},
   "outputs": [],
   "source": [
    "# convert the data from original DataFrame into melt-version (long version)\n",
    "df_melt_low = pd.melt(df_single, id_vars=[\"ProcessNo\"], value_vars=columns_low,\n",
    "                  var_name=\"Measurement\", value_name=\"Value\")"
   ]
  },
  {
   "cell_type": "code",
   "execution_count": 74,
   "metadata": {},
   "outputs": [],
   "source": [
    "# convert the data from original DataFrame into melt-version (long version)\n",
    "df_melt_low2 = pd.melt(df_single, id_vars=[\"ProcessNo\"], value_vars=columns_low2,\n",
    "                  var_name=\"Measurement\", value_name=\"Value\")"
   ]
  },
  {
   "cell_type": "markdown",
   "metadata": {},
   "source": [
    "#### Plot the melt versions - multiline plot"
   ]
  },
  {
   "cell_type": "code",
   "execution_count": 75,
   "metadata": {},
   "outputs": [
    {
     "name": "stderr",
     "output_type": "stream",
     "text": [
      "C:\\Users\\OMISTAJA\\AppData\\Local\\Temp\\ipykernel_17772\\28441274.py:1: FutureWarning: \n",
      "\n",
      "The `ci` parameter is deprecated. Use `errorbar=None` for the same effect.\n",
      "\n",
      "  plot = sns.lineplot(data=df_melt_high, x=\"ProcessNo\", y=\"Value\", hue=\"Measurement\", ci=None)\n"
     ]
    },
    {
     "data": {
      "image/png": "[encoded data removed]",
      "text/plain": [
       "<Figure size 640x480 with 1 Axes>"
      ]
     },
     "metadata": {},
     "output_type": "display_data"
    }
   ],
   "source": [
    "plot = sns.lineplot(data=df_melt_high, x=\"ProcessNo\", y=\"Value\", hue=\"Measurement\", ci=None)\n",
    "sns.move_legend(plot, \"upper left\", bbox_to_anchor=(1,1))\n",
    "\n",
    "# reduce the number of x-labels\n",
    "n = len(df_single) / 20\n",
    "[l.set_visible(False) for (i, l) in enumerate(plot.xaxis.get_ticklabels()) if i % n != 0]\n",
    "\n",
    "# NOTE! using ; in the following line will suppress the Jupyter Notebook \n",
    "# default printing behavior of the last line (no idea why this happens!)\n",
    "plt.xticks(rotation=45);\n",
    "\n",
    "# you can now use the x-axis rought estimation of the Process No\n",
    "# if you wish to look the data in more detail of certain trends\n",
    "# Process No -> example: 20141 => Heat no 2 => slab no 02 => segment no 41"
   ]
  },
  {
   "cell_type": "code",
   "execution_count": 87,
   "metadata": {},
   "outputs": [
    {
     "name": "stderr",
     "output_type": "stream",
     "text": [
      "C:\\Users\\OMISTAJA\\AppData\\Local\\Temp\\ipykernel_17772\\1348748223.py:1: FutureWarning: \n",
      "\n",
      "The `ci` parameter is deprecated. Use `errorbar=None` for the same effect.\n",
      "\n",
      "  plot = sns.lineplot(data=df_melt_middle, x=\"ProcessNo\", y=\"Value\", hue=\"Measurement\", ci=None)\n"
     ]
    },
    {
     "data": {
      "image/png": "[encoded data removed]",
      "text/plain": [
       "<Figure size 640x480 with 1 Axes>"
      ]
     },
     "metadata": {},
     "output_type": "display_data"
    }
   ],
   "source": [
    "plot = sns.lineplot(data=df_melt_middle, x=\"ProcessNo\", y=\"Value\", hue=\"Measurement\", ci=None)\n",
    "sns.move_legend(plot, \"upper left\", bbox_to_anchor=(1,1))\n",
    "\n",
    "# reduce the number of x-labels\n",
    "n = len(df_single) / 20\n",
    "[l.set_visible(False) for (i, l) in enumerate(plot.xaxis.get_ticklabels()) if i % n != 0]\n",
    "\n",
    "# NOTE! using ; in the following line will suppress the Jupyter Notebook \n",
    "# default printing behavior of the last line (no idea why this happens!)\n",
    "plt.xticks(rotation=45);\n",
    "\n",
    "# you can now use the x-axis rought estimation of the Process No\n",
    "# if you wish to look the data in more detail of certain trends\n",
    "# Process No -> example: 20141 => Heat no 2 => slab no 02 => segment no 41"
   ]
  },
  {
   "cell_type": "code",
   "execution_count": 91,
   "metadata": {},
   "outputs": [],
   "source": [
    "df_melt_middle_new = df_melt_middle[df_melt_middle['ProcessNo'] >= '470545']\n",
    "df_melt_middle_new2 = df_melt_middle_new[df_melt_middle_new['ProcessNo'] <= '480220']"
   ]
  },
  {
   "cell_type": "code",
   "execution_count": 92,
   "metadata": {},
   "outputs": [
    {
     "name": "stderr",
     "output_type": "stream",
     "text": [
      "C:\\Users\\OMISTAJA\\AppData\\Local\\Temp\\ipykernel_17772\\1348748223.py:1: FutureWarning: \n",
      "\n",
      "The `ci` parameter is deprecated. Use `errorbar=None` for the same effect.\n",
      "\n",
      "  plot = sns.lineplot(data=df_melt_middle, x=\"ProcessNo\", y=\"Value\", hue=\"Measurement\", ci=None)\n"
     ]
    },
    {
     "data": {
      "image/png": "[encoded data removed]",
      "text/plain": [
       "<Figure size 640x480 with 1 Axes>"
      ]
     },
     "metadata": {},
     "output_type": "display_data"
    }
   ],
   "source": [
    "plot = sns.lineplot(data=df_melt_middle, x=\"ProcessNo\", y=\"Value\", hue=\"Measurement\", ci=None)\n",
    "sns.move_legend(plot, \"upper left\", bbox_to_anchor=(1,1))\n",
    "\n",
    "# reduce the number of x-labels\n",
    "n = len(df_single) / 20\n",
    "[l.set_visible(False) for (i, l) in enumerate(plot.xaxis.get_ticklabels()) if i % n != 0]\n",
    "\n",
    "# NOTE! using ; in the following line will suppress the Jupyter Notebook \n",
    "# default printing behavior of the last line (no idea why this happens!)\n",
    "plt.xticks(rotation=45);\n",
    "\n",
    "# you can now use the x-axis rought estimation of the Process No\n",
    "# if you wish to look the data in more detail of certain trends\n",
    "# Process No -> example: 20141 => Heat no 2 => slab no 02 => segment no 41"
   ]
  },
  {
   "cell_type": "code",
   "execution_count": 77,
   "metadata": {},
   "outputs": [
    {
     "name": "stderr",
     "output_type": "stream",
     "text": [
      "C:\\Users\\OMISTAJA\\AppData\\Local\\Temp\\ipykernel_17772\\1380509092.py:1: FutureWarning: \n",
      "\n",
      "The `ci` parameter is deprecated. Use `errorbar=None` for the same effect.\n",
      "\n",
      "  plot = sns.lineplot(data=df_melt_low, x=\"ProcessNo\", y=\"Value\", hue=\"Measurement\", ci=None)\n"
     ]
    },
    {
     "data": {
      "image/png": "[encoded data removed]",
      "text/plain": [
       "<Figure size 640x480 with 1 Axes>"
      ]
     },
     "metadata": {},
     "output_type": "display_data"
    }
   ],
   "source": [
    "plot = sns.lineplot(data=df_melt_low, x=\"ProcessNo\", y=\"Value\", hue=\"Measurement\", ci=None)\n",
    "sns.move_legend(plot, \"upper left\", bbox_to_anchor=(1,1))\n",
    "\n",
    "# reduce the number of x-labels\n",
    "n = len(df_single) / 20\n",
    "[l.set_visible(False) for (i, l) in enumerate(plot.xaxis.get_ticklabels()) if i % n != 0]\n",
    "\n",
    "# NOTE! using ; in the following line will suppress the Jupyter Notebook \n",
    "# default printing behavior of the last line (no idea why this happens!)\n",
    "plt.xticks(rotation=45);\n",
    "\n",
    "# you can now use the x-axis rought estimation of the Process No\n",
    "# if you wish to look the data in more detail of certain trends\n",
    "# Process No -> example: 20141 => Heat no 2 => slab no 02 => segment no 41"
   ]
  },
  {
   "cell_type": "code",
   "execution_count": 78,
   "metadata": {},
   "outputs": [
    {
     "name": "stderr",
     "output_type": "stream",
     "text": [
      "C:\\Users\\OMISTAJA\\AppData\\Local\\Temp\\ipykernel_17772\\3849219590.py:1: FutureWarning: \n",
      "\n",
      "The `ci` parameter is deprecated. Use `errorbar=None` for the same effect.\n",
      "\n",
      "  plot = sns.lineplot(data=df_melt_low2, x=\"ProcessNo\", y=\"Value\", hue=\"Measurement\", ci=None)\n"
     ]
    },
    {
     "data": {
      "image/png": "[encoded data removed]",
      "text/plain": [
       "<Figure size 640x480 with 1 Axes>"
      ]
     },
     "metadata": {},
     "output_type": "display_data"
    }
   ],
   "source": [
    "plot = sns.lineplot(data=df_melt_low2, x=\"ProcessNo\", y=\"Value\", hue=\"Measurement\", ci=None)\n",
    "sns.move_legend(plot, \"upper left\", bbox_to_anchor=(1,1))\n",
    "\n",
    "\n",
    "# reduce the number of x-labels\n",
    "n = len(df_single) / 20\n",
    "[l.set_visible(False) for (i, l) in enumerate(plot.xaxis.get_ticklabels()) if i % n != 0]\n",
    "\n",
    "# NOTE! using ; in the following line will suppress the Jupyter Notebook \n",
    "# default printing behavior of the last line (no idea why this happens!)\n",
    "plt.xticks(rotation=45);\n",
    "\n",
    "# you can now use the x-axis rought estimation of the Process No\n",
    "# if you wish to look the data in more detail of certain trends\n",
    "# Process No -> example: 20141 => Heat no 2 => slab no 02 => segment no 41"
   ]
  },
  {
   "cell_type": "code",
   "execution_count": 79,
   "metadata": {},
   "outputs": [
    {
     "data": {
      "text/plain": [
       "0      -6.1\n",
       "1      -6.1\n",
       "2      -6.1\n",
       "3      -6.1\n",
       "4      -6.1\n",
       "       ... \n",
       "1460   -6.9\n",
       "1461   -6.9\n",
       "1462   -6.9\n",
       "1463   -6.9\n",
       "1464   -6.9\n",
       "Name: Dew-point temperature mean [°C], Length: 1465, dtype: float64"
      ]
     },
     "execution_count": 79,
     "metadata": {},
     "output_type": "execute_result"
    }
   ],
   "source": [
    "df_single['Dew-point temperature mean [°C]']"
   ]
  },
  {
   "cell_type": "code",
   "execution_count": 80,
   "metadata": {},
   "outputs": [
    {
     "data": {
      "text/plain": [
       "np.float64(-6.1)"
      ]
     },
     "execution_count": 80,
     "metadata": {},
     "output_type": "execute_result"
    }
   ],
   "source": [
    "df_single['Dew-point temperature mean [°C]'].max()"
   ]
  },
  {
   "cell_type": "code",
   "execution_count": 81,
   "metadata": {},
   "outputs": [
    {
     "data": {
      "text/plain": [
       "CCM.TD. Stopper Type Value\n",
       "T1    1465\n",
       "Name: count, dtype: int64"
      ]
     },
     "execution_count": 81,
     "metadata": {},
     "output_type": "execute_result"
    }
   ],
   "source": [
    "# compare Casts 100, 125, 171 \n",
    "# different stopper are in use, how does this correlate with the \n",
    "# phenomena we see in the data!\n",
    "df_single['CCM.TD. Stopper Type Value'].value_counts()"
   ]
  },
  {
   "cell_type": "code",
   "execution_count": 82,
   "metadata": {},
   "outputs": [
    {
     "data": {
      "text/plain": [
       "CCM.TD. Stopper Type Value\n",
       "T1    492838\n",
       "T2    182690\n",
       "Name: count, dtype: int64"
      ]
     },
     "execution_count": 82,
     "metadata": {},
     "output_type": "execute_result"
    }
   ],
   "source": [
    "# it seems stopper type T1 is the most common stopper type\n",
    "df['CCM.TD. Stopper Type Value'].value_counts()"
   ]
  },
  {
   "cell_type": "code",
   "execution_count": 83,
   "metadata": {},
   "outputs": [],
   "source": [
    "# stopper type, steel grade, SEN type ... do these correlate/associate in any way?\n",
    "# does variation differ between stopper types? (e.g. is one of the types more prone\n",
    "# to clogging in the long run etc.)"
   ]
  },
  {
   "cell_type": "code",
   "execution_count": 84,
   "metadata": {},
   "outputs": [
    {
     "data": {
      "text/plain": [
       "count    1465.000000\n",
       "mean       -6.377406\n",
       "std         0.296683\n",
       "min        -6.900000\n",
       "25%        -6.600000\n",
       "50%        -6.200000\n",
       "75%        -6.200000\n",
       "max        -6.100000\n",
       "Name: Dew-point temperature mean [°C], dtype: float64"
      ]
     },
     "execution_count": 84,
     "metadata": {},
     "output_type": "execute_result"
    }
   ],
   "source": [
    "df_single['Dew-point temperature mean [°C]'].describe()"
   ]
  }
 ],
 "metadata": {
  "kernelspec": {
   "display_name": ".venv",
   "language": "python",
   "name": "python3"
  },
  "language_info": {
   "codemirror_mode": {
    "name": "ipython",
    "version": 3
   },
   "file_extension": ".py",
   "mimetype": "text/x-python",
   "name": "python",
   "nbconvert_exporter": "python",
   "pygments_lexer": "ipython3",
   "version": "3.10.11"
  }
 },
 "nbformat": 4,
 "nbformat_minor": 2
}
