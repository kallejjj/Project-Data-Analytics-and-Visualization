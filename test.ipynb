{
 "cells": [
  {
   "cell_type": "code",
   "execution_count": 44,
   "metadata": {},
   "outputs": [
    {
     "name": "stdout",
     "output_type": "stream",
     "text": [
      "Hello\n"
     ]
    }
   ],
   "source": [
    "print('Hello')"
   ]
  },
  {
   "cell_type": "code",
   "execution_count": 45,
   "metadata": {},
   "outputs": [],
   "source": [
    "import pandas as pd\n",
    "import seaborn as sns"
   ]
  },
  {
   "cell_type": "code",
   "execution_count": 46,
   "metadata": {},
   "outputs": [
    {
     "name": "stderr",
     "output_type": "stream",
     "text": [
      "C:\\Users\\kalle\\AppData\\Local\\Temp\\ipykernel_23664\\3465785326.py:1: DtypeWarning: Columns (42) have mixed types. Specify dtype option on import or set low_memory=False.\n",
      "  df = pd.read_csv('data/sulatto_fulldata2025_version2.csv', delimiter=\";\", index_col=None)\n"
     ]
    }
   ],
   "source": [
    "df = pd.read_csv('data/sulatto_fulldata2025_version2.csv', delimiter=\";\", index_col=None)"
   ]
  },
  {
   "cell_type": "code",
   "execution_count": 47,
   "metadata": {},
   "outputs": [
    {
     "data": {
      "text/html": [
       "<div>\n",
       "<style scoped>\n",
       "    .dataframe tbody tr th:only-of-type {\n",
       "        vertical-align: middle;\n",
       "    }\n",
       "\n",
       "    .dataframe tbody tr th {\n",
       "        vertical-align: top;\n",
       "    }\n",
       "\n",
       "    .dataframe thead th {\n",
       "        text-align: right;\n",
       "    }\n",
       "</style>\n",
       "<table border=\"1\" class=\"dataframe\">\n",
       "  <thead>\n",
       "    <tr style=\"text-align: right;\">\n",
       "      <th></th>\n",
       "      <th>Material Type</th>\n",
       "      <th>End time</th>\n",
       "      <th>Route</th>\n",
       "      <th>Weight</th>\n",
       "      <th>Length</th>\n",
       "      <th>Thickness</th>\n",
       "      <th>Width</th>\n",
       "      <th>Grade</th>\n",
       "      <th>Quality Status</th>\n",
       "      <th>Seg No</th>\n",
       "      <th>...</th>\n",
       "      <th>CCM.MD. Level std_dev east Value</th>\n",
       "      <th>CCM.MD. Mold width Value</th>\n",
       "      <th>CCM.MIX. Concentration factor Value</th>\n",
       "      <th>CCM.STR. Speed - Mold avg Value</th>\n",
       "      <th>CCM.STR. Throughput Value</th>\n",
       "      <th>CCM.SLAB. Slab counter heat Value</th>\n",
       "      <th>CCM.SLAB. Slab counter sequence Value</th>\n",
       "      <th>HeatNo_in_Cast</th>\n",
       "      <th>SlabNo_in_Heat</th>\n",
       "      <th>CastNo</th>\n",
       "    </tr>\n",
       "  </thead>\n",
       "  <tbody>\n",
       "    <tr>\n",
       "      <th>0</th>\n",
       "      <td>slab</td>\n",
       "      <td>2023-02-06 01:05:11</td>\n",
       "      <td>Route 1</td>\n",
       "      <td>25783</td>\n",
       "      <td>10,63</td>\n",
       "      <td>202,000</td>\n",
       "      <td>1539</td>\n",
       "      <td>720-1</td>\n",
       "      <td>ERROR</td>\n",
       "      <td>1</td>\n",
       "      <td>...</td>\n",
       "      <td>12,50</td>\n",
       "      <td>1539.0</td>\n",
       "      <td>0,000</td>\n",
       "      <td>0,50</td>\n",
       "      <td>1,18</td>\n",
       "      <td>1.0</td>\n",
       "      <td>1.0</td>\n",
       "      <td>2821</td>\n",
       "      <td>1</td>\n",
       "      <td>100.0</td>\n",
       "    </tr>\n",
       "    <tr>\n",
       "      <th>1</th>\n",
       "      <td>slab</td>\n",
       "      <td>2023-02-06 01:05:11</td>\n",
       "      <td>Route 1</td>\n",
       "      <td>25783</td>\n",
       "      <td>10,63</td>\n",
       "      <td>202,000</td>\n",
       "      <td>1539</td>\n",
       "      <td>720-1</td>\n",
       "      <td>ERROR</td>\n",
       "      <td>2</td>\n",
       "      <td>...</td>\n",
       "      <td>12,50</td>\n",
       "      <td>1539.0</td>\n",
       "      <td>0,000</td>\n",
       "      <td>0,54</td>\n",
       "      <td>1,28</td>\n",
       "      <td>1.0</td>\n",
       "      <td>1.0</td>\n",
       "      <td>2821</td>\n",
       "      <td>1</td>\n",
       "      <td>100.0</td>\n",
       "    </tr>\n",
       "    <tr>\n",
       "      <th>2</th>\n",
       "      <td>slab</td>\n",
       "      <td>2023-02-06 01:05:11</td>\n",
       "      <td>Route 1</td>\n",
       "      <td>25783</td>\n",
       "      <td>10,63</td>\n",
       "      <td>202,000</td>\n",
       "      <td>1539</td>\n",
       "      <td>720-1</td>\n",
       "      <td>ERROR</td>\n",
       "      <td>3</td>\n",
       "      <td>...</td>\n",
       "      <td>12,50</td>\n",
       "      <td>1539.0</td>\n",
       "      <td>0,000</td>\n",
       "      <td>0,56</td>\n",
       "      <td>1,33</td>\n",
       "      <td>1.0</td>\n",
       "      <td>1.0</td>\n",
       "      <td>2821</td>\n",
       "      <td>1</td>\n",
       "      <td>100.0</td>\n",
       "    </tr>\n",
       "    <tr>\n",
       "      <th>3</th>\n",
       "      <td>slab</td>\n",
       "      <td>2023-02-06 01:05:11</td>\n",
       "      <td>Route 1</td>\n",
       "      <td>25783</td>\n",
       "      <td>10,63</td>\n",
       "      <td>202,000</td>\n",
       "      <td>1539</td>\n",
       "      <td>720-1</td>\n",
       "      <td>ERROR</td>\n",
       "      <td>4</td>\n",
       "      <td>...</td>\n",
       "      <td>12,50</td>\n",
       "      <td>1539.0</td>\n",
       "      <td>0,000</td>\n",
       "      <td>0,57</td>\n",
       "      <td>1,37</td>\n",
       "      <td>1.0</td>\n",
       "      <td>1.0</td>\n",
       "      <td>2821</td>\n",
       "      <td>1</td>\n",
       "      <td>100.0</td>\n",
       "    </tr>\n",
       "    <tr>\n",
       "      <th>4</th>\n",
       "      <td>slab</td>\n",
       "      <td>2023-02-06 01:05:11</td>\n",
       "      <td>Route 1</td>\n",
       "      <td>25783</td>\n",
       "      <td>10,63</td>\n",
       "      <td>202,000</td>\n",
       "      <td>1539</td>\n",
       "      <td>720-1</td>\n",
       "      <td>ERROR</td>\n",
       "      <td>5</td>\n",
       "      <td>...</td>\n",
       "      <td>12,50</td>\n",
       "      <td>1539.0</td>\n",
       "      <td>0,000</td>\n",
       "      <td>0,59</td>\n",
       "      <td>1,41</td>\n",
       "      <td>1.0</td>\n",
       "      <td>1.0</td>\n",
       "      <td>2821</td>\n",
       "      <td>1</td>\n",
       "      <td>100.0</td>\n",
       "    </tr>\n",
       "    <tr>\n",
       "      <th>...</th>\n",
       "      <td>...</td>\n",
       "      <td>...</td>\n",
       "      <td>...</td>\n",
       "      <td>...</td>\n",
       "      <td>...</td>\n",
       "      <td>...</td>\n",
       "      <td>...</td>\n",
       "      <td>...</td>\n",
       "      <td>...</td>\n",
       "      <td>...</td>\n",
       "      <td>...</td>\n",
       "      <td>...</td>\n",
       "      <td>...</td>\n",
       "      <td>...</td>\n",
       "      <td>...</td>\n",
       "      <td>...</td>\n",
       "      <td>...</td>\n",
       "      <td>...</td>\n",
       "      <td>...</td>\n",
       "      <td>...</td>\n",
       "      <td>...</td>\n",
       "    </tr>\n",
       "    <tr>\n",
       "      <th>677810</th>\n",
       "      <td>slab</td>\n",
       "      <td>2023-04-30 16:03:14</td>\n",
       "      <td>Route 1</td>\n",
       "      <td>13145</td>\n",
       "      <td>6,51</td>\n",
       "      <td>202,000</td>\n",
       "      <td>1284</td>\n",
       "      <td>720-1</td>\n",
       "      <td>ERROR</td>\n",
       "      <td>62</td>\n",
       "      <td>...</td>\n",
       "      <td>5,50</td>\n",
       "      <td>1284.0</td>\n",
       "      <td>0,000</td>\n",
       "      <td>0,30</td>\n",
       "      <td>0,64</td>\n",
       "      <td>8.0</td>\n",
       "      <td>53.0</td>\n",
       "      <td>1050</td>\n",
       "      <td>8</td>\n",
       "      <td>NaN</td>\n",
       "    </tr>\n",
       "    <tr>\n",
       "      <th>677811</th>\n",
       "      <td>slab</td>\n",
       "      <td>2023-04-30 16:03:14</td>\n",
       "      <td>Route 1</td>\n",
       "      <td>13145</td>\n",
       "      <td>6,51</td>\n",
       "      <td>202,000</td>\n",
       "      <td>1284</td>\n",
       "      <td>720-1</td>\n",
       "      <td>ERROR</td>\n",
       "      <td>63</td>\n",
       "      <td>...</td>\n",
       "      <td>5,50</td>\n",
       "      <td>1284.0</td>\n",
       "      <td>0,000</td>\n",
       "      <td>0,27</td>\n",
       "      <td>0,56</td>\n",
       "      <td>8.0</td>\n",
       "      <td>53.0</td>\n",
       "      <td>1050</td>\n",
       "      <td>8</td>\n",
       "      <td>NaN</td>\n",
       "    </tr>\n",
       "    <tr>\n",
       "      <th>677812</th>\n",
       "      <td>slab</td>\n",
       "      <td>2023-04-30 16:03:14</td>\n",
       "      <td>Route 1</td>\n",
       "      <td>13145</td>\n",
       "      <td>6,51</td>\n",
       "      <td>202,000</td>\n",
       "      <td>1284</td>\n",
       "      <td>720-1</td>\n",
       "      <td>ERROR</td>\n",
       "      <td>64</td>\n",
       "      <td>...</td>\n",
       "      <td>5,50</td>\n",
       "      <td>1284.0</td>\n",
       "      <td>0,000</td>\n",
       "      <td>0,26</td>\n",
       "      <td>0,51</td>\n",
       "      <td>8.0</td>\n",
       "      <td>53.0</td>\n",
       "      <td>1050</td>\n",
       "      <td>8</td>\n",
       "      <td>NaN</td>\n",
       "    </tr>\n",
       "    <tr>\n",
       "      <th>677813</th>\n",
       "      <td>slab</td>\n",
       "      <td>2023-04-30 16:03:14</td>\n",
       "      <td>Route 1</td>\n",
       "      <td>13145</td>\n",
       "      <td>6,51</td>\n",
       "      <td>202,000</td>\n",
       "      <td>1284</td>\n",
       "      <td>720-1</td>\n",
       "      <td>ERROR</td>\n",
       "      <td>65</td>\n",
       "      <td>...</td>\n",
       "      <td>5,50</td>\n",
       "      <td>1284.0</td>\n",
       "      <td>0,000</td>\n",
       "      <td>0,24</td>\n",
       "      <td>0,45</td>\n",
       "      <td>8.0</td>\n",
       "      <td>53.0</td>\n",
       "      <td>1050</td>\n",
       "      <td>8</td>\n",
       "      <td>NaN</td>\n",
       "    </tr>\n",
       "    <tr>\n",
       "      <th>677814</th>\n",
       "      <td>slab</td>\n",
       "      <td>2023-04-30 16:03:14</td>\n",
       "      <td>Route 1</td>\n",
       "      <td>13145</td>\n",
       "      <td>6,51</td>\n",
       "      <td>202,000</td>\n",
       "      <td>1284</td>\n",
       "      <td>720-1</td>\n",
       "      <td>ERROR</td>\n",
       "      <td>66</td>\n",
       "      <td>...</td>\n",
       "      <td>5,50</td>\n",
       "      <td>1284.0</td>\n",
       "      <td>0,000</td>\n",
       "      <td>0,24</td>\n",
       "      <td>0,45</td>\n",
       "      <td>8.0</td>\n",
       "      <td>53.0</td>\n",
       "      <td>1050</td>\n",
       "      <td>8</td>\n",
       "      <td>NaN</td>\n",
       "    </tr>\n",
       "  </tbody>\n",
       "</table>\n",
       "<p>677815 rows × 44 columns</p>\n",
       "</div>"
      ],
      "text/plain": [
       "       Material Type             End time    Route  Weight Length Thickness  \\\n",
       "0               slab  2023-02-06 01:05:11  Route 1   25783  10,63   202,000   \n",
       "1               slab  2023-02-06 01:05:11  Route 1   25783  10,63   202,000   \n",
       "2               slab  2023-02-06 01:05:11  Route 1   25783  10,63   202,000   \n",
       "3               slab  2023-02-06 01:05:11  Route 1   25783  10,63   202,000   \n",
       "4               slab  2023-02-06 01:05:11  Route 1   25783  10,63   202,000   \n",
       "...              ...                  ...      ...     ...    ...       ...   \n",
       "677810          slab  2023-04-30 16:03:14  Route 1   13145   6,51   202,000   \n",
       "677811          slab  2023-04-30 16:03:14  Route 1   13145   6,51   202,000   \n",
       "677812          slab  2023-04-30 16:03:14  Route 1   13145   6,51   202,000   \n",
       "677813          slab  2023-04-30 16:03:14  Route 1   13145   6,51   202,000   \n",
       "677814          slab  2023-04-30 16:03:14  Route 1   13145   6,51   202,000   \n",
       "\n",
       "        Width  Grade Quality Status  Seg No  ...  \\\n",
       "0        1539  720-1          ERROR       1  ...   \n",
       "1        1539  720-1          ERROR       2  ...   \n",
       "2        1539  720-1          ERROR       3  ...   \n",
       "3        1539  720-1          ERROR       4  ...   \n",
       "4        1539  720-1          ERROR       5  ...   \n",
       "...       ...    ...            ...     ...  ...   \n",
       "677810   1284  720-1          ERROR      62  ...   \n",
       "677811   1284  720-1          ERROR      63  ...   \n",
       "677812   1284  720-1          ERROR      64  ...   \n",
       "677813   1284  720-1          ERROR      65  ...   \n",
       "677814   1284  720-1          ERROR      66  ...   \n",
       "\n",
       "       CCM.MD. Level std_dev east Value CCM.MD. Mold width Value  \\\n",
       "0                                 12,50                   1539.0   \n",
       "1                                 12,50                   1539.0   \n",
       "2                                 12,50                   1539.0   \n",
       "3                                 12,50                   1539.0   \n",
       "4                                 12,50                   1539.0   \n",
       "...                                 ...                      ...   \n",
       "677810                             5,50                   1284.0   \n",
       "677811                             5,50                   1284.0   \n",
       "677812                             5,50                   1284.0   \n",
       "677813                             5,50                   1284.0   \n",
       "677814                             5,50                   1284.0   \n",
       "\n",
       "        CCM.MIX. Concentration factor Value  CCM.STR. Speed - Mold avg Value  \\\n",
       "0                                     0,000                             0,50   \n",
       "1                                     0,000                             0,54   \n",
       "2                                     0,000                             0,56   \n",
       "3                                     0,000                             0,57   \n",
       "4                                     0,000                             0,59   \n",
       "...                                     ...                              ...   \n",
       "677810                                0,000                             0,30   \n",
       "677811                                0,000                             0,27   \n",
       "677812                                0,000                             0,26   \n",
       "677813                                0,000                             0,24   \n",
       "677814                                0,000                             0,24   \n",
       "\n",
       "        CCM.STR. Throughput Value CCM.SLAB. Slab counter heat Value  \\\n",
       "0                            1,18                               1.0   \n",
       "1                            1,28                               1.0   \n",
       "2                            1,33                               1.0   \n",
       "3                            1,37                               1.0   \n",
       "4                            1,41                               1.0   \n",
       "...                           ...                               ...   \n",
       "677810                       0,64                               8.0   \n",
       "677811                       0,56                               8.0   \n",
       "677812                       0,51                               8.0   \n",
       "677813                       0,45                               8.0   \n",
       "677814                       0,45                               8.0   \n",
       "\n",
       "       CCM.SLAB. Slab counter sequence Value HeatNo_in_Cast SlabNo_in_Heat  \\\n",
       "0                                        1.0           2821              1   \n",
       "1                                        1.0           2821              1   \n",
       "2                                        1.0           2821              1   \n",
       "3                                        1.0           2821              1   \n",
       "4                                        1.0           2821              1   \n",
       "...                                      ...            ...            ...   \n",
       "677810                                  53.0           1050              8   \n",
       "677811                                  53.0           1050              8   \n",
       "677812                                  53.0           1050              8   \n",
       "677813                                  53.0           1050              8   \n",
       "677814                                  53.0           1050              8   \n",
       "\n",
       "       CastNo  \n",
       "0       100.0  \n",
       "1       100.0  \n",
       "2       100.0  \n",
       "3       100.0  \n",
       "4       100.0  \n",
       "...       ...  \n",
       "677810    NaN  \n",
       "677811    NaN  \n",
       "677812    NaN  \n",
       "677813    NaN  \n",
       "677814    NaN  \n",
       "\n",
       "[677815 rows x 44 columns]"
      ]
     },
     "execution_count": 47,
     "metadata": {},
     "output_type": "execute_result"
    }
   ],
   "source": [
    "df"
   ]
  },
  {
   "cell_type": "code",
   "execution_count": 48,
   "metadata": {},
   "outputs": [
    {
     "data": {
      "text/plain": [
       "1"
      ]
     },
     "execution_count": 48,
     "metadata": {},
     "output_type": "execute_result"
    }
   ],
   "source": [
    "df['Route'].nunique()\n",
    "# This can be dropped"
   ]
  },
  {
   "cell_type": "code",
   "execution_count": 49,
   "metadata": {},
   "outputs": [
    {
     "data": {
      "text/plain": [
       "1001"
      ]
     },
     "execution_count": 49,
     "metadata": {},
     "output_type": "execute_result"
    }
   ],
   "source": [
    "df['CCM.MIX. Concentration factor Value'].nunique()"
   ]
  },
  {
   "cell_type": "code",
   "execution_count": 50,
   "metadata": {},
   "outputs": [
    {
     "data": {
      "text/plain": [
       "1079"
      ]
     },
     "execution_count": 50,
     "metadata": {},
     "output_type": "execute_result"
    }
   ],
   "source": [
    "df['Weight'].nunique()"
   ]
  },
  {
   "cell_type": "code",
   "execution_count": 51,
   "metadata": {},
   "outputs": [
    {
     "data": {
      "text/plain": [
       "1"
      ]
     },
     "execution_count": 51,
     "metadata": {},
     "output_type": "execute_result"
    }
   ],
   "source": [
    "df['Thickness'].nunique()\n",
    "# Can be dropped"
   ]
  },
  {
   "cell_type": "code",
   "execution_count": 52,
   "metadata": {},
   "outputs": [
    {
     "data": {
      "text/plain": [
       "268"
      ]
     },
     "execution_count": 52,
     "metadata": {},
     "output_type": "execute_result"
    }
   ],
   "source": [
    "df['Length'].nunique()"
   ]
  },
  {
   "cell_type": "code",
   "execution_count": 53,
   "metadata": {},
   "outputs": [
    {
     "data": {
      "text/plain": [
       "37"
      ]
     },
     "execution_count": 53,
     "metadata": {},
     "output_type": "execute_result"
    }
   ],
   "source": [
    "df['Width'].nunique()"
   ]
  },
  {
   "cell_type": "markdown",
   "metadata": {},
   "source": [
    "We could maybe use Thickness * Length * Width to calculate Volume of slabs, to reduce the amount of columns."
   ]
  },
  {
   "cell_type": "code",
   "execution_count": 54,
   "metadata": {},
   "outputs": [
    {
     "data": {
      "text/plain": [
       "3"
      ]
     },
     "execution_count": 54,
     "metadata": {},
     "output_type": "execute_result"
    }
   ],
   "source": [
    "df['Quality Status'].nunique()"
   ]
  },
  {
   "cell_type": "code",
   "execution_count": 55,
   "metadata": {},
   "outputs": [
    {
     "data": {
      "text/plain": [
       "CCM.TD. Heat counter Value\n",
       "1.0     97364\n",
       "2.0     94453\n",
       "3.0     94178\n",
       "4.0     89181\n",
       "5.0     83450\n",
       "6.0     78774\n",
       "7.0     72487\n",
       "8.0     64651\n",
       "9.0      2094\n",
       "10.0      667\n",
       "Name: count, dtype: int64"
      ]
     },
     "execution_count": 55,
     "metadata": {},
     "output_type": "execute_result"
    }
   ],
   "source": [
    "df['CCM.TD. Heat counter Value'].value_counts()"
   ]
  },
  {
   "cell_type": "code",
   "execution_count": 56,
   "metadata": {},
   "outputs": [
    {
     "data": {
      "text/plain": [
       "1"
      ]
     },
     "execution_count": 56,
     "metadata": {},
     "output_type": "execute_result"
    }
   ],
   "source": [
    "df['CCM.TD. TD internals type Value'].nunique()\n",
    "# We can drop this"
   ]
  },
  {
   "cell_type": "code",
   "execution_count": 57,
   "metadata": {},
   "outputs": [
    {
     "data": {
      "text/plain": [
       "CCM.TD. Slag powder Value\n",
       "Yes    677299\n",
       "No        516\n",
       "Name: count, dtype: int64"
      ]
     },
     "execution_count": 57,
     "metadata": {},
     "output_type": "execute_result"
    }
   ],
   "source": [
    "df['CCM.TD. Slag powder Value'].value_counts()\n",
    "# Probably we don't need this"
   ]
  },
  {
   "cell_type": "code",
   "execution_count": 58,
   "metadata": {},
   "outputs": [
    {
     "data": {
      "text/plain": [
       "CCM.TD. Stopper Type Value\n",
       "T1    492838\n",
       "T2    182690\n",
       "Name: count, dtype: int64"
      ]
     },
     "execution_count": 58,
     "metadata": {},
     "output_type": "execute_result"
    }
   ],
   "source": [
    "df['CCM.TD. Stopper Type Value'].value_counts()"
   ]
  },
  {
   "cell_type": "code",
   "execution_count": 59,
   "metadata": {},
   "outputs": [
    {
     "data": {
      "text/plain": [
       "240"
      ]
     },
     "execution_count": 59,
     "metadata": {},
     "output_type": "execute_result"
    }
   ],
   "source": [
    "df['CCM.TD. Steel weight in tundish Value'].nunique()"
   ]
  },
  {
   "cell_type": "code",
   "execution_count": 60,
   "metadata": {},
   "outputs": [
    {
     "data": {
      "text/plain": [
       "1533"
      ]
     },
     "execution_count": 60,
     "metadata": {},
     "output_type": "execute_result"
    }
   ],
   "source": [
    "df['CCM.TD. Tundish inflow Value'].nunique()"
   ]
  },
  {
   "cell_type": "code",
   "execution_count": 61,
   "metadata": {},
   "outputs": [
    {
     "data": {
      "text/plain": [
       "534"
      ]
     },
     "execution_count": 61,
     "metadata": {},
     "output_type": "execute_result"
    }
   ],
   "source": [
    "df['CCM.TD. Stopper Last Position Value'].nunique()"
   ]
  },
  {
   "cell_type": "code",
   "execution_count": 62,
   "metadata": {},
   "outputs": [
    {
     "data": {
      "text/plain": [
       "548"
      ]
     },
     "execution_count": 62,
     "metadata": {},
     "output_type": "execute_result"
    }
   ],
   "source": [
    "df['CCM.TD. Stopper position min Value'].nunique()"
   ]
  },
  {
   "cell_type": "code",
   "execution_count": 63,
   "metadata": {},
   "outputs": [
    {
     "data": {
      "text/plain": [
       "137"
      ]
     },
     "execution_count": 63,
     "metadata": {},
     "output_type": "execute_result"
    }
   ],
   "source": [
    "df['CCM.TD. Stopper pos chg max segment Value'].nunique()"
   ]
  },
  {
   "cell_type": "code",
   "execution_count": 64,
   "metadata": {},
   "outputs": [
    {
     "data": {
      "text/plain": [
       "103"
      ]
     },
     "execution_count": 64,
     "metadata": {},
     "output_type": "execute_result"
    }
   ],
   "source": [
    "df['CCM.TD. Stopper position chg 10 s Value'].nunique()"
   ]
  },
  {
   "cell_type": "code",
   "execution_count": 65,
   "metadata": {},
   "outputs": [
    {
     "data": {
      "text/plain": [
       "CCM.SEN. SEN Type Value\n",
       "Product 1    471397\n",
       "Product 2    200963\n",
       "Name: count, dtype: int64"
      ]
     },
     "execution_count": 65,
     "metadata": {},
     "output_type": "execute_result"
    }
   ],
   "source": [
    "df['CCM.SEN. SEN Type Value'].value_counts()\n"
   ]
  },
  {
   "cell_type": "code",
   "execution_count": null,
   "metadata": {},
   "outputs": [],
   "source": []
  }
 ],
 "metadata": {
  "kernelspec": {
   "display_name": "Python 3",
   "language": "python",
   "name": "python3"
  },
  "language_info": {
   "codemirror_mode": {
    "name": "ipython",
    "version": 3
   },
   "file_extension": ".py",
   "mimetype": "text/x-python",
   "name": "python",
   "nbconvert_exporter": "python",
   "pygments_lexer": "ipython3",
   "version": "3.10.11"
  }
 },
 "nbformat": 4,
 "nbformat_minor": 2
}
